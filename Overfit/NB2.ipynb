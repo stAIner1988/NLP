{
  "cells": [
    {
      "cell_type": "markdown",
      "metadata": {
        "id": "8dZiMvk-NxZd"
      },
      "source": [
        "<img align=\"right\" width=\"400\" src=\"https://www.fhnw.ch/de/++theme++web16theme/assets/media/img/fachhochschule-nordwestschweiz-fhnw-logo.svg\" alt=\"FHNW Logo\">\n",
        "\n",
        "\n",
        "# German News Articles - Data inspection and baseline\n",
        "\n",
        "Reto Steiner\n",
        "\n",
        "\n",
        "## Links\n",
        "- [Ten Thousand German News Articles Dataset](https://tblock.github.io/10kGNAD/)"
      ]
    },
    {
      "cell_type": "code",
      "execution_count": 2,
      "metadata": {
        "id": "jsSGzb_JNxZf",
        "outputId": "4d5b5fad-6a06-4319-fb1f-6e227f12bc97",
        "colab": {
          "base_uri": "https://localhost:8080/"
        }
      },
      "outputs": [
        {
          "output_type": "stream",
          "name": "stdout",
          "text": [
            "Requirement already satisfied: fhnw-nlp-utils<0.9.0,>=0.8.0 in /usr/local/lib/python3.10/dist-packages (0.8.0)\n",
            "Requirement already satisfied: numpy in /usr/local/lib/python3.10/dist-packages (from fhnw-nlp-utils<0.9.0,>=0.8.0) (1.23.5)\n",
            "Requirement already satisfied: pandas in /usr/local/lib/python3.10/dist-packages (from fhnw-nlp-utils<0.9.0,>=0.8.0) (1.5.3)\n",
            "Requirement already satisfied: psutil in /usr/local/lib/python3.10/dist-packages (from fhnw-nlp-utils<0.9.0,>=0.8.0) (5.9.5)\n",
            "Requirement already satisfied: multiprocess in /usr/local/lib/python3.10/dist-packages (from fhnw-nlp-utils<0.9.0,>=0.8.0) (0.70.15)\n",
            "Requirement already satisfied: wget in /usr/local/lib/python3.10/dist-packages (from fhnw-nlp-utils<0.9.0,>=0.8.0) (3.2)\n",
            "Requirement already satisfied: gdown in /usr/local/lib/python3.10/dist-packages (from fhnw-nlp-utils<0.9.0,>=0.8.0) (4.6.6)\n",
            "Requirement already satisfied: scikit-learn in /usr/local/lib/python3.10/dist-packages (from fhnw-nlp-utils<0.9.0,>=0.8.0) (1.2.2)\n",
            "Requirement already satisfied: nltk in /usr/local/lib/python3.10/dist-packages (from fhnw-nlp-utils<0.9.0,>=0.8.0) (3.8.1)\n",
            "Requirement already satisfied: matplotlib in /usr/local/lib/python3.10/dist-packages (from fhnw-nlp-utils<0.9.0,>=0.8.0) (3.7.1)\n",
            "Requirement already satisfied: wordcloud in /usr/local/lib/python3.10/dist-packages (from fhnw-nlp-utils<0.9.0,>=0.8.0) (1.9.2)\n",
            "Requirement already satisfied: compound-split in /usr/local/lib/python3.10/dist-packages (from fhnw-nlp-utils<0.9.0,>=0.8.0) (1.0.2)\n",
            "Requirement already satisfied: pyarrow in /usr/local/lib/python3.10/dist-packages (from fhnw-nlp-utils<0.9.0,>=0.8.0) (9.0.0)\n",
            "Requirement already satisfied: filelock in /usr/local/lib/python3.10/dist-packages (from gdown->fhnw-nlp-utils<0.9.0,>=0.8.0) (3.12.4)\n",
            "Requirement already satisfied: requests[socks] in /usr/local/lib/python3.10/dist-packages (from gdown->fhnw-nlp-utils<0.9.0,>=0.8.0) (2.31.0)\n",
            "Requirement already satisfied: six in /usr/local/lib/python3.10/dist-packages (from gdown->fhnw-nlp-utils<0.9.0,>=0.8.0) (1.16.0)\n",
            "Requirement already satisfied: tqdm in /usr/local/lib/python3.10/dist-packages (from gdown->fhnw-nlp-utils<0.9.0,>=0.8.0) (4.66.1)\n",
            "Requirement already satisfied: beautifulsoup4 in /usr/local/lib/python3.10/dist-packages (from gdown->fhnw-nlp-utils<0.9.0,>=0.8.0) (4.11.2)\n",
            "Requirement already satisfied: contourpy>=1.0.1 in /usr/local/lib/python3.10/dist-packages (from matplotlib->fhnw-nlp-utils<0.9.0,>=0.8.0) (1.1.1)\n",
            "Requirement already satisfied: cycler>=0.10 in /usr/local/lib/python3.10/dist-packages (from matplotlib->fhnw-nlp-utils<0.9.0,>=0.8.0) (0.12.1)\n",
            "Requirement already satisfied: fonttools>=4.22.0 in /usr/local/lib/python3.10/dist-packages (from matplotlib->fhnw-nlp-utils<0.9.0,>=0.8.0) (4.43.1)\n",
            "Requirement already satisfied: kiwisolver>=1.0.1 in /usr/local/lib/python3.10/dist-packages (from matplotlib->fhnw-nlp-utils<0.9.0,>=0.8.0) (1.4.5)\n",
            "Requirement already satisfied: packaging>=20.0 in /usr/local/lib/python3.10/dist-packages (from matplotlib->fhnw-nlp-utils<0.9.0,>=0.8.0) (23.2)\n",
            "Requirement already satisfied: pillow>=6.2.0 in /usr/local/lib/python3.10/dist-packages (from matplotlib->fhnw-nlp-utils<0.9.0,>=0.8.0) (9.4.0)\n",
            "Requirement already satisfied: pyparsing>=2.3.1 in /usr/local/lib/python3.10/dist-packages (from matplotlib->fhnw-nlp-utils<0.9.0,>=0.8.0) (3.1.1)\n",
            "Requirement already satisfied: python-dateutil>=2.7 in /usr/local/lib/python3.10/dist-packages (from matplotlib->fhnw-nlp-utils<0.9.0,>=0.8.0) (2.8.2)\n",
            "Requirement already satisfied: dill>=0.3.7 in /usr/local/lib/python3.10/dist-packages (from multiprocess->fhnw-nlp-utils<0.9.0,>=0.8.0) (0.3.7)\n",
            "Requirement already satisfied: click in /usr/local/lib/python3.10/dist-packages (from nltk->fhnw-nlp-utils<0.9.0,>=0.8.0) (8.1.7)\n",
            "Requirement already satisfied: joblib in /usr/local/lib/python3.10/dist-packages (from nltk->fhnw-nlp-utils<0.9.0,>=0.8.0) (1.3.2)\n",
            "Requirement already satisfied: regex>=2021.8.3 in /usr/local/lib/python3.10/dist-packages (from nltk->fhnw-nlp-utils<0.9.0,>=0.8.0) (2023.6.3)\n",
            "Requirement already satisfied: pytz>=2020.1 in /usr/local/lib/python3.10/dist-packages (from pandas->fhnw-nlp-utils<0.9.0,>=0.8.0) (2023.3.post1)\n",
            "Requirement already satisfied: scipy>=1.3.2 in /usr/local/lib/python3.10/dist-packages (from scikit-learn->fhnw-nlp-utils<0.9.0,>=0.8.0) (1.11.3)\n",
            "Requirement already satisfied: threadpoolctl>=2.0.0 in /usr/local/lib/python3.10/dist-packages (from scikit-learn->fhnw-nlp-utils<0.9.0,>=0.8.0) (3.2.0)\n",
            "Requirement already satisfied: soupsieve>1.2 in /usr/local/lib/python3.10/dist-packages (from beautifulsoup4->gdown->fhnw-nlp-utils<0.9.0,>=0.8.0) (2.5)\n",
            "Requirement already satisfied: charset-normalizer<4,>=2 in /usr/local/lib/python3.10/dist-packages (from requests[socks]->gdown->fhnw-nlp-utils<0.9.0,>=0.8.0) (3.3.0)\n",
            "Requirement already satisfied: idna<4,>=2.5 in /usr/local/lib/python3.10/dist-packages (from requests[socks]->gdown->fhnw-nlp-utils<0.9.0,>=0.8.0) (3.4)\n",
            "Requirement already satisfied: urllib3<3,>=1.21.1 in /usr/local/lib/python3.10/dist-packages (from requests[socks]->gdown->fhnw-nlp-utils<0.9.0,>=0.8.0) (2.0.7)\n",
            "Requirement already satisfied: certifi>=2017.4.17 in /usr/local/lib/python3.10/dist-packages (from requests[socks]->gdown->fhnw-nlp-utils<0.9.0,>=0.8.0) (2023.7.22)\n",
            "Requirement already satisfied: PySocks!=1.5.7,>=1.5.6 in /usr/local/lib/python3.10/dist-packages (from requests[socks]->gdown->fhnw-nlp-utils<0.9.0,>=0.8.0) (1.7.1)\n",
            "Requirement already satisfied: transformers in /usr/local/lib/python3.10/dist-packages (4.34.1)\n",
            "Requirement already satisfied: filelock in /usr/local/lib/python3.10/dist-packages (from transformers) (3.12.4)\n",
            "Requirement already satisfied: huggingface-hub<1.0,>=0.16.4 in /usr/local/lib/python3.10/dist-packages (from transformers) (0.17.3)\n",
            "Requirement already satisfied: numpy>=1.17 in /usr/local/lib/python3.10/dist-packages (from transformers) (1.23.5)\n",
            "Requirement already satisfied: packaging>=20.0 in /usr/local/lib/python3.10/dist-packages (from transformers) (23.2)\n",
            "Requirement already satisfied: pyyaml>=5.1 in /usr/local/lib/python3.10/dist-packages (from transformers) (6.0.1)\n",
            "Requirement already satisfied: regex!=2019.12.17 in /usr/local/lib/python3.10/dist-packages (from transformers) (2023.6.3)\n",
            "Requirement already satisfied: requests in /usr/local/lib/python3.10/dist-packages (from transformers) (2.31.0)\n",
            "Requirement already satisfied: tokenizers<0.15,>=0.14 in /usr/local/lib/python3.10/dist-packages (from transformers) (0.14.1)\n",
            "Requirement already satisfied: safetensors>=0.3.1 in /usr/local/lib/python3.10/dist-packages (from transformers) (0.4.0)\n",
            "Requirement already satisfied: tqdm>=4.27 in /usr/local/lib/python3.10/dist-packages (from transformers) (4.66.1)\n",
            "Requirement already satisfied: fsspec in /usr/local/lib/python3.10/dist-packages (from huggingface-hub<1.0,>=0.16.4->transformers) (2023.6.0)\n",
            "Requirement already satisfied: typing-extensions>=3.7.4.3 in /usr/local/lib/python3.10/dist-packages (from huggingface-hub<1.0,>=0.16.4->transformers) (4.5.0)\n",
            "Requirement already satisfied: charset-normalizer<4,>=2 in /usr/local/lib/python3.10/dist-packages (from requests->transformers) (3.3.0)\n",
            "Requirement already satisfied: idna<4,>=2.5 in /usr/local/lib/python3.10/dist-packages (from requests->transformers) (3.4)\n",
            "Requirement already satisfied: urllib3<3,>=1.21.1 in /usr/local/lib/python3.10/dist-packages (from requests->transformers) (2.0.7)\n",
            "Requirement already satisfied: certifi>=2017.4.17 in /usr/local/lib/python3.10/dist-packages (from requests->transformers) (2023.7.22)\n"
          ]
        }
      ],
      "source": [
        "#%%capture\n",
        "\n",
        "!pip install 'fhnw-nlp-utils>=0.8.0,<0.9.0'\n",
        "!pip install transformers\n",
        "from fhnw.nlp.utils.processing import parallelize_dataframe\n",
        "from fhnw.nlp.utils.processing import is_iterable\n",
        "from fhnw.nlp.utils.storage import download\n",
        "from fhnw.nlp.utils.storage import save_dataframe\n",
        "from fhnw.nlp.utils.storage import load_dataframe\n",
        "import pandas as pd\n",
        "import numpy as np\n",
        "import re\n",
        "import tqdm\n",
        "from datetime import datetime\n",
        "from transformers import AutoTokenizer, TFAutoModel\n",
        "import pandas as pd\n",
        "import numpy as np\n",
        "import seaborn as sns\n",
        "from sklearn.metrics import confusion_matrix, ConfusionMatrixDisplay\n",
        "from sklearn.metrics import multilabel_confusion_matrix\n",
        "import matplotlib.pyplot as plt\n",
        "import tensorflow as tf\n",
        "from transformers import BertTokenizer, TFBertModel\n",
        "from sklearn import metrics\n",
        "from sklearn.model_selection import train_test_split\n",
        "from sklearn.preprocessing import LabelBinarizer\n",
        "import re\n",
        "tqdm.tqdm.pandas()\n",
        "sns.set_style('whitegrid')\n",
        "\n",
        "pd.options.display.max_colwidth = 600\n",
        "pd.options.display.max_rows = 400\n"
      ]
    },
    {
      "cell_type": "code",
      "execution_count": 3,
      "metadata": {
        "id": "my-fhcECNxZh"
      },
      "outputs": [],
      "source": [
        "file = \"data/german_news_articles_original_train.parq\"\n",
        "download(\"https://drive.switch.ch/index.php/s/mRnuzx4BLpMLqyz/download\", file)\n",
        "data_train = load_dataframe(file)\n",
        "\n",
        "file = \"data/german_news_articles_original_test.parq\"\n",
        "download(\"https://drive.switch.ch/index.php/s/DKUnZraeGp3EIK3/download\", file)\n",
        "data_test = load_dataframe(file)"
      ]
    },
    {
      "cell_type": "code",
      "execution_count": 4,
      "metadata": {
        "id": "kK-sgEwzNxZh"
      },
      "outputs": [],
      "source": [
        "def clean_text(text, keep_punctuation=False):\n",
        "    \"\"\"Cleans text by removing html tags, non ascii chars, digits and optionally punctuation\"\"\"\n",
        "\n",
        "\n",
        "\n",
        "    # Compile RE pattern for HTTPS address, then Substitute it for blank\n",
        "    RE_HTTPS = re.compile(r\"https?://\\S+ \")\n",
        "    text = re.sub(RE_HTTPS, \"\", text)\n",
        "\n",
        "    # Subsitute twitter picutures for blank\n",
        "    text = re.sub(r'pic.twitter.com/[\\w]*',\"\", text)\n",
        "\n",
        "    # Subsitute multiple points space for 1 point\n",
        "    text = re.sub(r\"\\(?[.][.]+\\)?\", \".\", text)\n",
        "\n",
        "    # Compile RE pattern for HTML tags, then Substitute it for blank\n",
        "    RE_TAGS = re.compile(r\"<[^>]+>\")\n",
        "    text = re.sub(RE_TAGS, \" \", text)\n",
        "\n",
        "    # Compile RE patterns for general text, including punctuation rule\n",
        "    if keep_punctuation:\n",
        "        RE_ASCII = re.compile(r\"[^a-züöä,.!?]\", re.IGNORECASE)\n",
        "        RE_SINGLECHAR = re.compile(r\"\\b[a-züöä,.!?]\\b\", re.IGNORECASE)\n",
        "    else:\n",
        "        RE_ASCII = re.compile(r\"[^A-Za-zÀ-ž ]\", re.IGNORECASE)\n",
        "        RE_SINGLECHAR = re.compile(r\"\\b[A-Za-zÀ-ž]\\b\", re.IGNORECASE)\n",
        "\n",
        "    # keep only ASCII + European Chars and whitespace, no digits\n",
        "    text = re.sub(RE_ASCII, \" \", text)\n",
        "    # convert all whitespaces (tabs etc.) to single wspace\n",
        "    text = re.sub(RE_SINGLECHAR, \" \", text)\n",
        "\n",
        "    # Subsitute multiple blank space for 1 blank space\n",
        "    text = re.sub(r\"\\s+\", \" \", text)\n",
        "\n",
        "    # Subsitute double punctuation (left-over after previous subsitutions) for 1 point\n",
        "    text = re.sub(r\" [.,]+ [,.]+\", \".\", text)\n",
        "\n",
        "    return text"
      ]
    },
    {
      "cell_type": "code",
      "execution_count": 5,
      "metadata": {
        "id": "y8OjknCxNxZi"
      },
      "outputs": [],
      "source": [
        "data_train[\"split\"] = \"train\"\n",
        "data_test[\"split\"] = \"test\"\n",
        "data_all = pd.concat([data_train, data_test])\n",
        "data = data_train"
      ]
    },
    {
      "cell_type": "code",
      "execution_count": 6,
      "metadata": {
        "id": "LH2GdUoRKwgT"
      },
      "outputs": [],
      "source": [
        "data_all = data_all.drop([\"text\"], axis=1, errors='ignore')\n",
        "\n",
        "# Apply text cleaning using MODIN pandas dataframe (parallelized)\n",
        "data_all[\"text\"] =  data_all[\"text_original\"].apply(clean_text, keep_punctuation = True)"
      ]
    },
    {
      "cell_type": "code",
      "execution_count": 7,
      "metadata": {
        "id": "mKXlbiW1Nt6t"
      },
      "outputs": [],
      "source": [
        "tokenizer = BertTokenizer.from_pretrained(\"bert-base-german-cased\")\n",
        "MAXLEN = 192\n",
        "\n",
        "def tokenize(data_all):\n",
        "    encoded = tokenizer.encode_plus(\n",
        "        text= data_all,\n",
        "        add_special_tokens=True,  # Add `[CLS]` and `[SEP]`\n",
        "        max_length=MAXLEN,  # Max length to truncate/pad\n",
        "        padding='max_length',  # Pad sentence to max length\n",
        "        return_attention_mask=False,  # attention mask not needed for our task\n",
        "        return_token_type_ids=False,\n",
        "        truncation=True, )\n",
        "\n",
        "    return encoded['input_ids']\n"
      ]
    },
    {
      "cell_type": "code",
      "execution_count": 8,
      "metadata": {
        "id": "WL7uoVbXU8WM"
      },
      "outputs": [],
      "source": [
        "data_train = data_all[data_all['split'] == 'train'].loc[:,['text','label']]\n",
        "data_test = data_all[data_all['split'] == 'test'].loc[:,['text','label']]"
      ]
    },
    {
      "cell_type": "code",
      "execution_count": 9,
      "metadata": {
        "colab": {
          "base_uri": "https://localhost:8080/"
        },
        "id": "keB3E-UF0png",
        "outputId": "e942e32d-2fbb-43f7-fc49-fb46e141767a"
      },
      "outputs": [
        {
          "output_type": "stream",
          "name": "stderr",
          "text": [
            "100%|██████████| 9245/9245 [01:55<00:00, 80.09it/s] \n",
            "100%|██████████| 1028/1028 [00:09<00:00, 113.73it/s]\n"
          ]
        }
      ],
      "source": [
        "input_ids_train = np.array([tokenize(data_train) for data_train in tqdm.tqdm(data_train['text'])])\n",
        "input_ids_test = np.array([tokenize(data_test) for data_test in tqdm.tqdm(data_test['text'])])"
      ]
    },
    {
      "cell_type": "code",
      "execution_count": 10,
      "metadata": {
        "colab": {
          "base_uri": "https://localhost:8080/"
        },
        "id": "BSmOClen3UQI",
        "outputId": "146d5c2b-feca-4c1f-c3b5-7343fac9d268"
      },
      "outputs": [
        {
          "output_type": "stream",
          "name": "stdout",
          "text": [
            "Classes: ['Etat' 'Inland' 'International' 'Kultur' 'Panorama' 'Sport' 'Web'\n",
            " 'Wirtschaft' 'Wissenschaft']\n",
            "Encoding:\n",
            " [[1 0 0 0 0 0 0 0 0]\n",
            " [0 1 0 0 0 0 0 0 0]\n",
            " [0 0 1 0 0 0 0 0 0]\n",
            " [0 0 0 1 0 0 0 0 0]\n",
            " [0 0 0 0 1 0 0 0 0]\n",
            " [0 0 0 0 0 1 0 0 0]\n",
            " [0 0 0 0 0 0 1 0 0]\n",
            " [0 0 0 0 0 0 0 1 0]\n",
            " [0 0 0 0 0 0 0 0 1]]\n"
          ]
        }
      ],
      "source": [
        "\n",
        "label_binarizer = LabelBinarizer()\n",
        "label_binarizer.fit(data_all[\"label\"])\n",
        "print(f\"Classes: {label_binarizer.classes_}\")\n",
        "print (f\"Encoding:\\n {label_binarizer.transform(label_binarizer.classes_).T}\")"
      ]
    },
    {
      "cell_type": "code",
      "execution_count": 11,
      "metadata": {
        "id": "XYDLwWro3Cyq"
      },
      "outputs": [],
      "source": [
        "train_ids, test_ids, train_labels, test_labels = input_ids_train, input_ids_test, label_binarizer.transform(data_train['label']),label_binarizer.transform(data_test['label'])"
      ]
    },
    {
      "cell_type": "code",
      "execution_count": 12,
      "metadata": {
        "id": "qde2jXIV2xQn"
      },
      "outputs": [],
      "source": [
        "BATCH_SIZE = 64\n",
        "EPOCHS = 50\n",
        "LEARNING_RATE = 1e-6"
      ]
    },
    {
      "cell_type": "code",
      "execution_count": 13,
      "metadata": {
        "id": "R1wDuEsX4d5x"
      },
      "outputs": [],
      "source": [
        "train_dataset = (tf.data.Dataset.from_tensor_slices((train_ids, train_labels))\n",
        "                    .shuffle(buffer_size=len(train_ids), reshuffle_each_iteration=True)\n",
        "                    .repeat(EPOCHS)\n",
        "                    .batch(BATCH_SIZE))\n",
        "\n",
        "test_dataset = (tf.data.Dataset.from_tensor_slices((test_ids, test_labels))\n",
        "                    .batch(BATCH_SIZE))\n"
      ]
    },
    {
      "cell_type": "code",
      "execution_count": 14,
      "metadata": {
        "colab": {
          "base_uri": "https://localhost:8080/"
        },
        "id": "2w7SZYzY4pYH",
        "outputId": "e24f4486-f19c-4bba-c0a6-a24fe2d1b16b"
      },
      "outputs": [
        {
          "output_type": "execute_result",
          "data": {
            "text/plain": [
              "9"
            ]
          },
          "metadata": {},
          "execution_count": 14
        }
      ],
      "source": [
        "NUM_CLASSES = len(pd.DataFrame(train_labels).drop_duplicates())\n",
        "NUM_CLASSES"
      ]
    },
    {
      "cell_type": "markdown",
      "source": [
        "Loss steigt -> hohe learning rate, +/- vertauscht\n",
        "\n",
        "Loss explodiert -> hohe lr, numerisches problem\n",
        "\n",
        "Loss osziliert -> hohe lr, data / label fehlerhaft geladen\n",
        "\n",
        "Loss plateau -> tiefe lr, backprob error, falscher Input in Loss"
      ],
      "metadata": {
        "id": "s5oWTB-Ay_Hx"
      }
    },
    {
      "cell_type": "code",
      "execution_count": 15,
      "metadata": {
        "id": "3m5mZ5ug48FY",
        "outputId": "7e935712-0f66-45ea-b41e-334cb4865df7",
        "colab": {
          "base_uri": "https://localhost:8080/"
        }
      },
      "outputs": [
        {
          "output_type": "stream",
          "name": "stderr",
          "text": [
            "Some weights of the PyTorch model were not used when initializing the TF 2.0 model TFBertModel: ['cls.seq_relationship.bias', 'cls.seq_relationship.weight', 'cls.predictions.transform.LayerNorm.weight', 'cls.predictions.transform.LayerNorm.bias', 'cls.predictions.transform.dense.weight', 'cls.predictions.bias', 'cls.predictions.transform.dense.bias']\n",
            "- This IS expected if you are initializing TFBertModel from a PyTorch model trained on another task or with another architecture (e.g. initializing a TFBertForSequenceClassification model from a BertForPreTraining model).\n",
            "- This IS NOT expected if you are initializing TFBertModel from a PyTorch model that you expect to be exactly identical (e.g. initializing a TFBertForSequenceClassification model from a BertForSequenceClassification model).\n",
            "All the weights of TFBertModel were initialized from the PyTorch model.\n",
            "If your task is similar to the task the model of the checkpoint was trained on, you can already use TFBertModel for predictions without further training.\n"
          ]
        }
      ],
      "source": [
        "# Increase Model Complexity - Add more layers\n",
        "def build_complex_model(max_len=MAXLEN):\n",
        "    input_word_ids = tf.keras.layers.Input(\n",
        "        shape=(max_len,), dtype=tf.int32, name=\"input_word_ids\"\n",
        "    )\n",
        "\n",
        "    bert_model = TFBertModel.from_pretrained(\"bert-base-german-cased\")\n",
        "    encoder_outputs = bert_model(input_word_ids)\n",
        "\n",
        "    last_hidden_state = encoder_outputs[0]\n",
        "    pooler_output = encoder_outputs[1]\n",
        "\n",
        "    cls_embedding = pooler_output\n",
        "\n",
        "    # Add more hidden layers\n",
        "    hidden1 = tf.keras.layers.Dense(128, activation='relu')(cls_embedding)\n",
        "    hidden2 = tf.keras.layers.Dense(128, activation='sigmoid')(hidden1)\n",
        "\n",
        "    # Change the output dimension to match the number of classes\n",
        "    output = tf.keras.layers.Dense(NUM_CLASSES, activation='softmax')(hidden2)\n",
        "\n",
        "    model = tf.keras.models.Model(inputs=input_word_ids, outputs=output)\n",
        "\n",
        "    return model\n",
        "\n",
        "model = build_complex_model(max_len=MAXLEN)\n",
        "\n",
        "# Compile the model with a reduced learning rate for overfitting\n",
        "optimizer = tf.keras.optimizers.Adam(learning_rate=LEARNING_RATE)\n",
        "loss = \"categorical_crossentropy\"\n",
        "\n",
        "model.compile(optimizer, loss=loss, metrics=[\"accuracy\"], jit_compile=True)\n",
        "\n"
      ]
    },
    {
      "cell_type": "code",
      "execution_count": 16,
      "metadata": {
        "id": "3EMOmzPc5ERe",
        "outputId": "a425235e-401a-4eb3-d149-7c2e7f141af0",
        "colab": {
          "base_uri": "https://localhost:8080/"
        }
      },
      "outputs": [
        {
          "output_type": "stream",
          "name": "stdout",
          "text": [
            "Epoch 1/50\n",
            "144/144 [==============================] - 173s 801ms/step - loss: 2.3202 - accuracy: 0.1500 - val_loss: 2.1999 - val_accuracy: 0.1498\n",
            "Epoch 2/50\n",
            "144/144 [==============================] - 106s 735ms/step - loss: 2.0828 - accuracy: 0.1832 - val_loss: 1.9270 - val_accuracy: 0.2062\n",
            "Epoch 3/50\n",
            "144/144 [==============================] - 104s 720ms/step - loss: 1.8047 - accuracy: 0.4169 - val_loss: 1.6269 - val_accuracy: 0.5681\n",
            "Epoch 4/50\n",
            "144/144 [==============================] - 104s 719ms/step - loss: 1.5617 - accuracy: 0.5946 - val_loss: 1.4055 - val_accuracy: 0.6488\n",
            "Epoch 5/50\n",
            "144/144 [==============================] - 106s 735ms/step - loss: 1.3730 - accuracy: 0.6766 - val_loss: 1.2443 - val_accuracy: 0.7198\n",
            "Epoch 6/50\n",
            "144/144 [==============================] - 104s 721ms/step - loss: 1.2366 - accuracy: 0.7229 - val_loss: 1.1243 - val_accuracy: 0.7393\n",
            "Epoch 7/50\n",
            "144/144 [==============================] - 104s 720ms/step - loss: 1.1252 - accuracy: 0.7513 - val_loss: 1.0372 - val_accuracy: 0.7578\n",
            "Epoch 8/50\n",
            "144/144 [==============================] - 104s 720ms/step - loss: 1.0350 - accuracy: 0.7778 - val_loss: 0.9630 - val_accuracy: 0.8142\n",
            "Epoch 9/50\n",
            "144/144 [==============================] - 104s 721ms/step - loss: 0.9628 - accuracy: 0.8236 - val_loss: 0.9072 - val_accuracy: 0.8463\n",
            "Epoch 10/50\n",
            "144/144 [==============================] - 103s 719ms/step - loss: 0.8954 - accuracy: 0.8618 - val_loss: 0.8537 - val_accuracy: 0.8541\n",
            "Epoch 11/50\n",
            "144/144 [==============================] - 104s 720ms/step - loss: 0.8467 - accuracy: 0.8725 - val_loss: 0.8113 - val_accuracy: 0.8667\n",
            "Epoch 12/50\n",
            "144/144 [==============================] - 104s 721ms/step - loss: 0.7950 - accuracy: 0.8860 - val_loss: 0.7771 - val_accuracy: 0.8706\n",
            "Epoch 13/50\n",
            "144/144 [==============================] - 104s 721ms/step - loss: 0.7511 - accuracy: 0.8942 - val_loss: 0.7423 - val_accuracy: 0.8755\n",
            "Epoch 14/50\n",
            "144/144 [==============================] - 104s 722ms/step - loss: 0.7121 - accuracy: 0.9042 - val_loss: 0.7146 - val_accuracy: 0.8765\n",
            "Epoch 15/50\n",
            "144/144 [==============================] - 104s 720ms/step - loss: 0.6741 - accuracy: 0.9064 - val_loss: 0.6898 - val_accuracy: 0.8774\n",
            "Epoch 16/50\n",
            "144/144 [==============================] - 104s 720ms/step - loss: 0.6405 - accuracy: 0.9129 - val_loss: 0.6618 - val_accuracy: 0.8862\n",
            "Epoch 17/50\n",
            "144/144 [==============================] - 104s 719ms/step - loss: 0.6149 - accuracy: 0.9168 - val_loss: 0.6455 - val_accuracy: 0.8804\n",
            "Epoch 18/50\n",
            "144/144 [==============================] - 104s 720ms/step - loss: 0.5811 - accuracy: 0.9222 - val_loss: 0.6203 - val_accuracy: 0.8852\n",
            "Epoch 19/50\n",
            "144/144 [==============================] - 104s 721ms/step - loss: 0.5521 - accuracy: 0.9287 - val_loss: 0.6023 - val_accuracy: 0.8862\n",
            "Epoch 20/50\n",
            "144/144 [==============================] - 106s 735ms/step - loss: 0.5337 - accuracy: 0.9302 - val_loss: 0.5880 - val_accuracy: 0.8891\n",
            "Epoch 21/50\n",
            "144/144 [==============================] - 103s 719ms/step - loss: 0.5051 - accuracy: 0.9351 - val_loss: 0.5745 - val_accuracy: 0.8901\n",
            "Epoch 22/50\n",
            "144/144 [==============================] - 104s 720ms/step - loss: 0.4845 - accuracy: 0.9403 - val_loss: 0.5628 - val_accuracy: 0.8920\n",
            "Epoch 23/50\n",
            "144/144 [==============================] - ETA: 0s - loss: 0.4637 - accuracy: 0.9398Restoring model weights from the end of the best epoch: 22.\n",
            "144/144 [==============================] - 104s 721ms/step - loss: 0.4637 - accuracy: 0.9398 - val_loss: 0.5498 - val_accuracy: 0.8930\n",
            "Epoch 23: early stopping\n"
          ]
        }
      ],
      "source": [
        "\n",
        "\n",
        "log_dir = 'logs/' + datetime.now().strftime(\"%Y%m%d_%H%M%S\")\n",
        "# Train the model for a large number of epochs\n",
        "hist = model.fit(\n",
        "    train_dataset,\n",
        "    batch_size=BATCH_SIZE,\n",
        "    epochs=EPOCHS,\n",
        "    validation_data=test_dataset,\n",
        "    steps_per_epoch=int(np.floor((len(input_ids_train) / BATCH_SIZE))),\n",
        "    verbose=1,\n",
        "    callbacks=[\n",
        "        tf.keras.callbacks.EarlyStopping(monitor=\"accuracy\", verbose=1, patience=1, restore_best_weights=True),\n",
        "        tf.keras.callbacks.TensorBoard(log_dir=log_dir)\n",
        "    ],\n",
        ")\n",
        "\n"
      ]
    },
    {
      "cell_type": "code",
      "execution_count": 17,
      "metadata": {
        "id": "BQC2Ygxl6-4y",
        "colab": {
          "base_uri": "https://localhost:8080/",
          "height": 802
        },
        "outputId": "b20b503c-5a44-468d-af98-bc1da3db703b"
      },
      "outputs": [
        {
          "output_type": "execute_result",
          "data": {
            "text/plain": [
              "           loss  accuracy  val_loss  val_accuracy\n",
              "epoch                                            \n",
              "0      2.320160  0.149957  2.199886      0.149805\n",
              "1      2.082817  0.183160  1.927035      0.206226\n",
              "2      1.804652  0.416884  1.626930      0.568093\n",
              "3      1.561738  0.594618  1.405474      0.648833\n",
              "4      1.372963  0.676649  1.244285      0.719844\n",
              "5      1.236621  0.722873  1.124310      0.739300\n",
              "6      1.125193  0.751302  1.037189      0.757782\n",
              "7      1.035046  0.777778  0.963032      0.814202\n",
              "8      0.962781  0.823568  0.907216      0.846304\n",
              "9      0.895442  0.861762  0.853697      0.854086\n",
              "10     0.846733  0.872504  0.811266      0.866732\n",
              "11     0.794951  0.885959  0.777122      0.870623\n",
              "12     0.751145  0.894206  0.742339      0.875486\n",
              "13     0.712091  0.904188  0.714578      0.876459\n",
              "14     0.674130  0.906358  0.689834      0.877432\n",
              "15     0.640500  0.912869  0.661800      0.886187\n",
              "16     0.614869  0.916775  0.645494      0.880350\n",
              "17     0.581074  0.922201  0.620279      0.885214\n",
              "18     0.552061  0.928711  0.602316      0.886187\n",
              "19     0.533722  0.930230  0.588016      0.889105\n",
              "20     0.505066  0.935113  0.574533      0.890078\n",
              "21     0.484500  0.940321  0.562841      0.892023\n",
              "22     0.463691  0.939779  0.549797      0.892996"
            ],
            "text/html": [
              "\n",
              "  <div id=\"df-64cc7243-8f4a-4061-bb4b-b7f48ebbc005\" class=\"colab-df-container\">\n",
              "    <div>\n",
              "<style scoped>\n",
              "    .dataframe tbody tr th:only-of-type {\n",
              "        vertical-align: middle;\n",
              "    }\n",
              "\n",
              "    .dataframe tbody tr th {\n",
              "        vertical-align: top;\n",
              "    }\n",
              "\n",
              "    .dataframe thead th {\n",
              "        text-align: right;\n",
              "    }\n",
              "</style>\n",
              "<table border=\"1\" class=\"dataframe\">\n",
              "  <thead>\n",
              "    <tr style=\"text-align: right;\">\n",
              "      <th></th>\n",
              "      <th>loss</th>\n",
              "      <th>accuracy</th>\n",
              "      <th>val_loss</th>\n",
              "      <th>val_accuracy</th>\n",
              "    </tr>\n",
              "    <tr>\n",
              "      <th>epoch</th>\n",
              "      <th></th>\n",
              "      <th></th>\n",
              "      <th></th>\n",
              "      <th></th>\n",
              "    </tr>\n",
              "  </thead>\n",
              "  <tbody>\n",
              "    <tr>\n",
              "      <th>0</th>\n",
              "      <td>2.320160</td>\n",
              "      <td>0.149957</td>\n",
              "      <td>2.199886</td>\n",
              "      <td>0.149805</td>\n",
              "    </tr>\n",
              "    <tr>\n",
              "      <th>1</th>\n",
              "      <td>2.082817</td>\n",
              "      <td>0.183160</td>\n",
              "      <td>1.927035</td>\n",
              "      <td>0.206226</td>\n",
              "    </tr>\n",
              "    <tr>\n",
              "      <th>2</th>\n",
              "      <td>1.804652</td>\n",
              "      <td>0.416884</td>\n",
              "      <td>1.626930</td>\n",
              "      <td>0.568093</td>\n",
              "    </tr>\n",
              "    <tr>\n",
              "      <th>3</th>\n",
              "      <td>1.561738</td>\n",
              "      <td>0.594618</td>\n",
              "      <td>1.405474</td>\n",
              "      <td>0.648833</td>\n",
              "    </tr>\n",
              "    <tr>\n",
              "      <th>4</th>\n",
              "      <td>1.372963</td>\n",
              "      <td>0.676649</td>\n",
              "      <td>1.244285</td>\n",
              "      <td>0.719844</td>\n",
              "    </tr>\n",
              "    <tr>\n",
              "      <th>5</th>\n",
              "      <td>1.236621</td>\n",
              "      <td>0.722873</td>\n",
              "      <td>1.124310</td>\n",
              "      <td>0.739300</td>\n",
              "    </tr>\n",
              "    <tr>\n",
              "      <th>6</th>\n",
              "      <td>1.125193</td>\n",
              "      <td>0.751302</td>\n",
              "      <td>1.037189</td>\n",
              "      <td>0.757782</td>\n",
              "    </tr>\n",
              "    <tr>\n",
              "      <th>7</th>\n",
              "      <td>1.035046</td>\n",
              "      <td>0.777778</td>\n",
              "      <td>0.963032</td>\n",
              "      <td>0.814202</td>\n",
              "    </tr>\n",
              "    <tr>\n",
              "      <th>8</th>\n",
              "      <td>0.962781</td>\n",
              "      <td>0.823568</td>\n",
              "      <td>0.907216</td>\n",
              "      <td>0.846304</td>\n",
              "    </tr>\n",
              "    <tr>\n",
              "      <th>9</th>\n",
              "      <td>0.895442</td>\n",
              "      <td>0.861762</td>\n",
              "      <td>0.853697</td>\n",
              "      <td>0.854086</td>\n",
              "    </tr>\n",
              "    <tr>\n",
              "      <th>10</th>\n",
              "      <td>0.846733</td>\n",
              "      <td>0.872504</td>\n",
              "      <td>0.811266</td>\n",
              "      <td>0.866732</td>\n",
              "    </tr>\n",
              "    <tr>\n",
              "      <th>11</th>\n",
              "      <td>0.794951</td>\n",
              "      <td>0.885959</td>\n",
              "      <td>0.777122</td>\n",
              "      <td>0.870623</td>\n",
              "    </tr>\n",
              "    <tr>\n",
              "      <th>12</th>\n",
              "      <td>0.751145</td>\n",
              "      <td>0.894206</td>\n",
              "      <td>0.742339</td>\n",
              "      <td>0.875486</td>\n",
              "    </tr>\n",
              "    <tr>\n",
              "      <th>13</th>\n",
              "      <td>0.712091</td>\n",
              "      <td>0.904188</td>\n",
              "      <td>0.714578</td>\n",
              "      <td>0.876459</td>\n",
              "    </tr>\n",
              "    <tr>\n",
              "      <th>14</th>\n",
              "      <td>0.674130</td>\n",
              "      <td>0.906358</td>\n",
              "      <td>0.689834</td>\n",
              "      <td>0.877432</td>\n",
              "    </tr>\n",
              "    <tr>\n",
              "      <th>15</th>\n",
              "      <td>0.640500</td>\n",
              "      <td>0.912869</td>\n",
              "      <td>0.661800</td>\n",
              "      <td>0.886187</td>\n",
              "    </tr>\n",
              "    <tr>\n",
              "      <th>16</th>\n",
              "      <td>0.614869</td>\n",
              "      <td>0.916775</td>\n",
              "      <td>0.645494</td>\n",
              "      <td>0.880350</td>\n",
              "    </tr>\n",
              "    <tr>\n",
              "      <th>17</th>\n",
              "      <td>0.581074</td>\n",
              "      <td>0.922201</td>\n",
              "      <td>0.620279</td>\n",
              "      <td>0.885214</td>\n",
              "    </tr>\n",
              "    <tr>\n",
              "      <th>18</th>\n",
              "      <td>0.552061</td>\n",
              "      <td>0.928711</td>\n",
              "      <td>0.602316</td>\n",
              "      <td>0.886187</td>\n",
              "    </tr>\n",
              "    <tr>\n",
              "      <th>19</th>\n",
              "      <td>0.533722</td>\n",
              "      <td>0.930230</td>\n",
              "      <td>0.588016</td>\n",
              "      <td>0.889105</td>\n",
              "    </tr>\n",
              "    <tr>\n",
              "      <th>20</th>\n",
              "      <td>0.505066</td>\n",
              "      <td>0.935113</td>\n",
              "      <td>0.574533</td>\n",
              "      <td>0.890078</td>\n",
              "    </tr>\n",
              "    <tr>\n",
              "      <th>21</th>\n",
              "      <td>0.484500</td>\n",
              "      <td>0.940321</td>\n",
              "      <td>0.562841</td>\n",
              "      <td>0.892023</td>\n",
              "    </tr>\n",
              "    <tr>\n",
              "      <th>22</th>\n",
              "      <td>0.463691</td>\n",
              "      <td>0.939779</td>\n",
              "      <td>0.549797</td>\n",
              "      <td>0.892996</td>\n",
              "    </tr>\n",
              "  </tbody>\n",
              "</table>\n",
              "</div>\n",
              "    <div class=\"colab-df-buttons\">\n",
              "\n",
              "  <div class=\"colab-df-container\">\n",
              "    <button class=\"colab-df-convert\" onclick=\"convertToInteractive('df-64cc7243-8f4a-4061-bb4b-b7f48ebbc005')\"\n",
              "            title=\"Convert this dataframe to an interactive table.\"\n",
              "            style=\"display:none;\">\n",
              "\n",
              "  <svg xmlns=\"http://www.w3.org/2000/svg\" height=\"24px\" viewBox=\"0 -960 960 960\">\n",
              "    <path d=\"M120-120v-720h720v720H120Zm60-500h600v-160H180v160Zm220 220h160v-160H400v160Zm0 220h160v-160H400v160ZM180-400h160v-160H180v160Zm440 0h160v-160H620v160ZM180-180h160v-160H180v160Zm440 0h160v-160H620v160Z\"/>\n",
              "  </svg>\n",
              "    </button>\n",
              "\n",
              "  <style>\n",
              "    .colab-df-container {\n",
              "      display:flex;\n",
              "      gap: 12px;\n",
              "    }\n",
              "\n",
              "    .colab-df-convert {\n",
              "      background-color: #E8F0FE;\n",
              "      border: none;\n",
              "      border-radius: 50%;\n",
              "      cursor: pointer;\n",
              "      display: none;\n",
              "      fill: #1967D2;\n",
              "      height: 32px;\n",
              "      padding: 0 0 0 0;\n",
              "      width: 32px;\n",
              "    }\n",
              "\n",
              "    .colab-df-convert:hover {\n",
              "      background-color: #E2EBFA;\n",
              "      box-shadow: 0px 1px 2px rgba(60, 64, 67, 0.3), 0px 1px 3px 1px rgba(60, 64, 67, 0.15);\n",
              "      fill: #174EA6;\n",
              "    }\n",
              "\n",
              "    .colab-df-buttons div {\n",
              "      margin-bottom: 4px;\n",
              "    }\n",
              "\n",
              "    [theme=dark] .colab-df-convert {\n",
              "      background-color: #3B4455;\n",
              "      fill: #D2E3FC;\n",
              "    }\n",
              "\n",
              "    [theme=dark] .colab-df-convert:hover {\n",
              "      background-color: #434B5C;\n",
              "      box-shadow: 0px 1px 3px 1px rgba(0, 0, 0, 0.15);\n",
              "      filter: drop-shadow(0px 1px 2px rgba(0, 0, 0, 0.3));\n",
              "      fill: #FFFFFF;\n",
              "    }\n",
              "  </style>\n",
              "\n",
              "    <script>\n",
              "      const buttonEl =\n",
              "        document.querySelector('#df-64cc7243-8f4a-4061-bb4b-b7f48ebbc005 button.colab-df-convert');\n",
              "      buttonEl.style.display =\n",
              "        google.colab.kernel.accessAllowed ? 'block' : 'none';\n",
              "\n",
              "      async function convertToInteractive(key) {\n",
              "        const element = document.querySelector('#df-64cc7243-8f4a-4061-bb4b-b7f48ebbc005');\n",
              "        const dataTable =\n",
              "          await google.colab.kernel.invokeFunction('convertToInteractive',\n",
              "                                                    [key], {});\n",
              "        if (!dataTable) return;\n",
              "\n",
              "        const docLinkHtml = 'Like what you see? Visit the ' +\n",
              "          '<a target=\"_blank\" href=https://colab.research.google.com/notebooks/data_table.ipynb>data table notebook</a>'\n",
              "          + ' to learn more about interactive tables.';\n",
              "        element.innerHTML = '';\n",
              "        dataTable['output_type'] = 'display_data';\n",
              "        await google.colab.output.renderOutput(dataTable, element);\n",
              "        const docLink = document.createElement('div');\n",
              "        docLink.innerHTML = docLinkHtml;\n",
              "        element.appendChild(docLink);\n",
              "      }\n",
              "    </script>\n",
              "  </div>\n",
              "\n",
              "\n",
              "<div id=\"df-6fad3912-960b-4022-adac-6cee01efeda4\">\n",
              "  <button class=\"colab-df-quickchart\" onclick=\"quickchart('df-6fad3912-960b-4022-adac-6cee01efeda4')\"\n",
              "            title=\"Suggest charts.\"\n",
              "            style=\"display:none;\">\n",
              "\n",
              "<svg xmlns=\"http://www.w3.org/2000/svg\" height=\"24px\"viewBox=\"0 0 24 24\"\n",
              "     width=\"24px\">\n",
              "    <g>\n",
              "        <path d=\"M19 3H5c-1.1 0-2 .9-2 2v14c0 1.1.9 2 2 2h14c1.1 0 2-.9 2-2V5c0-1.1-.9-2-2-2zM9 17H7v-7h2v7zm4 0h-2V7h2v10zm4 0h-2v-4h2v4z\"/>\n",
              "    </g>\n",
              "</svg>\n",
              "  </button>\n",
              "\n",
              "<style>\n",
              "  .colab-df-quickchart {\n",
              "      --bg-color: #E8F0FE;\n",
              "      --fill-color: #1967D2;\n",
              "      --hover-bg-color: #E2EBFA;\n",
              "      --hover-fill-color: #174EA6;\n",
              "      --disabled-fill-color: #AAA;\n",
              "      --disabled-bg-color: #DDD;\n",
              "  }\n",
              "\n",
              "  [theme=dark] .colab-df-quickchart {\n",
              "      --bg-color: #3B4455;\n",
              "      --fill-color: #D2E3FC;\n",
              "      --hover-bg-color: #434B5C;\n",
              "      --hover-fill-color: #FFFFFF;\n",
              "      --disabled-bg-color: #3B4455;\n",
              "      --disabled-fill-color: #666;\n",
              "  }\n",
              "\n",
              "  .colab-df-quickchart {\n",
              "    background-color: var(--bg-color);\n",
              "    border: none;\n",
              "    border-radius: 50%;\n",
              "    cursor: pointer;\n",
              "    display: none;\n",
              "    fill: var(--fill-color);\n",
              "    height: 32px;\n",
              "    padding: 0;\n",
              "    width: 32px;\n",
              "  }\n",
              "\n",
              "  .colab-df-quickchart:hover {\n",
              "    background-color: var(--hover-bg-color);\n",
              "    box-shadow: 0 1px 2px rgba(60, 64, 67, 0.3), 0 1px 3px 1px rgba(60, 64, 67, 0.15);\n",
              "    fill: var(--button-hover-fill-color);\n",
              "  }\n",
              "\n",
              "  .colab-df-quickchart-complete:disabled,\n",
              "  .colab-df-quickchart-complete:disabled:hover {\n",
              "    background-color: var(--disabled-bg-color);\n",
              "    fill: var(--disabled-fill-color);\n",
              "    box-shadow: none;\n",
              "  }\n",
              "\n",
              "  .colab-df-spinner {\n",
              "    border: 2px solid var(--fill-color);\n",
              "    border-color: transparent;\n",
              "    border-bottom-color: var(--fill-color);\n",
              "    animation:\n",
              "      spin 1s steps(1) infinite;\n",
              "  }\n",
              "\n",
              "  @keyframes spin {\n",
              "    0% {\n",
              "      border-color: transparent;\n",
              "      border-bottom-color: var(--fill-color);\n",
              "      border-left-color: var(--fill-color);\n",
              "    }\n",
              "    20% {\n",
              "      border-color: transparent;\n",
              "      border-left-color: var(--fill-color);\n",
              "      border-top-color: var(--fill-color);\n",
              "    }\n",
              "    30% {\n",
              "      border-color: transparent;\n",
              "      border-left-color: var(--fill-color);\n",
              "      border-top-color: var(--fill-color);\n",
              "      border-right-color: var(--fill-color);\n",
              "    }\n",
              "    40% {\n",
              "      border-color: transparent;\n",
              "      border-right-color: var(--fill-color);\n",
              "      border-top-color: var(--fill-color);\n",
              "    }\n",
              "    60% {\n",
              "      border-color: transparent;\n",
              "      border-right-color: var(--fill-color);\n",
              "    }\n",
              "    80% {\n",
              "      border-color: transparent;\n",
              "      border-right-color: var(--fill-color);\n",
              "      border-bottom-color: var(--fill-color);\n",
              "    }\n",
              "    90% {\n",
              "      border-color: transparent;\n",
              "      border-bottom-color: var(--fill-color);\n",
              "    }\n",
              "  }\n",
              "</style>\n",
              "\n",
              "  <script>\n",
              "    async function quickchart(key) {\n",
              "      const quickchartButtonEl =\n",
              "        document.querySelector('#' + key + ' button');\n",
              "      quickchartButtonEl.disabled = true;  // To prevent multiple clicks.\n",
              "      quickchartButtonEl.classList.add('colab-df-spinner');\n",
              "      try {\n",
              "        const charts = await google.colab.kernel.invokeFunction(\n",
              "            'suggestCharts', [key], {});\n",
              "      } catch (error) {\n",
              "        console.error('Error during call to suggestCharts:', error);\n",
              "      }\n",
              "      quickchartButtonEl.classList.remove('colab-df-spinner');\n",
              "      quickchartButtonEl.classList.add('colab-df-quickchart-complete');\n",
              "    }\n",
              "    (() => {\n",
              "      let quickchartButtonEl =\n",
              "        document.querySelector('#df-6fad3912-960b-4022-adac-6cee01efeda4 button');\n",
              "      quickchartButtonEl.style.display =\n",
              "        google.colab.kernel.accessAllowed ? 'block' : 'none';\n",
              "    })();\n",
              "  </script>\n",
              "</div>\n",
              "    </div>\n",
              "  </div>\n"
            ]
          },
          "metadata": {},
          "execution_count": 17
        }
      ],
      "source": [
        "history = pd.DataFrame({'epoch': hist.epoch, **hist.history}).set_index('epoch')\n",
        "history"
      ]
    },
    {
      "cell_type": "code",
      "execution_count": 18,
      "metadata": {
        "id": "Yj-tK5rxAnM6",
        "colab": {
          "base_uri": "https://localhost:8080/",
          "height": 466
        },
        "outputId": "a2bff598-a4b3-4748-9bc9-9037e6547524"
      },
      "outputs": [
        {
          "output_type": "execute_result",
          "data": {
            "text/plain": [
              "<Axes: xlabel='epoch'>"
            ]
          },
          "metadata": {},
          "execution_count": 18
        },
        {
          "output_type": "display_data",
          "data": {
            "text/plain": [
              "<Figure size 640x480 with 1 Axes>"
            ],
            "image/png": "[encoded data removed]"
          },
          "metadata": {}
        }
      ],
      "source": [
        "history.plot()"
      ]
    },
    {
      "cell_type": "code",
      "execution_count": 19,
      "metadata": {
        "id": "Q0zQKdmXNAuX",
        "colab": {
          "base_uri": "https://localhost:8080/"
        },
        "outputId": "d9a8dcbb-1667-4ba3-b868-c76e3d5b8da1"
      },
      "outputs": [
        {
          "output_type": "stream",
          "name": "stdout",
          "text": [
            "33/33 [==============================] - 13s 176ms/step\n"
          ]
        }
      ],
      "source": [
        "result = model.predict(test_ids)\n"
      ]
    },
    {
      "cell_type": "code",
      "execution_count": 20,
      "metadata": {
        "id": "NPE4rbVKTMwW"
      },
      "outputs": [],
      "source": [
        "result = result > .5\n",
        "y_pred = result.astype(int)\n",
        "y_true = test_labels"
      ]
    },
    {
      "cell_type": "code",
      "execution_count": 21,
      "metadata": {
        "id": "RfGjbmB_WYbU"
      },
      "outputs": [],
      "source": [
        "l = list(label_binarizer.classes_)"
      ]
    },
    {
      "cell_type": "code",
      "execution_count": 22,
      "metadata": {
        "id": "bFpELcudWgsV",
        "colab": {
          "base_uri": "https://localhost:8080/"
        },
        "outputId": "b24b4bfb-e416-4b0f-badd-9e6d1a413588"
      },
      "outputs": [
        {
          "output_type": "execute_result",
          "data": {
            "text/plain": [
              "array([[[959,   2],\n",
              "        [ 23,  44]],\n",
              "\n",
              "       [[923,   3],\n",
              "        [ 36,  66]],\n",
              "\n",
              "       [[867,  10],\n",
              "        [ 23, 128]],\n",
              "\n",
              "       [[968,   6],\n",
              "        [ 12,  42]],\n",
              "\n",
              "       [[837,  23],\n",
              "        [ 27, 141]],\n",
              "\n",
              "       [[907,   1],\n",
              "        [  2, 118]],\n",
              "\n",
              "       [[853,   7],\n",
              "        [  7, 161]],\n",
              "\n",
              "       [[872,  15],\n",
              "        [ 18, 123]],\n",
              "\n",
              "       [[965,   6],\n",
              "        [  6,  51]]])"
            ]
          },
          "metadata": {},
          "execution_count": 22
        }
      ],
      "source": [
        "\n",
        "conf = multilabel_confusion_matrix(y_true, y_pred)\n",
        "\n",
        "conf"
      ]
    },
    {
      "cell_type": "code",
      "source": [
        "from sklearn.metrics import accuracy_score, f1_score, roc_auc_score ,precision_score, make_scorer, recall_score\n",
        "\"\"\"\n",
        "f1_score(y_true, y_pred, average='macro')\n",
        "f1_score(y_true, y_pred, average='micro')\n",
        "f1_score(y_true, y_pred, average='weighted')\n",
        "\"\"\"\n",
        "f1_score(y_true, y_pred, average=None)\n",
        "acc = accuracy_score(y_true, y_pred)\n",
        "f1 = f1_score(y_true, y_pred)\n",
        "roc_auc = roc_auc_score(y_true, y_pred)\n",
        "prec = precision_score(y_true, y_pred)\n",
        "rec = recall_score(y_true, y_pred)\n",
        "print('Accuracy:', acc)\n",
        "print('F1-Score:', f1)\n",
        "print('ROC-AUC:', roc_auc)\n",
        "print('Recall:', rec)\n",
        "print('Precision:', prec)\n"
      ],
      "metadata": {
        "id": "MCYtyxvj00yg",
        "colab": {
          "base_uri": "https://localhost:8080/",
          "height": 245
        },
        "outputId": "469966af-d5c2-4dc8-eec7-b433f1033a2a"
      },
      "execution_count": 1,
      "outputs": [
        {
          "output_type": "error",
          "ename": "NameError",
          "evalue": "ignored",
          "traceback": [
            "\u001b[0;31m---------------------------------------------------------------------------\u001b[0m",
            "\u001b[0;31mNameError\u001b[0m                                 Traceback (most recent call last)",
            "\u001b[0;32m<ipython-input-1-49d0f51d37d1>\u001b[0m in \u001b[0;36m<cell line: 7>\u001b[0;34m()\u001b[0m\n\u001b[1;32m      5\u001b[0m \u001b[0mf1_score\u001b[0m\u001b[0;34m(\u001b[0m\u001b[0my_true\u001b[0m\u001b[0;34m,\u001b[0m \u001b[0my_pred\u001b[0m\u001b[0;34m,\u001b[0m \u001b[0maverage\u001b[0m\u001b[0;34m=\u001b[0m\u001b[0;34m'weighted'\u001b[0m\u001b[0;34m)\u001b[0m\u001b[0;34m\u001b[0m\u001b[0;34m\u001b[0m\u001b[0m\n\u001b[1;32m      6\u001b[0m \"\"\"\n\u001b[0;32m----> 7\u001b[0;31m \u001b[0mf1_score\u001b[0m\u001b[0;34m(\u001b[0m\u001b[0my_true\u001b[0m\u001b[0;34m,\u001b[0m \u001b[0my_pred\u001b[0m\u001b[0;34m,\u001b[0m \u001b[0maverage\u001b[0m\u001b[0;34m=\u001b[0m\u001b[0;32mNone\u001b[0m\u001b[0;34m)\u001b[0m\u001b[0;34m\u001b[0m\u001b[0;34m\u001b[0m\u001b[0m\n\u001b[0m\u001b[1;32m      8\u001b[0m \u001b[0macc\u001b[0m \u001b[0;34m=\u001b[0m \u001b[0maccuracy_score\u001b[0m\u001b[0;34m(\u001b[0m\u001b[0my_true\u001b[0m\u001b[0;34m,\u001b[0m \u001b[0my_pred\u001b[0m\u001b[0;34m)\u001b[0m\u001b[0;34m\u001b[0m\u001b[0;34m\u001b[0m\u001b[0m\n\u001b[1;32m      9\u001b[0m \u001b[0mf1\u001b[0m \u001b[0;34m=\u001b[0m \u001b[0mf1_score\u001b[0m\u001b[0;34m(\u001b[0m\u001b[0my_true\u001b[0m\u001b[0;34m,\u001b[0m \u001b[0my_pred\u001b[0m\u001b[0;34m)\u001b[0m\u001b[0;34m\u001b[0m\u001b[0;34m\u001b[0m\u001b[0m\n",
            "\u001b[0;31mNameError\u001b[0m: name 'y_true' is not defined"
          ]
        }
      ]
    },
    {
      "cell_type": "code",
      "execution_count": null,
      "metadata": {
        "id": "02iUNYmCvBBH"
      },
      "outputs": [],
      "source": [
        "\"\"\"\n",
        "import pickle\n",
        "from google.colab import drive\n",
        "drive.mount('/content/drive')\n",
        "\n",
        "x= {'model' : model, 'result_test' : result, 'LabelBinarizer' : LabelBinarizer};\n",
        "output = open('/content/drive/MyDrive/Colab Notebooks/model.pkl', 'wb')\n",
        "pickle.dump(x,output)\n",
        "\"\"\""
      ]
    }
  ],
  "metadata": {
    "accelerator": "GPU",
    "colab": {
      "provenance": [],
      "gpuType": "V100"
    },
    "kernelspec": {
      "display_name": "Python 3",
      "name": "python3"
    },
    "language_info": {
      "codemirror_mode": {
        "name": "ipython",
        "version": 3
      },
      "file_extension": ".py",
      "mimetype": "text/x-python",
      "name": "python",
      "nbconvert_exporter": "python",
      "pygments_lexer": "ipython3",
      "version": "3.9.6"
    }
  },
  "nbformat": 4,
  "nbformat_minor": 0
}