{
 "cells": [
  {
   "cell_type": "code",
   "execution_count": 114,
   "metadata": {},
   "outputs": [],
   "source": [
    "#%%capture\n",
    "\n",
    "#!pip install 'fhnw-nlp-utils>=0.8.0,<0.9.0'\n",
    "#!pip install transformers\n",
    "from fhnw.nlp.utils.processing import parallelize_dataframe\n",
    "from fhnw.nlp.utils.processing import is_iterable\n",
    "from fhnw.nlp.utils.storage import download\n",
    "from fhnw.nlp.utils.storage import save_dataframe\n",
    "from fhnw.nlp.utils.storage import load_dataframe\n",
    "import pandas as pd\n",
    "import numpy as np\n",
    "import re\n",
    "import tqdm\n",
    "from datetime import datetime\n",
    "#from transformers import AutoTokenizer, TFAutoModel\n",
    "import pandas as pd\n",
    "import numpy as np\n",
    "import seaborn as sns\n",
    "from sklearn.metrics import confusion_matrix, ConfusionMatrixDisplay\n",
    "from sklearn.metrics import multilabel_confusion_matrix\n",
    "import matplotlib.pyplot as plt\n",
    "import tensorflow as tf\n",
    "#from transformers import BertTokenizer, TFBertModel\n",
    "from sklearn import metrics\n",
    "from sklearn.model_selection import train_test_split\n",
    "from sklearn.preprocessing import LabelBinarizer\n",
    "import re\n",
    "from sklearn.ensemble import GradientBoostingClassifier\n",
    "from sklearn.model_selection import GridSearchCV\n",
    "from sklearn.ensemble import RandomForestClassifier\n",
    "from imblearn.over_sampling import SMOTE\n",
    "from sklearn.feature_extraction.text import TfidfVectorizer\n",
    "from sklearn.linear_model import SGDClassifier\n",
    "from sklearn.pipeline import Pipeline\n",
    "from fhnw.nlp.utils.preprocess import preprocess\n",
    "from sklearn.metrics import accuracy_score, f1_score, roc_auc_score ,precision_score, make_scorer, recall_score\n",
    "tqdm.tqdm.pandas()\n",
    "sns.set_style('whitegrid')\n",
    "\n",
    "pd.options.display.max_colwidth = 600\n",
    "pd.options.display.max_rows = 400\n"
   ]
  },
  {
   "cell_type": "markdown",
   "metadata": {},
   "source": [
    "Laden der Daten"
   ]
  },
  {
   "cell_type": "code",
   "execution_count": 115,
   "metadata": {},
   "outputs": [],
   "source": [
    "file = \"data/german_news_articles_original_train.parq\"\n",
    "download(\"https://drive.switch.ch/index.php/s/mRnuzx4BLpMLqyz/download\", file)\n",
    "data_train = load_dataframe(file)\n",
    "\n",
    "file = \"data/german_news_articles_original_test.parq\"\n",
    "download(\"https://drive.switch.ch/index.php/s/DKUnZraeGp3EIK3/download\", file)\n",
    "data_test = load_dataframe(file)\n",
    "\n",
    "\n",
    "data_train[\"split\"] = \"train\"\n",
    "data_test[\"split\"] = \"test\"\n",
    "data_all = pd.concat([data_train, data_test])\n",
    "data = data_train"
   ]
  },
  {
   "cell_type": "code",
   "execution_count": 116,
   "metadata": {},
   "outputs": [],
   "source": [
    "data_all = data_all.drop([\"text\"], axis=1, errors='ignore')"
   ]
  },
  {
   "cell_type": "code",
   "execution_count": 117,
   "metadata": {},
   "outputs": [],
   "source": [
    "from sklearn.preprocessing import LabelEncoder\n",
    "le = LabelEncoder()\n",
    "label_code = le.fit(data_train['label'].drop_duplicates())\n",
    "#y_train "
   ]
  },
  {
   "cell_type": "code",
   "execution_count": 118,
   "metadata": {},
   "outputs": [
    {
     "data": {
      "text/html": [
       "<div>\n",
       "<style scoped>\n",
       "    .dataframe tbody tr th:only-of-type {\n",
       "        vertical-align: middle;\n",
       "    }\n",
       "\n",
       "    .dataframe tbody tr th {\n",
       "        vertical-align: top;\n",
       "    }\n",
       "\n",
       "    .dataframe thead th {\n",
       "        text-align: right;\n",
       "    }\n",
       "</style>\n",
       "<table border=\"1\" class=\"dataframe\">\n",
       "  <thead>\n",
       "    <tr style=\"text-align: right;\">\n",
       "      <th></th>\n",
       "      <th>label</th>\n",
       "    </tr>\n",
       "  </thead>\n",
       "  <tbody>\n",
       "    <tr>\n",
       "      <th>0</th>\n",
       "      <td>Sport</td>\n",
       "    </tr>\n",
       "    <tr>\n",
       "      <th>1</th>\n",
       "      <td>Kultur</td>\n",
       "    </tr>\n",
       "    <tr>\n",
       "      <th>2</th>\n",
       "      <td>Web</td>\n",
       "    </tr>\n",
       "    <tr>\n",
       "      <th>3</th>\n",
       "      <td>Wirtschaft</td>\n",
       "    </tr>\n",
       "    <tr>\n",
       "      <th>4</th>\n",
       "      <td>Inland</td>\n",
       "    </tr>\n",
       "    <tr>\n",
       "      <th>5</th>\n",
       "      <td>Etat</td>\n",
       "    </tr>\n",
       "    <tr>\n",
       "      <th>6</th>\n",
       "      <td>International</td>\n",
       "    </tr>\n",
       "    <tr>\n",
       "      <th>7</th>\n",
       "      <td>Panorama</td>\n",
       "    </tr>\n",
       "    <tr>\n",
       "      <th>8</th>\n",
       "      <td>Wissenschaft</td>\n",
       "    </tr>\n",
       "  </tbody>\n",
       "</table>\n",
       "</div>"
      ],
      "text/plain": [
       "           label\n",
       "0          Sport\n",
       "1         Kultur\n",
       "2            Web\n",
       "3     Wirtschaft\n",
       "4         Inland\n",
       "5           Etat\n",
       "6  International\n",
       "7       Panorama\n",
       "8   Wissenschaft"
      ]
     },
     "execution_count": 118,
     "metadata": {},
     "output_type": "execute_result"
    }
   ],
   "source": [
    "label = pd.DataFrame(data_train['label'].drop_duplicates(inplace=False))\n",
    "label.reset_index(inplace = True, drop = True)\n",
    "label"
   ]
  },
  {
   "cell_type": "markdown",
   "metadata": {},
   "source": [
    "Vorbereiten der Daten und kurzer check der längen."
   ]
  },
  {
   "cell_type": "code",
   "execution_count": 119,
   "metadata": {},
   "outputs": [],
   "source": [
    "def clean_text(text, keep_punctuation=False):\n",
    "    \"\"\"Cleans text by removing html tags, non ascii chars, digits and optionally punctuation\"\"\"\n",
    "\n",
    "\n",
    "\n",
    "    # Compile RE pattern for HTTPS address, then Substitute it for blank\n",
    "    RE_HTTPS = re.compile(r\"https?://\\S+ \")\n",
    "    text = re.sub(RE_HTTPS, \"\", text)\n",
    "\n",
    "    # Subsitute twitter picutures for blank\n",
    "    text = re.sub(r'pic.twitter.com/[\\w]*',\"\", text)\n",
    "\n",
    "    # Subsitute multiple points space for 1 point\n",
    "    text = re.sub(r\"\\(?[.][.]+\\)?\", \".\", text)\n",
    "\n",
    "    # Compile RE pattern for HTML tags, then Substitute it for blank\n",
    "    RE_TAGS = re.compile(r\"<[^>]+>\")\n",
    "    text = re.sub(RE_TAGS, \" \", text)\n",
    "\n",
    "    # Compile RE patterns for general text, including punctuation rule\n",
    "    if keep_punctuation:\n",
    "        RE_ASCII = re.compile(r\"[^a-züöä,.!?]\", re.IGNORECASE)\n",
    "        RE_SINGLECHAR = re.compile(r\"\\b[a-züöä,.!?]\\b\", re.IGNORECASE)\n",
    "    else:\n",
    "        RE_ASCII = re.compile(r\"[^A-Za-zÀ-ž ]\", re.IGNORECASE)\n",
    "        RE_SINGLECHAR = re.compile(r\"\\b[A-Za-zÀ-ž]\\b\", re.IGNORECASE)\n",
    "\n",
    "    # keep only ASCII + European Chars and whitespace, no digits\n",
    "    text = re.sub(RE_ASCII, \" \", text)\n",
    "    # convert all whitespaces (tabs etc.) to single wspace\n",
    "    text = re.sub(RE_SINGLECHAR, \" \", text)\n",
    "\n",
    "    # Subsitute multiple blank space for 1 blank space\n",
    "    text = re.sub(r\"\\s+\", \" \", text)\n",
    "\n",
    "    # Subsitute double punctuation (left-over after previous subsitutions) for 1 point\n",
    "    text = re.sub(r\" [.,]+ [,.]+\", \".\", text)\n",
    "\n",
    "    return text"
   ]
  },
  {
   "cell_type": "code",
   "execution_count": 120,
   "metadata": {},
   "outputs": [
    {
     "name": "stdout",
     "output_type": "stream",
     "text": [
      "9245 1028 1028\n"
     ]
    }
   ],
   "source": [
    "X_train = data['text_original'] #.apply(clean_text, keep_punctuation = True) -> getestet, gibt schlechtere Resultate\n",
    "X_test = data_test['text_original'] #.apply(clean_text, keep_punctuation = True)-> getestet, gibt schlechtere Resultate\n",
    "y_train = label_code.transform(data['label'])\n",
    "y_true = label_code.transform(data_test['label'])\n",
    "print(len(y_train),len(y_true), len(X_test))\n"
   ]
  },
  {
   "cell_type": "markdown",
   "metadata": {},
   "source": [
    "Der untere Code importiert das stopwords-Korpus aus dem Natural Language Toolkit (NLTK) und lädt die erforderlichen Ressourcen für deutsche Stoppwörter herunter. Anschließend erstellt er eine Menge deutscher Stoppwörter und speichert sie in der Variablen stopwords."
   ]
  },
  {
   "cell_type": "markdown",
   "metadata": {},
   "source": [
    "# Tensorflow Baseline"
   ]
  },
  {
   "cell_type": "code",
   "execution_count": 121,
   "metadata": {},
   "outputs": [],
   "source": [
    "vocab_size = 10000\n",
    "BATCH_SIZE = 32\n",
    "EPOCHS = 12\n",
    "LEARNING_RATE = 1e-5\n",
    "NEURON = 2**5\n"
   ]
  },
  {
   "cell_type": "code",
   "execution_count": 122,
   "metadata": {},
   "outputs": [
    {
     "data": {
      "text/plain": [
       "\"\\ncount_vectorizer = tf.keras.layers.TextVectorization(\\n    max_tokens=vocab_size,\\n    output_mode='count'\\n)\\n\\ncount_vectorizer.adapt(X_train.values)\\n\\n\\ntfidf_vectorizer = tf.keras.layers.TextVectorization(\\n    max_tokens=vocab_size,\\n    output_mode='tf-idf',\\n    ngrams=(2, 3)\\n)\\ntfidf_vectorizer.adapt(X_train.values)\\n# Define the neural network architecture\\nmodel = tf.keras.Sequential([\\n    tfidf_vectorizer,\\n    tf.keras.layers.Dense(32, activation='relu', input_shape=(vocab_size,)),  # Hidden layer with ReLU activation\\n    tf.keras.layers.Dense(9, activation='softmax')  # Output layer with softmax activation for multi-class classification\\n])\\n\\n# Compile the model\\nmodel.compile(loss='sparse_categorical_crossentropy', optimizer='adam', metrics=['accuracy'])\\nmodel.summary()\\n\""
      ]
     },
     "execution_count": 122,
     "metadata": {},
     "output_type": "execute_result"
    }
   ],
   "source": [
    "tf.keras.layers.TextVectorization(\n",
    "    max_tokens=None,\n",
    "    standardize='lower_and_strip_punctuation',\n",
    "    split='whitespace',\n",
    "    ngrams=None,\n",
    "    output_mode='int',\n",
    "    output_sequence_length=None,\n",
    "    pad_to_max_tokens=False,\n",
    "    vocabulary=None,\n",
    "    idf_weights=None,\n",
    "    sparse=False,\n",
    "    ragged=False,\n",
    "    encoding='utf-8',\n",
    ")\n",
    "\"\"\"\n",
    "count_vectorizer = tf.keras.layers.TextVectorization(\n",
    "    max_tokens=vocab_size,\n",
    "    output_mode='count'\n",
    ")\n",
    "\n",
    "count_vectorizer.adapt(X_train.values)\n",
    "\n",
    "\n",
    "tfidf_vectorizer = tf.keras.layers.TextVectorization(\n",
    "    max_tokens=vocab_size,\n",
    "    output_mode='tf-idf',\n",
    "    ngrams=(2, 3)\n",
    ")\n",
    "tfidf_vectorizer.adapt(X_train.values)\n",
    "# Define the neural network architecture\n",
    "model = tf.keras.Sequential([\n",
    "    tfidf_vectorizer,\n",
    "    tf.keras.layers.Dense(32, activation='relu', input_shape=(vocab_size,)),  # Hidden layer with ReLU activation\n",
    "    tf.keras.layers.Dense(9, activation='softmax')  # Output layer with softmax activation for multi-class classification\n",
    "])\n",
    "\n",
    "# Compile the model\n",
    "model.compile(loss='sparse_categorical_crossentropy', optimizer='adam', metrics=['accuracy'])\n",
    "model.summary()\n",
    "\"\"\""
   ]
  },
  {
   "cell_type": "code",
   "execution_count": 123,
   "metadata": {},
   "outputs": [],
   "source": [
    "train_dataset = (tf.data.Dataset.from_tensor_slices((X_train.values, y_train))\n",
    "                    .shuffle(buffer_size=len(X_train.values), reshuffle_each_iteration=True)\n",
    "                    .repeat(EPOCHS)\n",
    "                    .batch(BATCH_SIZE))\n",
    "test_dataset = (tf.data.Dataset.from_tensor_slices((X_test.values, y_true))\n",
    "                    .batch(BATCH_SIZE))"
   ]
  },
  {
   "cell_type": "code",
   "execution_count": 124,
   "metadata": {},
   "outputs": [],
   "source": [
    "label_binarizer = LabelBinarizer()\n",
    "label_binarizer.fit(data_all[\"label\"])\n",
    "y_true=label_binarizer.transform(data_test['label'])"
   ]
  },
  {
   "cell_type": "markdown",
   "metadata": {},
   "source": [
    "Nur so aus Intresse mal noch 2 Layer hinzugefügt, um zu sehen wie das Netzwerk reagiert. Irgendwie kann ich nicht glauben das wir mit so einem Netwerk schon nahe an xgb boost sind... vielleicht irgendwo en Fehler..."
   ]
  },
  {
   "cell_type": "code",
   "execution_count": 125,
   "metadata": {},
   "outputs": [
    {
     "name": "stdout",
     "output_type": "stream",
     "text": [
      "Model: \"sequential_11\"\n",
      "_________________________________________________________________\n",
      " Layer (type)                Output Shape              Param #   \n",
      "=================================================================\n",
      " text_vectorization_18 (Tex  (None, 10000)             0         \n",
      " tVectorization)                                                 \n",
      "                                                                 \n",
      " dense_30 (Dense)            (None, 64)                640064    \n",
      "                                                                 \n",
      " dense_31 (Dense)            (None, 64)                4160      \n",
      "                                                                 \n",
      " dense_32 (Dense)            (None, 64)                4160      \n",
      "                                                                 \n",
      " dense_33 (Dense)            (None, 9)                 585       \n",
      "                                                                 \n",
      "=================================================================\n",
      "Total params: 648969 (2.48 MB)\n",
      "Trainable params: 648969 (2.48 MB)\n",
      "Non-trainable params: 0 (0.00 Byte)\n",
      "_________________________________________________________________\n"
     ]
    }
   ],
   "source": [
    "count_vectorizer = tf.keras.layers.TextVectorization(\n",
    "    max_tokens=vocab_size,\n",
    "    output_mode='count'\n",
    ")\n",
    "\n",
    "\n",
    "\n",
    "count_vectorizer.adapt(X_train.values)\n",
    "\n",
    "\n",
    "model = tf.keras.Sequential([\n",
    "    count_vectorizer,\n",
    "    tf.keras.layers.Dense(NEURON, activation='relu', input_shape=(vocab_size,)),\n",
    "    tf.keras.layers.Dense(NEURON, activation='relu', input_shape=(vocab_size,)),\n",
    "    tf.keras.layers.Dense(NEURON, activation='relu', input_shape=(vocab_size,)),   # Hidden layer with ReLU activation\n",
    "    tf.keras.layers.Dense(9, activation='softmax')  # Output layer with softmax activation for multi-class classification\n",
    "])\n",
    "\n",
    "# Compile the model\n",
    "model.compile(loss='sparse_categorical_crossentropy', optimizer='adam', metrics=['accuracy'])\n",
    "model.summary()"
   ]
  },
  {
   "cell_type": "code",
   "execution_count": 126,
   "metadata": {},
   "outputs": [
    {
     "name": "stdout",
     "output_type": "stream",
     "text": [
      "Epoch 1/12\n"
     ]
    },
    {
     "name": "stdout",
     "output_type": "stream",
     "text": [
      "3467/3467 [==============================] - 58s 16ms/step - loss: 0.1371 - accuracy: 0.9607 - val_loss: 1.4022 - val_accuracy: 0.8045\n",
      "Epoch 2/12\n",
      "3467/3467 [==============================] - 60s 17ms/step - loss: 0.0109 - accuracy: 0.9972 - val_loss: 1.2050 - val_accuracy: 0.8054\n",
      "Epoch 3/12\n",
      "3467/3467 [==============================] - 63s 18ms/step - loss: 0.0108 - accuracy: 0.9969 - val_loss: 1.2970 - val_accuracy: 0.8307\n",
      "Epoch 4/12\n",
      "3467/3467 [==============================] - 67s 19ms/step - loss: 0.0079 - accuracy: 0.9979 - val_loss: 1.1681 - val_accuracy: 0.8444\n",
      "Epoch 5/12\n",
      "3467/3467 [==============================] - 68s 20ms/step - loss: 9.3674e-04 - accuracy: 0.9996 - val_loss: 1.3818 - val_accuracy: 0.8395\n",
      "Epoch 6/12\n",
      "3467/3467 [==============================] - 68s 20ms/step - loss: 0.0079 - accuracy: 0.9981 - val_loss: 1.3279 - val_accuracy: 0.8356\n",
      "Epoch 7/12\n",
      "3467/3467 [==============================] - 69s 20ms/step - loss: 0.0062 - accuracy: 0.9985 - val_loss: 1.4744 - val_accuracy: 0.8307\n",
      "Epoch 8/12\n",
      "3467/3467 [==============================] - 68s 20ms/step - loss: 5.1143e-04 - accuracy: 0.9996 - val_loss: 1.6435 - val_accuracy: 0.8278\n",
      "Epoch 9/12\n",
      "3467/3467 [==============================] - 69s 20ms/step - loss: 0.0065 - accuracy: 0.9986 - val_loss: 1.6100 - val_accuracy: 0.8298\n",
      "Epoch 10/12\n",
      "3467/3467 [==============================] - 69s 20ms/step - loss: 3.8908e-04 - accuracy: 0.9997 - val_loss: 1.7041 - val_accuracy: 0.8268\n",
      "Epoch 11/12\n",
      "3467/3467 [==============================] - 69s 20ms/step - loss: 0.0068 - accuracy: 0.9985 - val_loss: 1.5809 - val_accuracy: 0.8171\n",
      "Epoch 12/12\n",
      "3467/3467 [==============================] - 70s 20ms/step - loss: 7.1868e-04 - accuracy: 0.9996 - val_loss: 1.5123 - val_accuracy: 0.8249\n"
     ]
    }
   ],
   "source": [
    "history = model.fit(\n",
    "    train_dataset,\n",
    "    steps_per_epoch=len(train_dataset),\n",
    "    epochs=EPOCHS,\n",
    "    validation_data=test_dataset,\n",
    "    validation_steps=len(test_dataset)\n",
    ")"
   ]
  },
  {
   "cell_type": "code",
   "execution_count": 127,
   "metadata": {},
   "outputs": [
    {
     "data": {
      "text/plain": [
       "<AxesSubplot: xlabel='epoch'>"
      ]
     },
     "execution_count": 127,
     "metadata": {},
     "output_type": "execute_result"
    },
    {
     "data": {
      "image/png": "[encoded data removed]",
      "text/plain": [
       "<Figure size 640x480 with 1 Axes>"
      ]
     },
     "metadata": {},
     "output_type": "display_data"
    }
   ],
   "source": [
    "history_df = pd.DataFrame({'epoch': history.epoch, **history.history}).set_index('epoch')\n",
    "history_df.plot()"
   ]
  },
  {
   "cell_type": "code",
   "execution_count": 128,
   "metadata": {},
   "outputs": [
    {
     "name": "stdout",
     "output_type": "stream",
     "text": [
      "33/33 [==============================] - 1s 11ms/step\n"
     ]
    }
   ],
   "source": [
    "result = model.predict(X_test.values)"
   ]
  },
  {
   "cell_type": "code",
   "execution_count": 129,
   "metadata": {},
   "outputs": [
    {
     "data": {
      "text/plain": [
       "array([[[936,  25],\n",
       "        [ 19,  48]],\n",
       "\n",
       "       [[906,  20],\n",
       "        [ 24,  78]],\n",
       "\n",
       "       [[859,  18],\n",
       "        [ 25, 126]],\n",
       "\n",
       "       [[962,  12],\n",
       "        [ 13,  41]],\n",
       "\n",
       "       [[836,  24],\n",
       "        [ 41, 127]],\n",
       "\n",
       "       [[906,   2],\n",
       "        [  6, 114]],\n",
       "\n",
       "       [[844,  16],\n",
       "        [ 25, 143]],\n",
       "\n",
       "       [[862,  25],\n",
       "        [ 33, 108]],\n",
       "\n",
       "       [[956,  15],\n",
       "        [  5,  52]]], dtype=int64)"
      ]
     },
     "execution_count": 129,
     "metadata": {},
     "output_type": "execute_result"
    }
   ],
   "source": [
    "result = result > .5\n",
    "y_pred = result.astype(int)\n",
    "conf = multilabel_confusion_matrix(y_true, y_pred)\n",
    "conf"
   ]
  },
  {
   "cell_type": "markdown",
   "metadata": {},
   "source": [
    "Accuracy: 0.8239299610894941\n",
    "F1-Score: 0.8271433111185562\n",
    "Recall: 0.828277902157589\n",
    "Precision: 0.830353919085406"
   ]
  },
  {
   "cell_type": "code",
   "execution_count": 130,
   "metadata": {},
   "outputs": [
    {
     "name": "stdout",
     "output_type": "stream",
     "text": [
      "Accuracy: 0.8142023346303502\n",
      "F1-Score: 0.816699470641309\n",
      "Recall: 0.8122445715398255\n",
      "Precision: 0.8237084766974172\n"
     ]
    }
   ],
   "source": [
    "acc = accuracy_score(y_true, y_pred)\n",
    "f1 = f1_score(y_true, y_pred,average='macro')\n",
    "#roc_auc = roc_auc_score(y_true, y_pred, average='ovs')\n",
    "prec = precision_score(y_true, y_pred,average='macro')\n",
    "rec = recall_score(y_true, y_pred,average='macro')\n",
    "print('Accuracy:', acc)\n",
    "print('F1-Score:', f1)\n",
    "#print('ROC-AUC:', roc_auc)\n",
    "print('Recall:', rec)\n",
    "print('Precision:', prec)"
   ]
  },
  {
   "cell_type": "code",
   "execution_count": 131,
   "metadata": {},
   "outputs": [
    {
     "name": "stdout",
     "output_type": "stream",
     "text": [
      " 1/33 [..............................] - ETA: 1s"
     ]
    },
    {
     "name": "stdout",
     "output_type": "stream",
     "text": [
      "33/33 [==============================] - 0s 11ms/step\n",
      "Accuracy: 0.8142023346303502\n",
      "F1-Score: 0.816699470641309\n",
      "Recall: 0.8122445715398255\n",
      "Precision: 0.8237084766974172\n"
     ]
    }
   ],
   "source": [
    "result = model.predict(X_test.values)\n",
    "result = result > .5\n",
    "y_pred = result.astype(int)\n",
    "acc = accuracy_score(y_true, y_pred)\n",
    "f1 = f1_score(y_true, y_pred,average='macro')\n",
    "#roc_auc = roc_auc_score(y_true, y_pred, average='ovs')\n",
    "prec = precision_score(y_true, y_pred,average='macro')\n",
    "rec = recall_score(y_true, y_pred,average='macro')\n",
    "print('Accuracy:', acc)\n",
    "print('F1-Score:', f1)\n",
    "#print('ROC-AUC:', roc_auc)\n",
    "print('Recall:', rec)\n",
    "print('Precision:', prec)"
   ]
  },
  {
   "cell_type": "markdown",
   "metadata": {},
   "source": [
    "# Fazit\n",
    "Sowohl mit einfachen Neuralen Netzenohne Regulierung, wie auch mit dem XGB classifier ist ein F1-Score von 83% machbar. Habe bei diesem Notebook sehr viel gelernt. Ich hatte mich gleich auf Bertmodell etc. gestürtzt und hatte wenig Grundlagenwissen, als ich mit dem Projekt angefangen habe. Durch die Grundlagen und Computervision Prüfung musste ich mir das wissen aneignen, was mir hier kurz vor Abgabe nochmals enormer Lerneffekt gegeben hat. Ich habe sehr viele Bertmodelle versucht zu optimieren, bin aber nie über F1 von 90% gekommen. Bin gespannt was ich ich mit Regulierung in der kurzen Zeit noch schaffe aus den Basline Netzwerken zu holen.\n",
    "\n",
    "\n"
   ]
  }
 ],
 "metadata": {
  "kernelspec": {
   "display_name": ".venv",
   "language": "python",
   "name": "python3"
  },
  "language_info": {
   "codemirror_mode": {
    "name": "ipython",
    "version": 3
   },
   "file_extension": ".py",
   "mimetype": "text/x-python",
   "name": "python",
   "nbconvert_exporter": "python",
   "pygments_lexer": "ipython3",
   "version": "3.9.6"
  }
 },
 "nbformat": 4,
 "nbformat_minor": 2
}
