{
  "cells": [
    {
      "cell_type": "markdown",
      "metadata": {
        "id": "8dZiMvk-NxZd"
      },
      "source": [
        "<img align=\"right\" width=\"400\" src=\"https://www.fhnw.ch/de/++theme++web16theme/assets/media/img/fachhochschule-nordwestschweiz-fhnw-logo.svg\" alt=\"FHNW Logo\">\n",
        "\n",
        "\n",
        "# German News Articles\n",
        "\n",
        "by Joel Akeret and Fabian Märki\n",
        "\n",
        "## Summary\n",
        "This is a short intro on how to access the *Ten Thousand German News Articles Dataset* for the *default project* (we still encourage you to work with your own dataset).\n",
        "\n",
        "## Links\n",
        "- [Ten Thousand German News Articles Dataset](https://tblock.github.io/10kGNAD/)\n",
        "\n",
        "<a href=\"https://colab.research.google.com/github/markif/2023_HS_DAS_NLP_Notebooks/blob/master/XX_German_News_Article.ipynb\">\n",
        "  <img align=\"left\" src=\"https://colab.research.google.com/assets/colab-badge.svg\" alt=\"Open In Colab\"/>\n",
        "</a>"
      ]
    },
    {
      "cell_type": "code",
      "execution_count": 16,
      "metadata": {
        "id": "jsSGzb_JNxZf"
      },
      "outputs": [],
      "source": [
        "#%%capture\n",
        "\n",
        "#!pip install 'fhnw-nlp-utils>=0.8.0,<0.9.0'\n",
        "\n",
        "from fhnw.nlp.utils.processing import parallelize_dataframe\n",
        "from fhnw.nlp.utils.processing import is_iterable\n",
        "from fhnw.nlp.utils.storage import download\n",
        "from fhnw.nlp.utils.storage import save_dataframe\n",
        "\n",
        "import pandas as pd\n",
        "import numpy as np\n",
        "import re\n",
        "import tqdm\n",
        "from datetime import datetime\n",
        "\n",
        "import pandas as pd\n",
        "import numpy as np\n",
        "import seaborn as sns\n",
        "from sklearn.metrics import confusion_matrix, ConfusionMatrixDisplay\n",
        "from sklearn.metrics import multilabel_confusion_matrix\n",
        "import matplotlib.pyplot as plt\n",
        "import tensorflow as tf\n",
        "from transformers import BertTokenizer, TFBertModel\n",
        "from sklearn import metrics\n",
        "from sklearn.model_selection import train_test_split\n",
        "from sklearn.preprocessing import LabelBinarizer\n",
        "\n",
        "tqdm.tqdm.pandas()\n",
        "sns.set_style('whitegrid')\n",
        "\n",
        "pd.options.display.max_colwidth = 600\n",
        "pd.options.display.max_rows = 400\n"
      ]
    },
    {
      "cell_type": "markdown",
      "metadata": {
        "id": "ndo9LK50NxZh"
      },
      "source": [
        "We recommend to use the stratified train/test split proposed by the maintainer of the dataset."
      ]
    },
    {
      "cell_type": "code",
      "execution_count": 17,
      "metadata": {
        "id": "my-fhcECNxZh"
      },
      "outputs": [],
      "source": [
        "file = \"data/german_news_articles_original_train.parq\"\n",
        "download(\"https://drive.switch.ch/index.php/s/mRnuzx4BLpMLqyz/download\", file)\n",
        "data_train = load_dataframe(file)\n",
        "\n",
        "file = \"data/german_news_articles_original_test.parq\"\n",
        "download(\"https://drive.switch.ch/index.php/s/DKUnZraeGp3EIK3/download\", file)\n",
        "data_test = load_dataframe(file)"
      ]
    },
    {
      "cell_type": "markdown",
      "metadata": {
        "id": "joZqun3ANxZh"
      },
      "source": [
        "Get a first impression..."
      ]
    },
    {
      "cell_type": "code",
      "execution_count": 18,
      "metadata": {
        "colab": {
          "base_uri": "https://localhost:8080/"
        },
        "id": "kK-sgEwzNxZh",
        "outputId": "93f9a5e5-5edd-4374-bbd2-2ab4317b6c57"
      },
      "outputs": [
        {
          "name": "stdout",
          "output_type": "stream",
          "text": [
            "(9245, 2)\n",
            "(1028, 2)\n"
          ]
        }
      ],
      "source": [
        "print(data_train.shape)\n",
        "print(data_test.shape)"
      ]
    },
    {
      "cell_type": "code",
      "execution_count": 19,
      "metadata": {
        "id": "y8OjknCxNxZi"
      },
      "outputs": [],
      "source": [
        "data_train[\"split\"] = \"train\"\n",
        "data_test[\"split\"] = \"test\""
      ]
    },
    {
      "cell_type": "code",
      "execution_count": 20,
      "metadata": {
        "colab": {
          "base_uri": "https://localhost:8080/",
          "height": 196
        },
        "id": "jJraAxsENxZi",
        "outputId": "0924c02f-d313-4a23-822c-7810cf111dfe"
      },
      "outputs": [
        {
          "data": {
            "text/html": [
              "<div>\n",
              "<style scoped>\n",
              "    .dataframe tbody tr th:only-of-type {\n",
              "        vertical-align: middle;\n",
              "    }\n",
              "\n",
              "    .dataframe tbody tr th {\n",
              "        vertical-align: top;\n",
              "    }\n",
              "\n",
              "    .dataframe thead th {\n",
              "        text-align: right;\n",
              "    }\n",
              "</style>\n",
              "<table border=\"1\" class=\"dataframe\">\n",
              "  <thead>\n",
              "    <tr style=\"text-align: right;\">\n",
              "      <th></th>\n",
              "      <th>text_original</th>\n",
              "      <th>label</th>\n",
              "      <th>split</th>\n",
              "    </tr>\n",
              "  </thead>\n",
              "  <tbody>\n",
              "    <tr>\n",
              "      <th>0</th>\n",
              "      <td>21-Jähriger fällt wohl bis Saisonende aus. Wien – Rapid muss wohl bis Saisonende auf Offensivspieler Thomas Murg verzichten. Der im Winter aus Ried gekommene 21-Jährige erlitt beim 0:4-Heimdebakel gegen Admira Wacker Mödling am Samstag einen Teilriss des Innenbandes im linken Knie, wie eine Magnetresonanz-Untersuchung am Donnerstag ergab. Murg erhielt eine Schiene, muss aber nicht operiert werden. Dennoch steht ihm eine mehrwöchige Pause bevor.</td>\n",
              "      <td>Sport</td>\n",
              "      <td>train</td>\n",
              "    </tr>\n",
              "    <tr>\n",
              "      <th>1</th>\n",
              "      <td>Erfundene Bilder zu Filmen, die als verloren gelten: \"The Forbidden Room\" von Guy Maddin und Evan Johnson ist ein surrealer Ritt durch die magischen Labyrinthe des frühen Kinos. Wien – Die Filmgeschichte ist ein Friedhof der Verlorenen. Unter den Begrabenen finden sich zahllose Filme, von denen nur noch mysteriös oder abenteuerlich klingende Namen kursieren; und solche, über die verstreut herumliegendes Sekundärmaterial Aufschluss erlaubt. Einer davon ist The Forbidden Room, ein Two-Reeler von 1913/14, den der arbeitswütige US-Regisseur Allan Dwan u. a. mit dem Horrordarsteller Lon Chaney ...</td>\n",
              "      <td>Kultur</td>\n",
              "      <td>train</td>\n",
              "    </tr>\n",
              "    <tr>\n",
              "      <th>2</th>\n",
              "      <td>Der frischgekürte CEO Sundar Pichai setzt auf ein umgänglicheres Führungsteam. Die Atmosphäre im Silicon Valley ist rau. Da werden massenhaft Mitarbeiter der direkten Konkurrenz abgeworben, Löhne mit firmenübergreifenden Mauscheleien niedrig gehalten und Untergebene wegen leicht verfehlter Ziele vor die Tür gesetzt. Auch in der höchsten Firmenebene werden brutale Umgangsformen gepflegt: Die Wutausbrüche von Apple-Mitgründer Steve Jobs sind legendär, sein früherer Geschäftspartner Steve Wozniak hätte ihn zu Lebzeiten gerne als Arschloch beschimpft, traute sich aber nicht. Auch Google-Mitgrü...</td>\n",
              "      <td>Web</td>\n",
              "      <td>train</td>\n",
              "    </tr>\n",
              "  </tbody>\n",
              "</table>\n",
              "</div>"
            ],
            "text/plain": [
              "                                                                                                                                                                                                                                                                                                                                                                                                                                                                                                                                                                                                             text_original  \\\n",
              "0                                                                                                                                                         21-Jähriger fällt wohl bis Saisonende aus. Wien – Rapid muss wohl bis Saisonende auf Offensivspieler Thomas Murg verzichten. Der im Winter aus Ried gekommene 21-Jährige erlitt beim 0:4-Heimdebakel gegen Admira Wacker Mödling am Samstag einen Teilriss des Innenbandes im linken Knie, wie eine Magnetresonanz-Untersuchung am Donnerstag ergab. Murg erhielt eine Schiene, muss aber nicht operiert werden. Dennoch steht ihm eine mehrwöchige Pause bevor.   \n",
              "1  Erfundene Bilder zu Filmen, die als verloren gelten: \"The Forbidden Room\" von Guy Maddin und Evan Johnson ist ein surrealer Ritt durch die magischen Labyrinthe des frühen Kinos. Wien – Die Filmgeschichte ist ein Friedhof der Verlorenen. Unter den Begrabenen finden sich zahllose Filme, von denen nur noch mysteriös oder abenteuerlich klingende Namen kursieren; und solche, über die verstreut herumliegendes Sekundärmaterial Aufschluss erlaubt. Einer davon ist The Forbidden Room, ein Two-Reeler von 1913/14, den der arbeitswütige US-Regisseur Allan Dwan u. a. mit dem Horrordarsteller Lon Chaney ...   \n",
              "2  Der frischgekürte CEO Sundar Pichai setzt auf ein umgänglicheres Führungsteam. Die Atmosphäre im Silicon Valley ist rau. Da werden massenhaft Mitarbeiter der direkten Konkurrenz abgeworben, Löhne mit firmenübergreifenden Mauscheleien niedrig gehalten und Untergebene wegen leicht verfehlter Ziele vor die Tür gesetzt. Auch in der höchsten Firmenebene werden brutale Umgangsformen gepflegt: Die Wutausbrüche von Apple-Mitgründer Steve Jobs sind legendär, sein früherer Geschäftspartner Steve Wozniak hätte ihn zu Lebzeiten gerne als Arschloch beschimpft, traute sich aber nicht. Auch Google-Mitgrü...   \n",
              "\n",
              "    label  split  \n",
              "0   Sport  train  \n",
              "1  Kultur  train  \n",
              "2     Web  train  "
            ]
          },
          "execution_count": 20,
          "metadata": {},
          "output_type": "execute_result"
        }
      ],
      "source": [
        "data_train.head(3)"
      ]
    },
    {
      "cell_type": "code",
      "execution_count": 21,
      "metadata": {
        "colab": {
          "base_uri": "https://localhost:8080/",
          "height": 196
        },
        "id": "AW0ntFbVNxZi",
        "outputId": "27525e71-9fbd-48ce-86fe-d90833f24946"
      },
      "outputs": [
        {
          "data": {
            "text/html": [
              "<div>\n",
              "<style scoped>\n",
              "    .dataframe tbody tr th:only-of-type {\n",
              "        vertical-align: middle;\n",
              "    }\n",
              "\n",
              "    .dataframe tbody tr th {\n",
              "        vertical-align: top;\n",
              "    }\n",
              "\n",
              "    .dataframe thead th {\n",
              "        text-align: right;\n",
              "    }\n",
              "</style>\n",
              "<table border=\"1\" class=\"dataframe\">\n",
              "  <thead>\n",
              "    <tr style=\"text-align: right;\">\n",
              "      <th></th>\n",
              "      <th>text_original</th>\n",
              "      <th>label</th>\n",
              "      <th>split</th>\n",
              "    </tr>\n",
              "  </thead>\n",
              "  <tbody>\n",
              "    <tr>\n",
              "      <th>0</th>\n",
              "      <td>Die Gewerkschaft GPA-djp lanciert den \"All-in-Rechner\" und findet, dass die Vertragsform auf die Führungsebene beschränkt gehört. Wien – Die Gewerkschaft GPA-djp sieht Handlungsbedarf bei sogenannten All-in-Verträgen. Für mehr Transparenz haben die Gewerkschaft nun unter www.allinrechner.at ein Online-Werkzeug lanciert, das Arbeitnehmern mit solchen Verträgen helfen soll, sich einen Überblick zu verschaffen. Es geht darum, ob die Differenz zum Grundgehalt nicht womöglich eine zu geringe ist. Schließlich sei ein All-in-Gehalt oft nur auf den ersten Blick von Vorteil, gab GPA-djp-Chef Wolfga...</td>\n",
              "      <td>Wirtschaft</td>\n",
              "      <td>test</td>\n",
              "    </tr>\n",
              "    <tr>\n",
              "      <th>1</th>\n",
              "      <td>Franzosen verteidigen 2:1-Führung – Kritische Stimmen zu Schwedens Superstar, Tore in K.-o.-Phase fehlen – Benfica mit Abwehrsorgen nach St. Petersburg. London – Mit einem trügerischen Vorsprung im Gepäck ist Paris Saint Germain zum Champions-League-Achtelfinale nach London gereist. Am Mittwochabend (20.45 Uhr) verteidigt Frankreichs Serienmeister gegen Chelsea ein 2:1 aus dem Hinspiel. PSG sollte gewarnt sein, die Blues sind seit der Trennung von Jose Mourinho erstarkt. Seit Dezember hat Chelsea unter Guus Hiddink in 18 Pflichtspielen nur die eine Niederlage in Paris einstecken müssen. Ei...</td>\n",
              "      <td>Sport</td>\n",
              "      <td>test</td>\n",
              "    </tr>\n",
              "    <tr>\n",
              "      <th>2</th>\n",
              "      <td>Neues Video von Designern macht im Netz die Runde – sie schlagen etwa bunte Benachrichtigungen vor. Bei den iPhone-Verkaufszahlen ist der Wurm drin: Erstmals seit dessen Einführung musste Apple heuer sinkende Quartalsergebnisse bekanntgeben. CEO Tim Cook hat daher versprochen, das im Herbst erscheinende iPhone 7 werde Dinge können, die viele Menschen zu einer Kaufentscheidungen bewegen wird. Ein großer Bestandteil davon ist nicht nur die Hardware, sondern auch das Betriebssystem iOS. Dessen neueste Versionsnummer 10 könnte im Juni bei Apples WWDC-Event präsentiert werden. Noch ist nur weni...</td>\n",
              "      <td>Web</td>\n",
              "      <td>test</td>\n",
              "    </tr>\n",
              "  </tbody>\n",
              "</table>\n",
              "</div>"
            ],
            "text/plain": [
              "                                                                                                                                                                                                                                                                                                                                                                                                                                                                                                                                                                                                             text_original  \\\n",
              "0  Die Gewerkschaft GPA-djp lanciert den \"All-in-Rechner\" und findet, dass die Vertragsform auf die Führungsebene beschränkt gehört. Wien – Die Gewerkschaft GPA-djp sieht Handlungsbedarf bei sogenannten All-in-Verträgen. Für mehr Transparenz haben die Gewerkschaft nun unter www.allinrechner.at ein Online-Werkzeug lanciert, das Arbeitnehmern mit solchen Verträgen helfen soll, sich einen Überblick zu verschaffen. Es geht darum, ob die Differenz zum Grundgehalt nicht womöglich eine zu geringe ist. Schließlich sei ein All-in-Gehalt oft nur auf den ersten Blick von Vorteil, gab GPA-djp-Chef Wolfga...   \n",
              "1  Franzosen verteidigen 2:1-Führung – Kritische Stimmen zu Schwedens Superstar, Tore in K.-o.-Phase fehlen – Benfica mit Abwehrsorgen nach St. Petersburg. London – Mit einem trügerischen Vorsprung im Gepäck ist Paris Saint Germain zum Champions-League-Achtelfinale nach London gereist. Am Mittwochabend (20.45 Uhr) verteidigt Frankreichs Serienmeister gegen Chelsea ein 2:1 aus dem Hinspiel. PSG sollte gewarnt sein, die Blues sind seit der Trennung von Jose Mourinho erstarkt. Seit Dezember hat Chelsea unter Guus Hiddink in 18 Pflichtspielen nur die eine Niederlage in Paris einstecken müssen. Ei...   \n",
              "2  Neues Video von Designern macht im Netz die Runde – sie schlagen etwa bunte Benachrichtigungen vor. Bei den iPhone-Verkaufszahlen ist der Wurm drin: Erstmals seit dessen Einführung musste Apple heuer sinkende Quartalsergebnisse bekanntgeben. CEO Tim Cook hat daher versprochen, das im Herbst erscheinende iPhone 7 werde Dinge können, die viele Menschen zu einer Kaufentscheidungen bewegen wird. Ein großer Bestandteil davon ist nicht nur die Hardware, sondern auch das Betriebssystem iOS. Dessen neueste Versionsnummer 10 könnte im Juni bei Apples WWDC-Event präsentiert werden. Noch ist nur weni...   \n",
              "\n",
              "        label split  \n",
              "0  Wirtschaft  test  \n",
              "1       Sport  test  \n",
              "2         Web  test  "
            ]
          },
          "execution_count": 21,
          "metadata": {},
          "output_type": "execute_result"
        }
      ],
      "source": [
        "data_test.head(3)"
      ]
    },
    {
      "cell_type": "code",
      "execution_count": 22,
      "metadata": {
        "id": "fmvx5seBNxZi"
      },
      "outputs": [],
      "source": [
        "data_all = pd.concat([data_train, data_test])\n",
        "data = data_train"
      ]
    },
    {
      "cell_type": "code",
      "execution_count": 23,
      "metadata": {
        "colab": {
          "base_uri": "https://localhost:8080/",
          "height": 196
        },
        "id": "k_0D8F8LNxZj",
        "outputId": "5c8ee078-2f18-44f7-9739-b8581d9d1665"
      },
      "outputs": [
        {
          "data": {
            "text/html": [
              "<div>\n",
              "<style scoped>\n",
              "    .dataframe tbody tr th:only-of-type {\n",
              "        vertical-align: middle;\n",
              "    }\n",
              "\n",
              "    .dataframe tbody tr th {\n",
              "        vertical-align: top;\n",
              "    }\n",
              "\n",
              "    .dataframe thead th {\n",
              "        text-align: right;\n",
              "    }\n",
              "</style>\n",
              "<table border=\"1\" class=\"dataframe\">\n",
              "  <thead>\n",
              "    <tr style=\"text-align: right;\">\n",
              "      <th></th>\n",
              "      <th>text_original</th>\n",
              "      <th>label</th>\n",
              "      <th>split</th>\n",
              "    </tr>\n",
              "  </thead>\n",
              "  <tbody>\n",
              "    <tr>\n",
              "      <th>0</th>\n",
              "      <td>21-Jähriger fällt wohl bis Saisonende aus. Wien – Rapid muss wohl bis Saisonende auf Offensivspieler Thomas Murg verzichten. Der im Winter aus Ried gekommene 21-Jährige erlitt beim 0:4-Heimdebakel gegen Admira Wacker Mödling am Samstag einen Teilriss des Innenbandes im linken Knie, wie eine Magnetresonanz-Untersuchung am Donnerstag ergab. Murg erhielt eine Schiene, muss aber nicht operiert werden. Dennoch steht ihm eine mehrwöchige Pause bevor.</td>\n",
              "      <td>Sport</td>\n",
              "      <td>train</td>\n",
              "    </tr>\n",
              "    <tr>\n",
              "      <th>1</th>\n",
              "      <td>Erfundene Bilder zu Filmen, die als verloren gelten: \"The Forbidden Room\" von Guy Maddin und Evan Johnson ist ein surrealer Ritt durch die magischen Labyrinthe des frühen Kinos. Wien – Die Filmgeschichte ist ein Friedhof der Verlorenen. Unter den Begrabenen finden sich zahllose Filme, von denen nur noch mysteriös oder abenteuerlich klingende Namen kursieren; und solche, über die verstreut herumliegendes Sekundärmaterial Aufschluss erlaubt. Einer davon ist The Forbidden Room, ein Two-Reeler von 1913/14, den der arbeitswütige US-Regisseur Allan Dwan u. a. mit dem Horrordarsteller Lon Chaney ...</td>\n",
              "      <td>Kultur</td>\n",
              "      <td>train</td>\n",
              "    </tr>\n",
              "    <tr>\n",
              "      <th>2</th>\n",
              "      <td>Der frischgekürte CEO Sundar Pichai setzt auf ein umgänglicheres Führungsteam. Die Atmosphäre im Silicon Valley ist rau. Da werden massenhaft Mitarbeiter der direkten Konkurrenz abgeworben, Löhne mit firmenübergreifenden Mauscheleien niedrig gehalten und Untergebene wegen leicht verfehlter Ziele vor die Tür gesetzt. Auch in der höchsten Firmenebene werden brutale Umgangsformen gepflegt: Die Wutausbrüche von Apple-Mitgründer Steve Jobs sind legendär, sein früherer Geschäftspartner Steve Wozniak hätte ihn zu Lebzeiten gerne als Arschloch beschimpft, traute sich aber nicht. Auch Google-Mitgrü...</td>\n",
              "      <td>Web</td>\n",
              "      <td>train</td>\n",
              "    </tr>\n",
              "  </tbody>\n",
              "</table>\n",
              "</div>"
            ],
            "text/plain": [
              "                                                                                                                                                                                                                                                                                                                                                                                                                                                                                                                                                                                                             text_original  \\\n",
              "0                                                                                                                                                         21-Jähriger fällt wohl bis Saisonende aus. Wien – Rapid muss wohl bis Saisonende auf Offensivspieler Thomas Murg verzichten. Der im Winter aus Ried gekommene 21-Jährige erlitt beim 0:4-Heimdebakel gegen Admira Wacker Mödling am Samstag einen Teilriss des Innenbandes im linken Knie, wie eine Magnetresonanz-Untersuchung am Donnerstag ergab. Murg erhielt eine Schiene, muss aber nicht operiert werden. Dennoch steht ihm eine mehrwöchige Pause bevor.   \n",
              "1  Erfundene Bilder zu Filmen, die als verloren gelten: \"The Forbidden Room\" von Guy Maddin und Evan Johnson ist ein surrealer Ritt durch die magischen Labyrinthe des frühen Kinos. Wien – Die Filmgeschichte ist ein Friedhof der Verlorenen. Unter den Begrabenen finden sich zahllose Filme, von denen nur noch mysteriös oder abenteuerlich klingende Namen kursieren; und solche, über die verstreut herumliegendes Sekundärmaterial Aufschluss erlaubt. Einer davon ist The Forbidden Room, ein Two-Reeler von 1913/14, den der arbeitswütige US-Regisseur Allan Dwan u. a. mit dem Horrordarsteller Lon Chaney ...   \n",
              "2  Der frischgekürte CEO Sundar Pichai setzt auf ein umgänglicheres Führungsteam. Die Atmosphäre im Silicon Valley ist rau. Da werden massenhaft Mitarbeiter der direkten Konkurrenz abgeworben, Löhne mit firmenübergreifenden Mauscheleien niedrig gehalten und Untergebene wegen leicht verfehlter Ziele vor die Tür gesetzt. Auch in der höchsten Firmenebene werden brutale Umgangsformen gepflegt: Die Wutausbrüche von Apple-Mitgründer Steve Jobs sind legendär, sein früherer Geschäftspartner Steve Wozniak hätte ihn zu Lebzeiten gerne als Arschloch beschimpft, traute sich aber nicht. Auch Google-Mitgrü...   \n",
              "\n",
              "    label  split  \n",
              "0   Sport  train  \n",
              "1  Kultur  train  \n",
              "2     Web  train  "
            ]
          },
          "execution_count": 23,
          "metadata": {},
          "output_type": "execute_result"
        }
      ],
      "source": [
        "data.head(3)"
      ]
    },
    {
      "cell_type": "code",
      "execution_count": 24,
      "metadata": {
        "colab": {
          "base_uri": "https://localhost:8080/",
          "height": 447
        },
        "id": "IhQafcRiNxZj",
        "outputId": "694deef2-4015-4056-970f-c91ef217db6e"
      },
      "outputs": [
        {
          "name": "stdout",
          "output_type": "stream",
          "text": [
            "10273\n"
          ]
        },
        {
          "data": {
            "image/png": "[encoded data removed]",
            "text/plain": [
              "<Figure size 640x480 with 1 Axes>"
            ]
          },
          "metadata": {},
          "output_type": "display_data"
        }
      ],
      "source": [
        "data_all['text_original'].str.len().plot(kind = 'hist', bins = 50)\n",
        "print(len(data_all))"
      ]
    },
    {
      "cell_type": "code",
      "execution_count": 25,
      "metadata": {
        "colab": {
          "base_uri": "https://localhost:8080/",
          "height": 524
        },
        "id": "3Lu5z5NXzLMK",
        "outputId": "b5c6af23-8a90-4619-fe03-a624d8c912cb"
      },
      "outputs": [
        {
          "data": {
            "text/plain": [
              "<Axes: xlabel='label'>"
            ]
          },
          "execution_count": 25,
          "metadata": {},
          "output_type": "execute_result"
        },
        {
          "data": {
            "image/png": "[encoded data removed]",
            "text/plain": [
              "<Figure size 640x480 with 1 Axes>"
            ]
          },
          "metadata": {},
          "output_type": "display_data"
        }
      ],
      "source": [
        "data_all['label'].value_counts().plot(kind = 'bar')"
      ]
    },
    {
      "cell_type": "markdown",
      "metadata": {
        "id": "bLUP_4h5Ka_1"
      },
      "source": [
        "https://www.kaggle.com/datasets/tblock/10kgnad/code"
      ]
    },
    {
      "cell_type": "markdown",
      "metadata": {
        "id": "NABcLavoKZ1o"
      },
      "source": []
    },
    {
      "cell_type": "code",
      "execution_count": 26,
      "metadata": {
        "colab": {
          "base_uri": "https://localhost:8080/"
        },
        "id": "9KbCG27rKd_-",
        "outputId": "2677042f-a399-4e69-ec12-022a5aa8053f"
      },
      "outputs": [
        {
          "name": "stdout",
          "output_type": "stream",
          "text": [
            "Missing data for column [text_original]: 0\n",
            "Missing data for column [label]: 0\n",
            "Missing data for column [split]: 0\n"
          ]
        }
      ],
      "source": [
        "for col in data_all.columns:\n",
        "    print(f\"Missing data for column [{col}]: {data_all[col].isnull().sum()}\")"
      ]
    },
    {
      "cell_type": "code",
      "execution_count": 27,
      "metadata": {
        "colab": {
          "base_uri": "https://localhost:8080/"
        },
        "id": "75vLD2u8KwmJ",
        "outputId": "86ba9136-da8d-48c4-b6b6-a673e4203008"
      },
      "outputs": [
        {
          "name": "stdout",
          "output_type": "stream",
          "text": [
            "                all  train  test\n",
            "label                           \n",
            "Etat            668    601    67\n",
            "Inland         1015    913   102\n",
            "International  1511   1360   151\n",
            "Kultur          539    485    54\n",
            "Panorama       1678   1510   168\n",
            "Sport          1201   1081   120\n",
            "Web            1677   1509   168\n",
            "Wirtschaft     1411   1270   141\n",
            "Wissenschaft    573    516    57\n"
          ]
        }
      ],
      "source": [
        "df_all = data_all[\"label\"].value_counts().sort_index()\n",
        "df_train = data_train[\"label\"].value_counts().sort_index()\n",
        "df_test = data_test[\"label\"].value_counts().sort_index()\n",
        "df = pd.concat([df_all.to_frame(), df_train.to_frame(), df_test.to_frame()], axis=1)#, keys=[\"all\",\"train\",\"test\"])\n",
        "df.columns=[\"all\",\"train\",\"test\"]\n",
        "print (df)"
      ]
    },
    {
      "cell_type": "code",
      "execution_count": 28,
      "metadata": {
        "id": "1ardx_8fKwjM"
      },
      "outputs": [],
      "source": [
        "def clean_text(text, keep_punctuation=False):\n",
        "    \"\"\"Cleans text by removing html tags, non ascii chars, digits and optionally punctuation\"\"\"\n",
        "\n",
        "    import re\n",
        "\n",
        "    # Compile RE pattern for HTTPS address, then Substitute it for blank\n",
        "    RE_HTTPS = re.compile(r\"https?://\\S+ \")\n",
        "    text = re.sub(RE_HTTPS, \"\", text)\n",
        "\n",
        "    # Subsitute twitter picutures for blank\n",
        "    text = re.sub(r'pic.twitter.com/[\\w]*',\"\", text)\n",
        "\n",
        "    # Subsitute multiple points space for 1 point\n",
        "    text = re.sub(r\"\\(?[.][.]+\\)?\", \".\", text)\n",
        "\n",
        "    # Compile RE pattern for HTML tags, then Substitute it for blank\n",
        "    RE_TAGS = re.compile(r\"<[^>]+>\")\n",
        "    text = re.sub(RE_TAGS, \" \", text)\n",
        "\n",
        "    # Compile RE patterns for general text, including punctuation rule\n",
        "    if keep_punctuation:\n",
        "        RE_ASCII = re.compile(r\"[^a-züöä,.!?]\", re.IGNORECASE)\n",
        "        RE_SINGLECHAR = re.compile(r\"\\b[a-züöä,.!?]\\b\", re.IGNORECASE)\n",
        "    else:\n",
        "        RE_ASCII = re.compile(r\"[^A-Za-zÀ-ž ]\", re.IGNORECASE)\n",
        "        RE_SINGLECHAR = re.compile(r\"\\b[A-Za-zÀ-ž]\\b\", re.IGNORECASE)\n",
        "\n",
        "    # keep only ASCII + European Chars and whitespace, no digits\n",
        "    text = re.sub(RE_ASCII, \" \", text)\n",
        "    # convert all whitespaces (tabs etc.) to single wspace\n",
        "    text = re.sub(RE_SINGLECHAR, \" \", text)\n",
        "\n",
        "    # Subsitute multiple blank space for 1 blank space\n",
        "    text = re.sub(r\"\\s+\", \" \", text)\n",
        "\n",
        "    # Subsitute double punctuation (left-over after previous subsitutions) for 1 point\n",
        "    text = re.sub(r\" [.,]+ [,.]+\", \".\", text)\n",
        "\n",
        "    return text"
      ]
    },
    {
      "cell_type": "code",
      "execution_count": null,
      "metadata": {
        "id": "XVCmZEmPNDCt"
      },
      "outputs": [],
      "source": []
    },
    {
      "cell_type": "code",
      "execution_count": 29,
      "metadata": {
        "id": "LH2GdUoRKwgT"
      },
      "outputs": [],
      "source": [
        "data_all = data_all.drop([\"text\"], axis=1, errors='ignore')\n",
        "\n",
        "# Apply text cleaning using MODIN pandas dataframe (parallelized)\n",
        "data_all[\"text\"] =  data_all[\"text_original\"].apply(clean_text, keep_punctuation = True)"
      ]
    },
    {
      "cell_type": "code",
      "execution_count": 30,
      "metadata": {
        "colab": {
          "base_uri": "https://localhost:8080/",
          "height": 283
        },
        "id": "JQfzgmNPKwdC",
        "outputId": "9a433e33-90e1-44d1-9219-36b2bf1c194b"
      },
      "outputs": [
        {
          "data": {
            "text/html": [
              "<div>\n",
              "<style scoped>\n",
              "    .dataframe tbody tr th:only-of-type {\n",
              "        vertical-align: middle;\n",
              "    }\n",
              "\n",
              "    .dataframe tbody tr th {\n",
              "        vertical-align: top;\n",
              "    }\n",
              "\n",
              "    .dataframe thead th {\n",
              "        text-align: right;\n",
              "    }\n",
              "</style>\n",
              "<table border=\"1\" class=\"dataframe\">\n",
              "  <thead>\n",
              "    <tr style=\"text-align: right;\">\n",
              "      <th></th>\n",
              "      <th>text_original</th>\n",
              "      <th>label</th>\n",
              "      <th>split</th>\n",
              "      <th>text</th>\n",
              "    </tr>\n",
              "  </thead>\n",
              "  <tbody>\n",
              "    <tr>\n",
              "      <th>0</th>\n",
              "      <td>21-Jähriger fällt wohl bis Saisonende aus. Wien – Rapid muss wohl bis Saisonende auf Offensivspieler Thomas Murg verzichten. Der im Winter aus Ried gekommene 21-Jährige erlitt beim 0:4-Heimdebakel gegen Admira Wacker Mödling am Samstag einen Teilriss des Innenbandes im linken Knie, wie eine Magnetresonanz-Untersuchung am Donnerstag ergab. Murg erhielt eine Schiene, muss aber nicht operiert werden. Dennoch steht ihm eine mehrwöchige Pause bevor.</td>\n",
              "      <td>Sport</td>\n",
              "      <td>train</td>\n",
              "      <td>Jähriger fällt wohl bis Saisonende aus. Wien Rapid muss wohl bis Saisonende auf Offensivspieler Thomas Murg verzichten. Der im Winter aus Ried gekommene Jährige erlitt beim Heimdebakel gegen Admira Wacker Mödling am Samstag einen Teilriss des Innenbandes im linken Knie, wie eine Magnetresonanz Untersuchung am Donnerstag ergab. Murg erhielt eine Schiene, muss aber nicht operiert werden. Dennoch steht ihm eine mehrwöchige Pause bevor.</td>\n",
              "    </tr>\n",
              "    <tr>\n",
              "      <th>1</th>\n",
              "      <td>Erfundene Bilder zu Filmen, die als verloren gelten: \"The Forbidden Room\" von Guy Maddin und Evan Johnson ist ein surrealer Ritt durch die magischen Labyrinthe des frühen Kinos. Wien – Die Filmgeschichte ist ein Friedhof der Verlorenen. Unter den Begrabenen finden sich zahllose Filme, von denen nur noch mysteriös oder abenteuerlich klingende Namen kursieren; und solche, über die verstreut herumliegendes Sekundärmaterial Aufschluss erlaubt. Einer davon ist The Forbidden Room, ein Two-Reeler von 1913/14, den der arbeitswütige US-Regisseur Allan Dwan u. a. mit dem Horrordarsteller Lon Chaney ...</td>\n",
              "      <td>Kultur</td>\n",
              "      <td>train</td>\n",
              "      <td>Erfundene Bilder zu Filmen, die als verloren gelten The Forbidden Room von Guy Maddin und Evan Johnson ist ein surrealer Ritt durch die magischen Labyrinthe des frühen Kinos. Wien Die Filmgeschichte ist ein Friedhof der Verlorenen. Unter den Begrabenen finden sich zahllose Filme, von denen nur noch mysteriös oder abenteuerlich klingende Namen kursieren und solche, über die verstreut herumliegendes Sekundärmaterial Aufschluss erlaubt. Einer davon ist The Forbidden Room, ein Two Reeler von , den der arbeitswütige US Regisseur Allan Dwan. mit dem Horrordarsteller Lon Chaney gedreht hat. Ein p...</td>\n",
              "    </tr>\n",
              "    <tr>\n",
              "      <th>2</th>\n",
              "      <td>Der frischgekürte CEO Sundar Pichai setzt auf ein umgänglicheres Führungsteam. Die Atmosphäre im Silicon Valley ist rau. Da werden massenhaft Mitarbeiter der direkten Konkurrenz abgeworben, Löhne mit firmenübergreifenden Mauscheleien niedrig gehalten und Untergebene wegen leicht verfehlter Ziele vor die Tür gesetzt. Auch in der höchsten Firmenebene werden brutale Umgangsformen gepflegt: Die Wutausbrüche von Apple-Mitgründer Steve Jobs sind legendär, sein früherer Geschäftspartner Steve Wozniak hätte ihn zu Lebzeiten gerne als Arschloch beschimpft, traute sich aber nicht. Auch Google-Mitgrü...</td>\n",
              "      <td>Web</td>\n",
              "      <td>train</td>\n",
              "      <td>Der frischgekürte CEO Sundar Pichai setzt auf ein umgänglicheres Führungsteam. Die Atmosphäre im Silicon Valley ist rau. Da werden massenhaft Mitarbeiter der direkten Konkurrenz abgeworben, Löhne mit firmenübergreifenden Mauscheleien niedrig gehalten und Untergebene wegen leicht verfehlter Ziele vor die Tür gesetzt. Auch in der höchsten Firmenebene werden brutale Umgangsformen gepflegt Die Wutausbrüche von Apple Mitgründer Steve Jobs sind legendär, sein früherer Geschäftspartner Steve Wozniak hätte ihn zu Lebzeiten gerne als Arschloch beschimpft, traute sich aber nicht. Auch Google Mitgrün...</td>\n",
              "    </tr>\n",
              "  </tbody>\n",
              "</table>\n",
              "</div>"
            ],
            "text/plain": [
              "                                                                                                                                                                                                                                                                                                                                                                                                                                                                                                                                                                                                             text_original  \\\n",
              "0                                                                                                                                                         21-Jähriger fällt wohl bis Saisonende aus. Wien – Rapid muss wohl bis Saisonende auf Offensivspieler Thomas Murg verzichten. Der im Winter aus Ried gekommene 21-Jährige erlitt beim 0:4-Heimdebakel gegen Admira Wacker Mödling am Samstag einen Teilriss des Innenbandes im linken Knie, wie eine Magnetresonanz-Untersuchung am Donnerstag ergab. Murg erhielt eine Schiene, muss aber nicht operiert werden. Dennoch steht ihm eine mehrwöchige Pause bevor.   \n",
              "1  Erfundene Bilder zu Filmen, die als verloren gelten: \"The Forbidden Room\" von Guy Maddin und Evan Johnson ist ein surrealer Ritt durch die magischen Labyrinthe des frühen Kinos. Wien – Die Filmgeschichte ist ein Friedhof der Verlorenen. Unter den Begrabenen finden sich zahllose Filme, von denen nur noch mysteriös oder abenteuerlich klingende Namen kursieren; und solche, über die verstreut herumliegendes Sekundärmaterial Aufschluss erlaubt. Einer davon ist The Forbidden Room, ein Two-Reeler von 1913/14, den der arbeitswütige US-Regisseur Allan Dwan u. a. mit dem Horrordarsteller Lon Chaney ...   \n",
              "2  Der frischgekürte CEO Sundar Pichai setzt auf ein umgänglicheres Führungsteam. Die Atmosphäre im Silicon Valley ist rau. Da werden massenhaft Mitarbeiter der direkten Konkurrenz abgeworben, Löhne mit firmenübergreifenden Mauscheleien niedrig gehalten und Untergebene wegen leicht verfehlter Ziele vor die Tür gesetzt. Auch in der höchsten Firmenebene werden brutale Umgangsformen gepflegt: Die Wutausbrüche von Apple-Mitgründer Steve Jobs sind legendär, sein früherer Geschäftspartner Steve Wozniak hätte ihn zu Lebzeiten gerne als Arschloch beschimpft, traute sich aber nicht. Auch Google-Mitgrü...   \n",
              "\n",
              "    label  split  \\\n",
              "0   Sport  train   \n",
              "1  Kultur  train   \n",
              "2     Web  train   \n",
              "\n",
              "                                                                                                                                                                                                                                                                                                                                                                                                                                                                                                                                                                                                                      text  \n",
              "0                                                                                                                                                                     Jähriger fällt wohl bis Saisonende aus. Wien Rapid muss wohl bis Saisonende auf Offensivspieler Thomas Murg verzichten. Der im Winter aus Ried gekommene Jährige erlitt beim Heimdebakel gegen Admira Wacker Mödling am Samstag einen Teilriss des Innenbandes im linken Knie, wie eine Magnetresonanz Untersuchung am Donnerstag ergab. Murg erhielt eine Schiene, muss aber nicht operiert werden. Dennoch steht ihm eine mehrwöchige Pause bevor.  \n",
              "1  Erfundene Bilder zu Filmen, die als verloren gelten The Forbidden Room von Guy Maddin und Evan Johnson ist ein surrealer Ritt durch die magischen Labyrinthe des frühen Kinos. Wien Die Filmgeschichte ist ein Friedhof der Verlorenen. Unter den Begrabenen finden sich zahllose Filme, von denen nur noch mysteriös oder abenteuerlich klingende Namen kursieren und solche, über die verstreut herumliegendes Sekundärmaterial Aufschluss erlaubt. Einer davon ist The Forbidden Room, ein Two Reeler von , den der arbeitswütige US Regisseur Allan Dwan. mit dem Horrordarsteller Lon Chaney gedreht hat. Ein p...  \n",
              "2  Der frischgekürte CEO Sundar Pichai setzt auf ein umgänglicheres Führungsteam. Die Atmosphäre im Silicon Valley ist rau. Da werden massenhaft Mitarbeiter der direkten Konkurrenz abgeworben, Löhne mit firmenübergreifenden Mauscheleien niedrig gehalten und Untergebene wegen leicht verfehlter Ziele vor die Tür gesetzt. Auch in der höchsten Firmenebene werden brutale Umgangsformen gepflegt Die Wutausbrüche von Apple Mitgründer Steve Jobs sind legendär, sein früherer Geschäftspartner Steve Wozniak hätte ihn zu Lebzeiten gerne als Arschloch beschimpft, traute sich aber nicht. Auch Google Mitgrün...  "
            ]
          },
          "execution_count": 30,
          "metadata": {},
          "output_type": "execute_result"
        }
      ],
      "source": [
        "data_all.head(3)"
      ]
    },
    {
      "cell_type": "code",
      "execution_count": null,
      "metadata": {
        "id": "rS0-TExAKwUV"
      },
      "outputs": [],
      "source": []
    },
    {
      "cell_type": "code",
      "execution_count": null,
      "metadata": {
        "colab": {
          "base_uri": "https://localhost:8080/"
        },
        "id": "LQLsTxxezaSR",
        "outputId": "9912fa6e-abe1-4bc0-e21f-12ac169cc367"
      },
      "outputs": [],
      "source": [
        "\n"
      ]
    },
    {
      "cell_type": "code",
      "execution_count": 31,
      "metadata": {
        "colab": {
          "base_uri": "https://localhost:8080/",
          "height": 597
        },
        "id": "i-o9tIdUOINP",
        "outputId": "249c5702-1dd8-4848-cc0a-c337ec4da773"
      },
      "outputs": [
        {
          "data": {
            "text/html": [
              "<div>\n",
              "<style scoped>\n",
              "    .dataframe tbody tr th:only-of-type {\n",
              "        vertical-align: middle;\n",
              "    }\n",
              "\n",
              "    .dataframe tbody tr th {\n",
              "        vertical-align: top;\n",
              "    }\n",
              "\n",
              "    .dataframe thead th {\n",
              "        text-align: right;\n",
              "    }\n",
              "</style>\n",
              "<table border=\"1\" class=\"dataframe\">\n",
              "  <thead>\n",
              "    <tr style=\"text-align: right;\">\n",
              "      <th></th>\n",
              "      <th>text</th>\n",
              "      <th>label</th>\n",
              "    </tr>\n",
              "  </thead>\n",
              "  <tbody>\n",
              "    <tr>\n",
              "      <th>0</th>\n",
              "      <td>Jähriger fällt wohl bis Saisonende aus. Wien Rapid muss wohl bis Saisonende auf Offensivspieler Thomas Murg verzichten. Der im Winter aus Ried gekommene Jährige erlitt beim Heimdebakel gegen Admira Wacker Mödling am Samstag einen Teilriss des Innenbandes im linken Knie, wie eine Magnetresonanz Untersuchung am Donnerstag ergab. Murg erhielt eine Schiene, muss aber nicht operiert werden. Dennoch steht ihm eine mehrwöchige Pause bevor.</td>\n",
              "      <td>Sport</td>\n",
              "    </tr>\n",
              "    <tr>\n",
              "      <th>1</th>\n",
              "      <td>Erfundene Bilder zu Filmen, die als verloren gelten The Forbidden Room von Guy Maddin und Evan Johnson ist ein surrealer Ritt durch die magischen Labyrinthe des frühen Kinos. Wien Die Filmgeschichte ist ein Friedhof der Verlorenen. Unter den Begrabenen finden sich zahllose Filme, von denen nur noch mysteriös oder abenteuerlich klingende Namen kursieren und solche, über die verstreut herumliegendes Sekundärmaterial Aufschluss erlaubt. Einer davon ist The Forbidden Room, ein Two Reeler von , den der arbeitswütige US Regisseur Allan Dwan. mit dem Horrordarsteller Lon Chaney gedreht hat. Ein p...</td>\n",
              "      <td>Kultur</td>\n",
              "    </tr>\n",
              "    <tr>\n",
              "      <th>2</th>\n",
              "      <td>Der frischgekürte CEO Sundar Pichai setzt auf ein umgänglicheres Führungsteam. Die Atmosphäre im Silicon Valley ist rau. Da werden massenhaft Mitarbeiter der direkten Konkurrenz abgeworben, Löhne mit firmenübergreifenden Mauscheleien niedrig gehalten und Untergebene wegen leicht verfehlter Ziele vor die Tür gesetzt. Auch in der höchsten Firmenebene werden brutale Umgangsformen gepflegt Die Wutausbrüche von Apple Mitgründer Steve Jobs sind legendär, sein früherer Geschäftspartner Steve Wozniak hätte ihn zu Lebzeiten gerne als Arschloch beschimpft, traute sich aber nicht. Auch Google Mitgrün...</td>\n",
              "      <td>Web</td>\n",
              "    </tr>\n",
              "    <tr>\n",
              "      <th>3</th>\n",
              "      <td>Putin Einigung, dass wir Menge auf Niveau von Jänner halten . Moskau Die russischen Ölproduzenten wollen nach den Worten von Präsident Wladimir Putin ihre Förderung in diesem Jahr einfrieren. Im Gro en und Ganzen wurde eine Einigung erzielt, dass wir die Ölproduktion auf dem Niveau von Jänner halten werden, sagte Putin am Mittwoch in Moskau. Russland leidet wie andere Förderstaaten unter dem drastischen Einbruch der Ölpreise. Putin will die Preise durch eine begrenzte Förderung im In und Ausland stabilisieren. Dazu hatte Russland jüngst mit Saudi Arabien und anderen gro en Förderländern üb...</td>\n",
              "      <td>Wirtschaft</td>\n",
              "    </tr>\n",
              "    <tr>\n",
              "      <th>4</th>\n",
              "      <td>Estland sieht den künftigen österreichischen Präsidenten auch als estnischen Staatsbürger. Wien Tallinn Pskow Die Eltern des künftigen Bundespräsidenten waren aus dem von Sowjets besetzten Estland in das damalige Deutsche Reich geflohen, wo in Wien Sascha Van der Bellen zur Welt kam. Estnische Verwandte jubelten am Dienstag über dessen Wahlsieg, Freude herrscht auch unter Politikern des Landes. Interesse an Van der Bellen gibt es auch in der russischen Stadt Pskow, der Geburtsstadt seiner Eltern. Wir haben von ganzem Herzen und mit der ganzen Familie mitgefiebert, sagt Irina Steinberg, ein...</td>\n",
              "      <td>Inland</td>\n",
              "    </tr>\n",
              "    <tr>\n",
              "      <th>...</th>\n",
              "      <td>...</td>\n",
              "      <td>...</td>\n",
              "    </tr>\n",
              "    <tr>\n",
              "      <th>1023</th>\n",
              "      <td>Programm Ebay Plus soll Ende September starten, aber nur in Deutschland Rückgabemöglichkeit entscheidender Faktor für Onlinekäufer . Bei Ebay können Käufer in Deutschland künftig gegen eine Jahresgebühr auf Portokosten für Rücksendungen verzichten. Wer das Programm Ebay Plus für , Euro im Jahr bucht, bekommt seine Bestellung am nächsten oder spätestens übernächsten Tag und kann die Ware einen Monat lang kostenlos zurücksenden, wie das Unternehmen am Freitag mitteilte. Die Ebay Plus Kunden erhielten zudem Zugang zu exklusiven Deals. Das Programm solle Ende September schrittweise eingeführt ...</td>\n",
              "      <td>Web</td>\n",
              "    </tr>\n",
              "    <tr>\n",
              "      <th>1024</th>\n",
              "      <td>Fehlerhafte Bilanz , Partei will berufen Keine Strafe wegen Wahlkampffinanzierung durch Parlamentsklub. Wien Das BZÖ ist als erste Partei zu einer Geldbu wegen eines unrichtigen Rechenschaftsberichtes verurteilt worden. Weil in der Bilanz für das Jahr keine Angaben zur niederösterreichischen Landespartei gemacht wurden, verhängte der Unabhängige Parteien Transparenz Senat UPTS im Kanzleramt . Euro Strafe. Die Partei will berufen und fehlende Unterlagen nachliefern. Dass die Finanzen des niederösterreichischen BZÖ im Rechenschaftsbericht fehlen, ist Folge parteiinterner Wirren Nach dem Auss...</td>\n",
              "      <td>Inland</td>\n",
              "    </tr>\n",
              "    <tr>\n",
              "      <th>1025</th>\n",
              "      <td>Als erster Olympia Champion auch Hawaii Sieger Niederösterreicher Weiss als . nach Aufholjagd zufrieden. Kailua Kona Der Deutsche Jan Frodeno und die Schweizerin Daniela Ryf haben am Samstag den Ironman auf Hawaii gewonnen. Der Jährige Frodeno schrieb damit Geschichte Vor ihm hatte noch nie ein Olympiasieger auch den Klassiker auf Big Island für sich entschieden. Der Österreicher Michael Weiss belegte bei seinem fünften Antreten in Kailua Kona Platz . Im Ziel auf dem Alii Drive hatte der Vorjahres Dritte Frodeno nach Stunden Tortur Minuten Vorsprung auf den jährigen Andreas Raelert, der da...</td>\n",
              "      <td>Sport</td>\n",
              "    </tr>\n",
              "    <tr>\n",
              "      <th>1026</th>\n",
              "      <td>Der Au enseiter aus Denver gewinnt die . Super Bowl gegen die Carolina Panthers mit . Superstar Newton blieb blass. Denver Die Denver Broncos haben den . Super Bowl gewonnen und sich zum dritten Mal den Titel in der National Football League NFL geholt. Das Team um Star Quarterback Peyton Manning feierte in der Nacht auf Montag im kalifornischen Santa Clara einen hochverdienten Sieg über die favorisierten Carolina Panthers. Manning wurde bei seiner vierten Final Teilnahme zum zweiten Mal nach NFL Champion, seine Zukunft lie der Altmeister nach Spielende offen. Manning, der vor neun Jahren m...</td>\n",
              "      <td>Sport</td>\n",
              "    </tr>\n",
              "    <tr>\n",
              "      <th>1027</th>\n",
              "      <td>Wohl keine Einschränkungen bei Google Services gebogene Ränder. Es gab bereits im Vorfeld Berichte darüber, dass Blackberry ein Android Smartphone mit Tastatur herstellen wolle. Nun gibt es erste entwischte Renderings, die das Blackberry Smartphone Venice mit Android zeigen sollen. Die Bilder wurden von Evan Bless veröffentlicht, der unter dem Pseudonym eveleaks twittert und in der Vergangenheit stets authentische Leaks lieferte. Unklar ist, ob die Renderings ein oder zwei unterschiedliche Smartphones zeigen. Auf einem Bild ist eine physische Tastatur im Passport Stil zu sehen, während das...</td>\n",
              "      <td>Web</td>\n",
              "    </tr>\n",
              "  </tbody>\n",
              "</table>\n",
              "<p>10273 rows × 2 columns</p>\n",
              "</div>"
            ],
            "text/plain": [
              "                                                                                                                                                                                                                                                                                                                                                                                                                                                                                                                                                                                                                         text  \\\n",
              "0                                                                                                                                                                        Jähriger fällt wohl bis Saisonende aus. Wien Rapid muss wohl bis Saisonende auf Offensivspieler Thomas Murg verzichten. Der im Winter aus Ried gekommene Jährige erlitt beim Heimdebakel gegen Admira Wacker Mödling am Samstag einen Teilriss des Innenbandes im linken Knie, wie eine Magnetresonanz Untersuchung am Donnerstag ergab. Murg erhielt eine Schiene, muss aber nicht operiert werden. Dennoch steht ihm eine mehrwöchige Pause bevor.   \n",
              "1     Erfundene Bilder zu Filmen, die als verloren gelten The Forbidden Room von Guy Maddin und Evan Johnson ist ein surrealer Ritt durch die magischen Labyrinthe des frühen Kinos. Wien Die Filmgeschichte ist ein Friedhof der Verlorenen. Unter den Begrabenen finden sich zahllose Filme, von denen nur noch mysteriös oder abenteuerlich klingende Namen kursieren und solche, über die verstreut herumliegendes Sekundärmaterial Aufschluss erlaubt. Einer davon ist The Forbidden Room, ein Two Reeler von , den der arbeitswütige US Regisseur Allan Dwan. mit dem Horrordarsteller Lon Chaney gedreht hat. Ein p...   \n",
              "2     Der frischgekürte CEO Sundar Pichai setzt auf ein umgänglicheres Führungsteam. Die Atmosphäre im Silicon Valley ist rau. Da werden massenhaft Mitarbeiter der direkten Konkurrenz abgeworben, Löhne mit firmenübergreifenden Mauscheleien niedrig gehalten und Untergebene wegen leicht verfehlter Ziele vor die Tür gesetzt. Auch in der höchsten Firmenebene werden brutale Umgangsformen gepflegt Die Wutausbrüche von Apple Mitgründer Steve Jobs sind legendär, sein früherer Geschäftspartner Steve Wozniak hätte ihn zu Lebzeiten gerne als Arschloch beschimpft, traute sich aber nicht. Auch Google Mitgrün...   \n",
              "3     Putin Einigung, dass wir Menge auf Niveau von Jänner halten . Moskau Die russischen Ölproduzenten wollen nach den Worten von Präsident Wladimir Putin ihre Förderung in diesem Jahr einfrieren. Im Gro en und Ganzen wurde eine Einigung erzielt, dass wir die Ölproduktion auf dem Niveau von Jänner halten werden, sagte Putin am Mittwoch in Moskau. Russland leidet wie andere Förderstaaten unter dem drastischen Einbruch der Ölpreise. Putin will die Preise durch eine begrenzte Förderung im In und Ausland stabilisieren. Dazu hatte Russland jüngst mit Saudi Arabien und anderen gro en Förderländern üb...   \n",
              "4     Estland sieht den künftigen österreichischen Präsidenten auch als estnischen Staatsbürger. Wien Tallinn Pskow Die Eltern des künftigen Bundespräsidenten waren aus dem von Sowjets besetzten Estland in das damalige Deutsche Reich geflohen, wo in Wien Sascha Van der Bellen zur Welt kam. Estnische Verwandte jubelten am Dienstag über dessen Wahlsieg, Freude herrscht auch unter Politikern des Landes. Interesse an Van der Bellen gibt es auch in der russischen Stadt Pskow, der Geburtsstadt seiner Eltern. Wir haben von ganzem Herzen und mit der ganzen Familie mitgefiebert, sagt Irina Steinberg, ein...   \n",
              "...                                                                                                                                                                                                                                                                                                                                                                                                                                                                                                                                                                                                                       ...   \n",
              "1023  Programm Ebay Plus soll Ende September starten, aber nur in Deutschland Rückgabemöglichkeit entscheidender Faktor für Onlinekäufer . Bei Ebay können Käufer in Deutschland künftig gegen eine Jahresgebühr auf Portokosten für Rücksendungen verzichten. Wer das Programm Ebay Plus für , Euro im Jahr bucht, bekommt seine Bestellung am nächsten oder spätestens übernächsten Tag und kann die Ware einen Monat lang kostenlos zurücksenden, wie das Unternehmen am Freitag mitteilte. Die Ebay Plus Kunden erhielten zudem Zugang zu exklusiven Deals. Das Programm solle Ende September schrittweise eingeführt ...   \n",
              "1024  Fehlerhafte Bilanz , Partei will berufen Keine Strafe wegen Wahlkampffinanzierung durch Parlamentsklub. Wien Das BZÖ ist als erste Partei zu einer Geldbu wegen eines unrichtigen Rechenschaftsberichtes verurteilt worden. Weil in der Bilanz für das Jahr keine Angaben zur niederösterreichischen Landespartei gemacht wurden, verhängte der Unabhängige Parteien Transparenz Senat UPTS im Kanzleramt . Euro Strafe. Die Partei will berufen und fehlende Unterlagen nachliefern. Dass die Finanzen des niederösterreichischen BZÖ im Rechenschaftsbericht fehlen, ist Folge parteiinterner Wirren Nach dem Auss...   \n",
              "1025  Als erster Olympia Champion auch Hawaii Sieger Niederösterreicher Weiss als . nach Aufholjagd zufrieden. Kailua Kona Der Deutsche Jan Frodeno und die Schweizerin Daniela Ryf haben am Samstag den Ironman auf Hawaii gewonnen. Der Jährige Frodeno schrieb damit Geschichte Vor ihm hatte noch nie ein Olympiasieger auch den Klassiker auf Big Island für sich entschieden. Der Österreicher Michael Weiss belegte bei seinem fünften Antreten in Kailua Kona Platz . Im Ziel auf dem Alii Drive hatte der Vorjahres Dritte Frodeno nach Stunden Tortur Minuten Vorsprung auf den jährigen Andreas Raelert, der da...   \n",
              "1026  Der Au enseiter aus Denver gewinnt die . Super Bowl gegen die Carolina Panthers mit . Superstar Newton blieb blass. Denver Die Denver Broncos haben den . Super Bowl gewonnen und sich zum dritten Mal den Titel in der National Football League NFL geholt. Das Team um Star Quarterback Peyton Manning feierte in der Nacht auf Montag im kalifornischen Santa Clara einen hochverdienten Sieg über die favorisierten Carolina Panthers. Manning wurde bei seiner vierten Final Teilnahme zum zweiten Mal nach NFL Champion, seine Zukunft lie der Altmeister nach Spielende offen. Manning, der vor neun Jahren m...   \n",
              "1027  Wohl keine Einschränkungen bei Google Services gebogene Ränder. Es gab bereits im Vorfeld Berichte darüber, dass Blackberry ein Android Smartphone mit Tastatur herstellen wolle. Nun gibt es erste entwischte Renderings, die das Blackberry Smartphone Venice mit Android zeigen sollen. Die Bilder wurden von Evan Bless veröffentlicht, der unter dem Pseudonym eveleaks twittert und in der Vergangenheit stets authentische Leaks lieferte. Unklar ist, ob die Renderings ein oder zwei unterschiedliche Smartphones zeigen. Auf einem Bild ist eine physische Tastatur im Passport Stil zu sehen, während das...   \n",
              "\n",
              "           label  \n",
              "0          Sport  \n",
              "1         Kultur  \n",
              "2            Web  \n",
              "3     Wirtschaft  \n",
              "4         Inland  \n",
              "...          ...  \n",
              "1023         Web  \n",
              "1024      Inland  \n",
              "1025       Sport  \n",
              "1026       Sport  \n",
              "1027         Web  \n",
              "\n",
              "[10273 rows x 2 columns]"
            ]
          },
          "execution_count": 31,
          "metadata": {},
          "output_type": "execute_result"
        }
      ],
      "source": [
        "data_all.loc[:,['text','label']]"
      ]
    },
    {
      "cell_type": "code",
      "execution_count": 32,
      "metadata": {
        "id": "Y0uWKQ8E1fHu"
      },
      "outputs": [
        {
          "name": "stderr",
          "output_type": "stream",
          "text": [
            "(…)base-german-cased/resolve/main/vocab.txt: 100%|██████████| 255k/255k [00:00<00:00, 24.8MB/s]\n",
            "c:\\Users\\reto.steiner\\Desktop\\NLP\\.venv\\lib\\site-packages\\huggingface_hub\\file_download.py:138: UserWarning: `huggingface_hub` cache-system uses symlinks by default to efficiently store duplicated files but your machine does not support them in C:\\Users\\reto.steiner\\.cache\\huggingface\\hub. Caching files will still work but in a degraded version that might require more space on your disk. This warning can be disabled by setting the `HF_HUB_DISABLE_SYMLINKS_WARNING` environment variable. For more details, see https://huggingface.co/docs/huggingface_hub/how-to-cache#limitations.\n",
            "To support symlinks on Windows, you either need to activate Developer Mode or to run Python as an administrator. In order to see activate developer mode, see this article: https://docs.microsoft.com/en-us/windows/apps/get-started/enable-your-device-for-development\n",
            "  warnings.warn(message)\n",
            "(…)cased/resolve/main/tokenizer_config.json: 100%|██████████| 29.0/29.0 [00:00<?, ?B/s]\n",
            "(…)se-german-cased/resolve/main/config.json: 100%|██████████| 433/433 [00:00<?, ?B/s] \n"
          ]
        }
      ],
      "source": [
        "\n",
        "from transformers import AutoTokenizer, TFAutoModel\n",
        "tokenizer = BertTokenizer.from_pretrained(\"bert-base-german-cased\")\n"
      ]
    },
    {
      "cell_type": "code",
      "execution_count": 33,
      "metadata": {
        "id": "mKXlbiW1Nt6t"
      },
      "outputs": [],
      "source": [
        "\n",
        "MAXLEN = 192\n",
        "\n",
        "def tokenize(data_all):\n",
        "    encoded = tokenizer.encode_plus(\n",
        "        text= data_all,\n",
        "        add_special_tokens=True,  # Add `[CLS]` and `[SEP]`\n",
        "        max_length=MAXLEN,  # Max length to truncate/pad\n",
        "        padding='max_length',  # Pad sentence to max length\n",
        "        return_attention_mask=False,  # attention mask not needed for our task\n",
        "        return_token_type_ids=False,\n",
        "        truncation=True, )\n",
        "\n",
        "    return encoded['input_ids']\n"
      ]
    },
    {
      "cell_type": "code",
      "execution_count": 34,
      "metadata": {
        "colab": {
          "base_uri": "https://localhost:8080/",
          "height": 293
        },
        "id": "WL7uoVbXU8WM",
        "outputId": "bd3e202e-cbac-495f-fae6-d8bbbaf221d4"
      },
      "outputs": [
        {
          "data": {
            "text/html": [
              "<div>\n",
              "<style scoped>\n",
              "    .dataframe tbody tr th:only-of-type {\n",
              "        vertical-align: middle;\n",
              "    }\n",
              "\n",
              "    .dataframe tbody tr th {\n",
              "        vertical-align: top;\n",
              "    }\n",
              "\n",
              "    .dataframe thead th {\n",
              "        text-align: right;\n",
              "    }\n",
              "</style>\n",
              "<table border=\"1\" class=\"dataframe\">\n",
              "  <thead>\n",
              "    <tr style=\"text-align: right;\">\n",
              "      <th></th>\n",
              "      <th>text</th>\n",
              "      <th>label</th>\n",
              "    </tr>\n",
              "  </thead>\n",
              "  <tbody>\n",
              "    <tr>\n",
              "      <th>0</th>\n",
              "      <td>Jähriger fällt wohl bis Saisonende aus. Wien Rapid muss wohl bis Saisonende auf Offensivspieler Thomas Murg verzichten. Der im Winter aus Ried gekommene Jährige erlitt beim Heimdebakel gegen Admira Wacker Mödling am Samstag einen Teilriss des Innenbandes im linken Knie, wie eine Magnetresonanz Untersuchung am Donnerstag ergab. Murg erhielt eine Schiene, muss aber nicht operiert werden. Dennoch steht ihm eine mehrwöchige Pause bevor.</td>\n",
              "      <td>Sport</td>\n",
              "    </tr>\n",
              "    <tr>\n",
              "      <th>1</th>\n",
              "      <td>Erfundene Bilder zu Filmen, die als verloren gelten The Forbidden Room von Guy Maddin und Evan Johnson ist ein surrealer Ritt durch die magischen Labyrinthe des frühen Kinos. Wien Die Filmgeschichte ist ein Friedhof der Verlorenen. Unter den Begrabenen finden sich zahllose Filme, von denen nur noch mysteriös oder abenteuerlich klingende Namen kursieren und solche, über die verstreut herumliegendes Sekundärmaterial Aufschluss erlaubt. Einer davon ist The Forbidden Room, ein Two Reeler von , den der arbeitswütige US Regisseur Allan Dwan. mit dem Horrordarsteller Lon Chaney gedreht hat. Ein p...</td>\n",
              "      <td>Kultur</td>\n",
              "    </tr>\n",
              "    <tr>\n",
              "      <th>2</th>\n",
              "      <td>Der frischgekürte CEO Sundar Pichai setzt auf ein umgänglicheres Führungsteam. Die Atmosphäre im Silicon Valley ist rau. Da werden massenhaft Mitarbeiter der direkten Konkurrenz abgeworben, Löhne mit firmenübergreifenden Mauscheleien niedrig gehalten und Untergebene wegen leicht verfehlter Ziele vor die Tür gesetzt. Auch in der höchsten Firmenebene werden brutale Umgangsformen gepflegt Die Wutausbrüche von Apple Mitgründer Steve Jobs sind legendär, sein früherer Geschäftspartner Steve Wozniak hätte ihn zu Lebzeiten gerne als Arschloch beschimpft, traute sich aber nicht. Auch Google Mitgrün...</td>\n",
              "      <td>Web</td>\n",
              "    </tr>\n",
              "    <tr>\n",
              "      <th>3</th>\n",
              "      <td>Putin Einigung, dass wir Menge auf Niveau von Jänner halten . Moskau Die russischen Ölproduzenten wollen nach den Worten von Präsident Wladimir Putin ihre Förderung in diesem Jahr einfrieren. Im Gro en und Ganzen wurde eine Einigung erzielt, dass wir die Ölproduktion auf dem Niveau von Jänner halten werden, sagte Putin am Mittwoch in Moskau. Russland leidet wie andere Förderstaaten unter dem drastischen Einbruch der Ölpreise. Putin will die Preise durch eine begrenzte Förderung im In und Ausland stabilisieren. Dazu hatte Russland jüngst mit Saudi Arabien und anderen gro en Förderländern üb...</td>\n",
              "      <td>Wirtschaft</td>\n",
              "    </tr>\n",
              "    <tr>\n",
              "      <th>4</th>\n",
              "      <td>Estland sieht den künftigen österreichischen Präsidenten auch als estnischen Staatsbürger. Wien Tallinn Pskow Die Eltern des künftigen Bundespräsidenten waren aus dem von Sowjets besetzten Estland in das damalige Deutsche Reich geflohen, wo in Wien Sascha Van der Bellen zur Welt kam. Estnische Verwandte jubelten am Dienstag über dessen Wahlsieg, Freude herrscht auch unter Politikern des Landes. Interesse an Van der Bellen gibt es auch in der russischen Stadt Pskow, der Geburtsstadt seiner Eltern. Wir haben von ganzem Herzen und mit der ganzen Familie mitgefiebert, sagt Irina Steinberg, ein...</td>\n",
              "      <td>Inland</td>\n",
              "    </tr>\n",
              "  </tbody>\n",
              "</table>\n",
              "</div>"
            ],
            "text/plain": [
              "                                                                                                                                                                                                                                                                                                                                                                                                                                                                                                                                                                                                                      text  \\\n",
              "0                                                                                                                                                                     Jähriger fällt wohl bis Saisonende aus. Wien Rapid muss wohl bis Saisonende auf Offensivspieler Thomas Murg verzichten. Der im Winter aus Ried gekommene Jährige erlitt beim Heimdebakel gegen Admira Wacker Mödling am Samstag einen Teilriss des Innenbandes im linken Knie, wie eine Magnetresonanz Untersuchung am Donnerstag ergab. Murg erhielt eine Schiene, muss aber nicht operiert werden. Dennoch steht ihm eine mehrwöchige Pause bevor.   \n",
              "1  Erfundene Bilder zu Filmen, die als verloren gelten The Forbidden Room von Guy Maddin und Evan Johnson ist ein surrealer Ritt durch die magischen Labyrinthe des frühen Kinos. Wien Die Filmgeschichte ist ein Friedhof der Verlorenen. Unter den Begrabenen finden sich zahllose Filme, von denen nur noch mysteriös oder abenteuerlich klingende Namen kursieren und solche, über die verstreut herumliegendes Sekundärmaterial Aufschluss erlaubt. Einer davon ist The Forbidden Room, ein Two Reeler von , den der arbeitswütige US Regisseur Allan Dwan. mit dem Horrordarsteller Lon Chaney gedreht hat. Ein p...   \n",
              "2  Der frischgekürte CEO Sundar Pichai setzt auf ein umgänglicheres Führungsteam. Die Atmosphäre im Silicon Valley ist rau. Da werden massenhaft Mitarbeiter der direkten Konkurrenz abgeworben, Löhne mit firmenübergreifenden Mauscheleien niedrig gehalten und Untergebene wegen leicht verfehlter Ziele vor die Tür gesetzt. Auch in der höchsten Firmenebene werden brutale Umgangsformen gepflegt Die Wutausbrüche von Apple Mitgründer Steve Jobs sind legendär, sein früherer Geschäftspartner Steve Wozniak hätte ihn zu Lebzeiten gerne als Arschloch beschimpft, traute sich aber nicht. Auch Google Mitgrün...   \n",
              "3  Putin Einigung, dass wir Menge auf Niveau von Jänner halten . Moskau Die russischen Ölproduzenten wollen nach den Worten von Präsident Wladimir Putin ihre Förderung in diesem Jahr einfrieren. Im Gro en und Ganzen wurde eine Einigung erzielt, dass wir die Ölproduktion auf dem Niveau von Jänner halten werden, sagte Putin am Mittwoch in Moskau. Russland leidet wie andere Förderstaaten unter dem drastischen Einbruch der Ölpreise. Putin will die Preise durch eine begrenzte Förderung im In und Ausland stabilisieren. Dazu hatte Russland jüngst mit Saudi Arabien und anderen gro en Förderländern üb...   \n",
              "4  Estland sieht den künftigen österreichischen Präsidenten auch als estnischen Staatsbürger. Wien Tallinn Pskow Die Eltern des künftigen Bundespräsidenten waren aus dem von Sowjets besetzten Estland in das damalige Deutsche Reich geflohen, wo in Wien Sascha Van der Bellen zur Welt kam. Estnische Verwandte jubelten am Dienstag über dessen Wahlsieg, Freude herrscht auch unter Politikern des Landes. Interesse an Van der Bellen gibt es auch in der russischen Stadt Pskow, der Geburtsstadt seiner Eltern. Wir haben von ganzem Herzen und mit der ganzen Familie mitgefiebert, sagt Irina Steinberg, ein...   \n",
              "\n",
              "        label  \n",
              "0       Sport  \n",
              "1      Kultur  \n",
              "2         Web  \n",
              "3  Wirtschaft  \n",
              "4      Inland  "
            ]
          },
          "execution_count": 34,
          "metadata": {},
          "output_type": "execute_result"
        }
      ],
      "source": [
        "data_train = data_all[data_all['split'] == 'train'].loc[:,['text','label']]\n",
        "data_train.head()"
      ]
    },
    {
      "cell_type": "code",
      "execution_count": 35,
      "metadata": {
        "colab": {
          "base_uri": "https://localhost:8080/",
          "height": 293
        },
        "id": "3OpaRTwDVqRd",
        "outputId": "267767e0-1234-4b97-9516-0a66cfea9496"
      },
      "outputs": [
        {
          "data": {
            "text/html": [
              "<div>\n",
              "<style scoped>\n",
              "    .dataframe tbody tr th:only-of-type {\n",
              "        vertical-align: middle;\n",
              "    }\n",
              "\n",
              "    .dataframe tbody tr th {\n",
              "        vertical-align: top;\n",
              "    }\n",
              "\n",
              "    .dataframe thead th {\n",
              "        text-align: right;\n",
              "    }\n",
              "</style>\n",
              "<table border=\"1\" class=\"dataframe\">\n",
              "  <thead>\n",
              "    <tr style=\"text-align: right;\">\n",
              "      <th></th>\n",
              "      <th>text</th>\n",
              "      <th>label</th>\n",
              "    </tr>\n",
              "  </thead>\n",
              "  <tbody>\n",
              "    <tr>\n",
              "      <th>0</th>\n",
              "      <td>Die Gewerkschaft GPA djp lanciert den All in Rechner und findet, dass die Vertragsform auf die Führungsebene beschränkt gehört. Wien Die Gewerkschaft GPA djp sieht Handlungsbedarf bei sogenannten All in Verträgen. Für mehr Transparenz haben die Gewerkschaft nun unter www allinrechner at ein Online Werkzeug lanciert, das Arbeitnehmern mit solchen Verträgen helfen soll, sich einen Überblick zu verschaffen. Es geht darum, ob die Differenz zum Grundgehalt nicht womöglich eine zu geringe ist. Schlie lich sei ein All in Gehalt oft nur auf den ersten Blick von Vorteil, gab GPA djp Chef Wolfgang K...</td>\n",
              "      <td>Wirtschaft</td>\n",
              "    </tr>\n",
              "    <tr>\n",
              "      <th>1</th>\n",
              "      <td>Franzosen verteidigen Führung Kritische Stimmen zu Schwedens Superstar, Tore in. Phase fehlen Benfica mit Abwehrsorgen nach St. Petersburg. London Mit einem trügerischen Vorsprung im Gepäck ist Paris Saint Germain zum Champions League Achtelfinale nach London gereist. Am Mittwochabend . Uhr verteidigt Frankreichs Serienmeister gegen Chelsea ein aus dem Hinspiel. PSG sollte gewarnt sein, die Blues sind seit der Trennung von Jose Mourinho erstarkt. Seit Dezember hat Chelsea unter Guus Hiddink in Pflichtspielen nur die eine Niederlage in Paris einstecken müssen. Ein würde den Hausherren reich...</td>\n",
              "      <td>Sport</td>\n",
              "    </tr>\n",
              "    <tr>\n",
              "      <th>2</th>\n",
              "      <td>Neues Video von Designern macht im Netz die Runde sie schlagen etwa bunte Benachrichtigungen vor. Bei den iPhone Verkaufszahlen ist der Wurm drin Erstmals seit dessen Einführung musste Apple heuer sinkende Quartalsergebnisse bekanntgeben. CEO Tim Cook hat daher versprochen, das im Herbst erscheinende iPhone werde Dinge können, die viele Menschen zu einer Kaufentscheidungen bewegen wird. Ein gro er Bestandteil davon ist nicht nur die Hardware, sondern auch das Betriebssystem iOS. Dessen neueste Versionsnummer könnte im Juni bei Apples WWDC Event präsentiert werden. Noch ist nur wenig über n...</td>\n",
              "      <td>Web</td>\n",
              "    </tr>\n",
              "    <tr>\n",
              "      <th>3</th>\n",
              "      <td>jähriger Brasilianer muss vier Spiele pausieren Entscheidung kann noch angefochten werden Chile und Bolivien im Viertelfinale, Mexiko out. Santiago de Chile Wegen seiner Provokation nach dem Spiel gegen Kolumbien hat der südamerikanische Fu ballverband CONMEBOL Brasiliens Top Stürmer Neymar für vier Spiele gesperrt. Zudem verhängte der Disziplinarausschuss eine Geldstrafe in Höhe von . US Dollar. Euro gegen den Jährigen. Damit dürfte Neymar bei der laufenden Regionalmeisterschaft Copa America in Chile nicht mehr zum Einsatz kommen. Die Entscheidung kann noch angefochten werden. Beim Vorru...</td>\n",
              "      <td>Sport</td>\n",
              "    </tr>\n",
              "    <tr>\n",
              "      <th>4</th>\n",
              "      <td>Aufständische verwendeten Chemikalie bei Gefechten im August. Damaskus Bei Kämpfen zwischen Rebellengruppen in Syrien ist nach Angaben unabhängiger Experten Senfgas eingesetzt worden. Die Chemikalie sei am . August bei Gefechten in Marea in der nördlichen Provinz Aleppo verwendet worden, verlautete am Donnerstag aus Kreisen der Organisation für das Verbot von Chemiewaffen OPCW . Es handelt sich demnach um den ersten bestätigten Einsatz von Senfgas in dem Bürgerkriegsland. Der UN Sicherheitsrat hatte Anfang August beschlossen, dass ein Team aus Experten der Vereinten Nationen sowie der OPCW...</td>\n",
              "      <td>International</td>\n",
              "    </tr>\n",
              "  </tbody>\n",
              "</table>\n",
              "</div>"
            ],
            "text/plain": [
              "                                                                                                                                                                                                                                                                                                                                                                                                                                                                                                                                                                                                                      text  \\\n",
              "0  Die Gewerkschaft GPA djp lanciert den All in Rechner und findet, dass die Vertragsform auf die Führungsebene beschränkt gehört. Wien Die Gewerkschaft GPA djp sieht Handlungsbedarf bei sogenannten All in Verträgen. Für mehr Transparenz haben die Gewerkschaft nun unter www allinrechner at ein Online Werkzeug lanciert, das Arbeitnehmern mit solchen Verträgen helfen soll, sich einen Überblick zu verschaffen. Es geht darum, ob die Differenz zum Grundgehalt nicht womöglich eine zu geringe ist. Schlie lich sei ein All in Gehalt oft nur auf den ersten Blick von Vorteil, gab GPA djp Chef Wolfgang K...   \n",
              "1  Franzosen verteidigen Führung Kritische Stimmen zu Schwedens Superstar, Tore in. Phase fehlen Benfica mit Abwehrsorgen nach St. Petersburg. London Mit einem trügerischen Vorsprung im Gepäck ist Paris Saint Germain zum Champions League Achtelfinale nach London gereist. Am Mittwochabend . Uhr verteidigt Frankreichs Serienmeister gegen Chelsea ein aus dem Hinspiel. PSG sollte gewarnt sein, die Blues sind seit der Trennung von Jose Mourinho erstarkt. Seit Dezember hat Chelsea unter Guus Hiddink in Pflichtspielen nur die eine Niederlage in Paris einstecken müssen. Ein würde den Hausherren reich...   \n",
              "2  Neues Video von Designern macht im Netz die Runde sie schlagen etwa bunte Benachrichtigungen vor. Bei den iPhone Verkaufszahlen ist der Wurm drin Erstmals seit dessen Einführung musste Apple heuer sinkende Quartalsergebnisse bekanntgeben. CEO Tim Cook hat daher versprochen, das im Herbst erscheinende iPhone werde Dinge können, die viele Menschen zu einer Kaufentscheidungen bewegen wird. Ein gro er Bestandteil davon ist nicht nur die Hardware, sondern auch das Betriebssystem iOS. Dessen neueste Versionsnummer könnte im Juni bei Apples WWDC Event präsentiert werden. Noch ist nur wenig über n...   \n",
              "3   jähriger Brasilianer muss vier Spiele pausieren Entscheidung kann noch angefochten werden Chile und Bolivien im Viertelfinale, Mexiko out. Santiago de Chile Wegen seiner Provokation nach dem Spiel gegen Kolumbien hat der südamerikanische Fu ballverband CONMEBOL Brasiliens Top Stürmer Neymar für vier Spiele gesperrt. Zudem verhängte der Disziplinarausschuss eine Geldstrafe in Höhe von . US Dollar. Euro gegen den Jährigen. Damit dürfte Neymar bei der laufenden Regionalmeisterschaft Copa America in Chile nicht mehr zum Einsatz kommen. Die Entscheidung kann noch angefochten werden. Beim Vorru...   \n",
              "4  Aufständische verwendeten Chemikalie bei Gefechten im August. Damaskus Bei Kämpfen zwischen Rebellengruppen in Syrien ist nach Angaben unabhängiger Experten Senfgas eingesetzt worden. Die Chemikalie sei am . August bei Gefechten in Marea in der nördlichen Provinz Aleppo verwendet worden, verlautete am Donnerstag aus Kreisen der Organisation für das Verbot von Chemiewaffen OPCW . Es handelt sich demnach um den ersten bestätigten Einsatz von Senfgas in dem Bürgerkriegsland. Der UN Sicherheitsrat hatte Anfang August beschlossen, dass ein Team aus Experten der Vereinten Nationen sowie der OPCW...   \n",
              "\n",
              "           label  \n",
              "0     Wirtschaft  \n",
              "1          Sport  \n",
              "2            Web  \n",
              "3          Sport  \n",
              "4  International  "
            ]
          },
          "execution_count": 35,
          "metadata": {},
          "output_type": "execute_result"
        }
      ],
      "source": [
        "data_test = data_all[data_all['split'] == 'test'].loc[:,['text','label']]\n",
        "data_test.head()"
      ]
    },
    {
      "cell_type": "markdown",
      "metadata": {
        "id": "Mhhc4LT102oV"
      },
      "source": []
    },
    {
      "cell_type": "code",
      "execution_count": 36,
      "metadata": {
        "colab": {
          "base_uri": "https://localhost:8080/"
        },
        "id": "keB3E-UF0png",
        "outputId": "53e8de5f-4d15-4cea-afe0-329be651bed3"
      },
      "outputs": [
        {
          "name": "stderr",
          "output_type": "stream",
          "text": [
            "100%|██████████| 9245/9245 [01:22<00:00, 111.84it/s]\n",
            "100%|██████████| 1028/1028 [00:08<00:00, 122.13it/s]\n"
          ]
        }
      ],
      "source": [
        "input_ids_train = np.array([tokenize(data_train) for data_train in tqdm.tqdm(data_train['text'])])\n",
        "input_ids_test = np.array([tokenize(data_test) for data_test in tqdm.tqdm(data_test['text'])])"
      ]
    },
    {
      "cell_type": "code",
      "execution_count": 37,
      "metadata": {
        "colab": {
          "base_uri": "https://localhost:8080/"
        },
        "id": "BSmOClen3UQI",
        "outputId": "cb3ab25f-e524-414e-c3af-551f058e9b9d"
      },
      "outputs": [
        {
          "name": "stdout",
          "output_type": "stream",
          "text": [
            "Classes: ['Etat' 'Inland' 'International' 'Kultur' 'Panorama' 'Sport' 'Web'\n",
            " 'Wirtschaft' 'Wissenschaft']\n",
            "Encoding:\n",
            " [[1 0 0 0 0 0 0 0 0]\n",
            " [0 1 0 0 0 0 0 0 0]\n",
            " [0 0 1 0 0 0 0 0 0]\n",
            " [0 0 0 1 0 0 0 0 0]\n",
            " [0 0 0 0 1 0 0 0 0]\n",
            " [0 0 0 0 0 1 0 0 0]\n",
            " [0 0 0 0 0 0 1 0 0]\n",
            " [0 0 0 0 0 0 0 1 0]\n",
            " [0 0 0 0 0 0 0 0 1]]\n"
          ]
        }
      ],
      "source": [
        "\n",
        "label_binarizer = LabelBinarizer()\n",
        "label_binarizer.fit(data_all[\"label\"])\n",
        "print(f\"Classes: {label_binarizer.classes_}\")\n",
        "print (f\"Encoding:\\n {label_binarizer.transform(label_binarizer.classes_).T}\")"
      ]
    },
    {
      "cell_type": "code",
      "execution_count": 38,
      "metadata": {
        "id": "XYDLwWro3Cyq"
      },
      "outputs": [],
      "source": [
        "train_ids, test_ids, train_labels, test_labels = input_ids_train, input_ids_test, label_binarizer.transform(data_train['label']),label_binarizer.transform(data_test['label'])"
      ]
    },
    {
      "cell_type": "code",
      "execution_count": null,
      "metadata": {
        "id": "8mWXsC2C11Fq"
      },
      "outputs": [],
      "source": []
    },
    {
      "cell_type": "code",
      "execution_count": 39,
      "metadata": {
        "id": "LNS1JKq33B40"
      },
      "outputs": [],
      "source": [
        "#train_labels.drop_duplicates()"
      ]
    },
    {
      "cell_type": "code",
      "execution_count": 40,
      "metadata": {
        "id": "qde2jXIV2xQn"
      },
      "outputs": [],
      "source": [
        "BATCH_SIZE = 16\n",
        "EPOCHS = 8\n",
        "LEARNING_RATE = 1e-5"
      ]
    },
    {
      "cell_type": "code",
      "execution_count": 54,
      "metadata": {
        "id": "R1wDuEsX4d5x"
      },
      "outputs": [],
      "source": [
        "train_dataset = (tf.data.Dataset.from_tensor_slices((train_ids, train_labels))\n",
        "                    .shuffle(buffer_size=len(train_ids), reshuffle_each_iteration=True)\n",
        "                    .repeat(EPOCHS)\n",
        "                    .batch(BATCH_SIZE))\n",
        "\n",
        "test_dataset = (tf.data.Dataset.from_tensor_slices((test_ids, test_labels))\n",
        "                    .batch(BATCH_SIZE))\n"
      ]
    },
    {
      "cell_type": "code",
      "execution_count": 42,
      "metadata": {
        "colab": {
          "base_uri": "https://localhost:8080/"
        },
        "id": "2w7SZYzY4pYH",
        "outputId": "570e2b81-2876-4c62-9a20-400e37723766"
      },
      "outputs": [
        {
          "data": {
            "text/plain": [
              "9"
            ]
          },
          "execution_count": 42,
          "metadata": {},
          "output_type": "execute_result"
        }
      ],
      "source": [
        "NUM_CLASSES = len(pd.DataFrame(train_labels).drop_duplicates())\n",
        "NUM_CLASSES"
      ]
    },
    {
      "cell_type": "code",
      "execution_count": 49,
      "metadata": {
        "id": "3m5mZ5ug48FY"
      },
      "outputs": [],
      "source": [
        "def build_model(max_len=MAXLEN): #                dropout_rate=0.2):\n",
        "    \"\"\" add multiclass classification to pretrained model\n",
        "    \"\"\"\n",
        "\n",
        "    input_word_ids = tf.keras.layers.Input(\n",
        "        shape=(max_len,), dtype=tf.int32, name=\"input_word_ids\"\n",
        "    )\n",
        "\n",
        "    bert_model = TFBertModel.from_pretrained(\"bert-base-german-cased\")\n",
        "    encoder_outputs = bert_model(input_word_ids)\n",
        "\n",
        "    ##########################\n",
        "    ## YOUR CODE HERE START ##\n",
        "    ##########################\n",
        "\n",
        "    # Either use last_hidden_state use pooler_output\n",
        "    # that were returned in encoder_outputs\n",
        "    last_hidden_state = encoder_outputs[0]\n",
        "    pooler_output = encoder_outputs[1]\n",
        "\n",
        "    # In this case we will use the cls_embedding\n",
        "    cls_embedding = pooler_output\n",
        "    # Adding a Dropout layer\n",
        "    #dropout_layer = tf.keras.layers.Dropout(rate=dropout_rate)(cls_embedding)\n",
        "\n",
        "    # Create a feed-forward neural network with one hidden layer\n",
        "    hidden = tf.keras.layers.Dense(128, activation='relu')(cls_embedding)\n",
        "    # Change the output dimension to match the number of classes\n",
        "    output = tf.keras.layers.Dense(NUM_CLASSES, activation='softmax')(hidden)\n",
        "\n",
        "    ##########################\n",
        "    ## YOUR CODE HERE END ##\n",
        "    ##########################\n",
        "\n",
        "    model = tf.keras.models.Model(inputs=input_word_ids, outputs=output)\n",
        "\n",
        "    return model\n"
      ]
    },
    {
      "cell_type": "markdown",
      "metadata": {
        "id": "4V3Xsj5l4pHI"
      },
      "source": []
    },
    {
      "cell_type": "code",
      "execution_count": 50,
      "metadata": {
        "colab": {
          "base_uri": "https://localhost:8080/"
        },
        "id": "gZpiH1gg-vzW",
        "outputId": "7bdd6184-a65a-4952-908e-acdb702e0112"
      },
      "outputs": [
        {
          "name": "stderr",
          "output_type": "stream",
          "text": [
            "Some weights of the PyTorch model were not used when initializing the TF 2.0 model TFBertModel: ['cls.predictions.transform.dense.bias', 'cls.predictions.transform.LayerNorm.bias', 'cls.predictions.bias', 'cls.seq_relationship.bias', 'cls.seq_relationship.weight', 'cls.predictions.transform.LayerNorm.weight', 'cls.predictions.transform.dense.weight']\n",
            "- This IS expected if you are initializing TFBertModel from a PyTorch model trained on another task or with another architecture (e.g. initializing a TFBertForSequenceClassification model from a BertForPreTraining model).\n",
            "- This IS NOT expected if you are initializing TFBertModel from a PyTorch model that you expect to be exactly identical (e.g. initializing a TFBertForSequenceClassification model from a BertForSequenceClassification model).\n",
            "All the weights of TFBertModel were initialized from the PyTorch model.\n",
            "If your task is similar to the task the model of the checkpoint was trained on, you can already use TFBertModel for predictions without further training.\n"
          ]
        },
        {
          "name": "stdout",
          "output_type": "stream",
          "text": [
            "Model: \"model_1\"\n",
            "_________________________________________________________________\n",
            " Layer (type)                Output Shape              Param #   \n",
            "=================================================================\n",
            " input_word_ids (InputLayer  [(None, 192)]             0         \n",
            " )                                                               \n",
            "                                                                 \n",
            " tf_bert_model_1 (TFBertMod  TFBaseModelOutputWithPo   109081344 \n",
            " el)                         olingAndCrossAttentions             \n",
            "                             (last_hidden_state=(Non             \n",
            "                             e, 192, 768),                       \n",
            "                              pooler_output=(None, 7             \n",
            "                             68),                                \n",
            "                              past_key_values=None,              \n",
            "                             hidden_states=None, att             \n",
            "                             entions=None, cross_att             \n",
            "                             entions=None)                       \n",
            "                                                                 \n",
            " dense_2 (Dense)             (None, 128)               98432     \n",
            "                                                                 \n",
            " dense_3 (Dense)             (None, 9)                 1161      \n",
            "                                                                 \n",
            "=================================================================\n",
            "Total params: 109180937 (416.49 MB)\n",
            "Trainable params: 109180937 (416.49 MB)\n",
            "Non-trainable params: 0 (0.00 Byte)\n",
            "_________________________________________________________________\n"
          ]
        }
      ],
      "source": [
        "model = build_model(max_len=MAXLEN)\n",
        "model.summary()"
      ]
    },
    {
      "cell_type": "code",
      "execution_count": 51,
      "metadata": {
        "id": "3EMOmzPc5ERe"
      },
      "outputs": [],
      "source": [
        "optimizer = tf.keras.optimizers.Adam(learning_rate=LEARNING_RATE)\n",
        "loss = loss=\"categorical_crossentropy\"\n",
        "\n",
        "model.compile(optimizer, loss=loss, metrics=[\"accuracy\"], jit_compile=True)"
      ]
    },
    {
      "cell_type": "code",
      "execution_count": 56,
      "metadata": {},
      "outputs": [
        {
          "name": "stdout",
          "output_type": "stream",
          "text": [
            "Epoch 1/8\n",
            "577/577 [==============================] - 8061s 14s/step - loss: 0.6522 - accuracy: 0.7963 - val_loss: 0.3523 - val_accuracy: 0.8833\n",
            "Epoch 2/8\n",
            "577/577 [==============================] - 7808s 14s/step - loss: 0.2684 - accuracy: 0.9123 - val_loss: 0.3188 - val_accuracy: 0.9027\n",
            "Epoch 3/8\n",
            "577/577 [==============================] - 7797s 14s/step - loss: 0.1506 - accuracy: 0.9529 - val_loss: 0.3403 - val_accuracy: 0.8979\n",
            "Epoch 4/8\n",
            "577/577 [==============================] - 7845s 14s/step - loss: 0.0832 - accuracy: 0.9749 - val_loss: 0.3680 - val_accuracy: 0.9047\n",
            "Epoch 5/8\n",
            "577/577 [==============================] - 7806s 14s/step - loss: 0.0454 - accuracy: 0.9879 - val_loss: 0.4565 - val_accuracy: 0.8988\n",
            "Epoch 6/8\n",
            "577/577 [==============================] - 7813s 14s/step - loss: 0.0360 - accuracy: 0.9899 - val_loss: 0.4349 - val_accuracy: 0.9018\n",
            "Epoch 7/8\n",
            "577/577 [==============================] - 8895s 15s/step - loss: 0.0208 - accuracy: 0.9943 - val_loss: 0.5818 - val_accuracy: 0.8911\n",
            "Epoch 8/8\n",
            "577/577 [==============================] - 10020s 17s/step - loss: 0.0193 - accuracy: 0.9946 - val_loss: 0.5171 - val_accuracy: 0.9037\n"
          ]
        }
      ],
      "source": [
        "from datetime import datetime  # Stellen Sie sicher, dass Sie datetime importiert haben\n",
        "\n",
        "# Ändern Sie den Log-Pfad\n",
        "log_dir = 'logs/' + datetime.now().strftime(\"%Y%m%d_%H%M%S\")\n",
        "\n",
        "hist = model.fit(\n",
        "    train_dataset,\n",
        "    batch_size=BATCH_SIZE,\n",
        "    epochs=EPOCHS,\n",
        "    validation_data=test_dataset,\n",
        "    steps_per_epoch=int(np.floor((len(input_ids_train) / BATCH_SIZE))),\n",
        "    verbose=1,\n",
        "    callbacks=[\n",
        "        tf.keras.callbacks.EarlyStopping(monitor=\"accuracy\", verbose=1, patience=1, restore_best_weights=True),\n",
        "        tf.keras.callbacks.TensorBoard(log_dir=log_dir)  # Verwenden Sie den geänderten Log-Pfad\n",
        "    ],\n",
        ")"
      ]
    },
    {
      "cell_type": "code",
      "execution_count": 60,
      "metadata": {
        "colab": {
          "background_save": true
        },
        "id": "I0TmWOwz8NoH"
      },
      "outputs": [
        {
          "data": {
            "text/plain": [
              "'\\n!pip install session-info\\nimport session_info\\nsession_info.show()\\n'"
            ]
          },
          "execution_count": 60,
          "metadata": {},
          "output_type": "execute_result"
        }
      ],
      "source": [
        "\"\"\"\n",
        "!pip install session-info\n",
        "import session_info\n",
        "session_info.show()\n",
        "\"\"\"\n"
      ]
    },
    {
      "cell_type": "code",
      "execution_count": 61,
      "metadata": {
        "colab": {
          "background_save": true
        },
        "id": "BQC2Ygxl6-4y"
      },
      "outputs": [
        {
          "data": {
            "text/html": [
              "<div>\n",
              "<style scoped>\n",
              "    .dataframe tbody tr th:only-of-type {\n",
              "        vertical-align: middle;\n",
              "    }\n",
              "\n",
              "    .dataframe tbody tr th {\n",
              "        vertical-align: top;\n",
              "    }\n",
              "\n",
              "    .dataframe thead th {\n",
              "        text-align: right;\n",
              "    }\n",
              "</style>\n",
              "<table border=\"1\" class=\"dataframe\">\n",
              "  <thead>\n",
              "    <tr style=\"text-align: right;\">\n",
              "      <th></th>\n",
              "      <th>loss</th>\n",
              "      <th>accuracy</th>\n",
              "      <th>val_loss</th>\n",
              "      <th>val_accuracy</th>\n",
              "    </tr>\n",
              "    <tr>\n",
              "      <th>epoch</th>\n",
              "      <th></th>\n",
              "      <th></th>\n",
              "      <th></th>\n",
              "      <th></th>\n",
              "    </tr>\n",
              "  </thead>\n",
              "  <tbody>\n",
              "    <tr>\n",
              "      <th>0</th>\n",
              "      <td>0.652209</td>\n",
              "      <td>0.796252</td>\n",
              "      <td>0.352344</td>\n",
              "      <td>0.883268</td>\n",
              "    </tr>\n",
              "    <tr>\n",
              "      <th>1</th>\n",
              "      <td>0.268431</td>\n",
              "      <td>0.912262</td>\n",
              "      <td>0.318774</td>\n",
              "      <td>0.902724</td>\n",
              "    </tr>\n",
              "    <tr>\n",
              "      <th>2</th>\n",
              "      <td>0.150560</td>\n",
              "      <td>0.952881</td>\n",
              "      <td>0.340259</td>\n",
              "      <td>0.897860</td>\n",
              "    </tr>\n",
              "    <tr>\n",
              "      <th>3</th>\n",
              "      <td>0.083183</td>\n",
              "      <td>0.974870</td>\n",
              "      <td>0.367999</td>\n",
              "      <td>0.904669</td>\n",
              "    </tr>\n",
              "    <tr>\n",
              "      <th>4</th>\n",
              "      <td>0.045398</td>\n",
              "      <td>0.987868</td>\n",
              "      <td>0.456498</td>\n",
              "      <td>0.898833</td>\n",
              "    </tr>\n",
              "    <tr>\n",
              "      <th>5</th>\n",
              "      <td>0.035990</td>\n",
              "      <td>0.989926</td>\n",
              "      <td>0.434878</td>\n",
              "      <td>0.901751</td>\n",
              "    </tr>\n",
              "    <tr>\n",
              "      <th>6</th>\n",
              "      <td>0.020777</td>\n",
              "      <td>0.994259</td>\n",
              "      <td>0.581790</td>\n",
              "      <td>0.891051</td>\n",
              "    </tr>\n",
              "    <tr>\n",
              "      <th>7</th>\n",
              "      <td>0.019308</td>\n",
              "      <td>0.994584</td>\n",
              "      <td>0.517145</td>\n",
              "      <td>0.903696</td>\n",
              "    </tr>\n",
              "  </tbody>\n",
              "</table>\n",
              "</div>"
            ],
            "text/plain": [
              "           loss  accuracy  val_loss  val_accuracy\n",
              "epoch                                            \n",
              "0      0.652209  0.796252  0.352344      0.883268\n",
              "1      0.268431  0.912262  0.318774      0.902724\n",
              "2      0.150560  0.952881  0.340259      0.897860\n",
              "3      0.083183  0.974870  0.367999      0.904669\n",
              "4      0.045398  0.987868  0.456498      0.898833\n",
              "5      0.035990  0.989926  0.434878      0.901751\n",
              "6      0.020777  0.994259  0.581790      0.891051\n",
              "7      0.019308  0.994584  0.517145      0.903696"
            ]
          },
          "execution_count": 61,
          "metadata": {},
          "output_type": "execute_result"
        }
      ],
      "source": [
        "history = pd.DataFrame({'epoch': hist.epoch, **hist.history}).set_index('epoch')\n",
        "history"
      ]
    },
    {
      "cell_type": "markdown",
      "metadata": {
        "id": "-CvjgC1Abhlt"
      },
      "source": [
        "\t0.014772\t0.995451\t0.537464\t0.899805 war vorher"
      ]
    },
    {
      "cell_type": "code",
      "execution_count": null,
      "metadata": {
        "colab": {
          "background_save": true
        },
        "id": "Lx2O25_qbgro"
      },
      "outputs": [],
      "source": []
    },
    {
      "cell_type": "code",
      "execution_count": 62,
      "metadata": {
        "colab": {
          "background_save": true
        },
        "id": "Yj-tK5rxAnM6"
      },
      "outputs": [
        {
          "data": {
            "text/plain": [
              "<Axes: xlabel='epoch'>"
            ]
          },
          "execution_count": 62,
          "metadata": {},
          "output_type": "execute_result"
        },
        {
          "data": {
            "image/png": "[encoded data removed]",
            "text/plain": [
              "<Figure size 640x480 with 1 Axes>"
            ]
          },
          "metadata": {},
          "output_type": "display_data"
        }
      ],
      "source": [
        "history.plot()"
      ]
    },
    {
      "cell_type": "code",
      "execution_count": 65,
      "metadata": {
        "colab": {
          "background_save": true
        },
        "id": "Q0zQKdmXNAuX"
      },
      "outputs": [
        {
          "name": "stdout",
          "output_type": "stream",
          "text": [
            "33/33 [==============================] - 274s 8s/step\n"
          ]
        }
      ],
      "source": [
        "result = model.predict(test_ids)\n"
      ]
    },
    {
      "cell_type": "code",
      "execution_count": 66,
      "metadata": {
        "colab": {
          "background_save": true
        },
        "id": "NPE4rbVKTMwW"
      },
      "outputs": [],
      "source": [
        "result = result > .5\n",
        "y_pred = result.astype(int)\n",
        "y_true = test_labels"
      ]
    },
    {
      "cell_type": "code",
      "execution_count": 67,
      "metadata": {
        "colab": {
          "background_save": true
        },
        "id": "RfGjbmB_WYbU"
      },
      "outputs": [],
      "source": [
        "l = list(label_binarizer.classes_)"
      ]
    },
    {
      "cell_type": "code",
      "execution_count": 68,
      "metadata": {
        "colab": {
          "background_save": true
        },
        "id": "bFpELcudWgsV"
      },
      "outputs": [
        {
          "data": {
            "text/plain": [
              "array([[[954,   7],\n",
              "        [ 10,  57]],\n",
              "\n",
              "       [[917,   9],\n",
              "        [ 15,  87]],\n",
              "\n",
              "       [[865,  12],\n",
              "        [ 26, 125]],\n",
              "\n",
              "       [[965,   9],\n",
              "        [  5,  49]],\n",
              "\n",
              "       [[831,  29],\n",
              "        [ 25, 143]],\n",
              "\n",
              "       [[907,   1],\n",
              "        [  0, 120]],\n",
              "\n",
              "       [[856,   4],\n",
              "        [  5, 163]],\n",
              "\n",
              "       [[863,  24],\n",
              "        [  9, 132]],\n",
              "\n",
              "       [[965,   6],\n",
              "        [  8,  49]]], dtype=int64)"
            ]
          },
          "execution_count": 68,
          "metadata": {},
          "output_type": "execute_result"
        }
      ],
      "source": [
        "\n",
        "conf = multilabel_confusion_matrix(y_true, y_pred)\n",
        "\n",
        "conf"
      ]
    }
  ],
  "metadata": {
    "accelerator": "GPU",
    "colab": {
      "provenance": []
    },
    "kernelspec": {
      "display_name": "Python 3",
      "name": "python3"
    },
    "language_info": {
      "codemirror_mode": {
        "name": "ipython",
        "version": 3
      },
      "file_extension": ".py",
      "mimetype": "text/x-python",
      "name": "python",
      "nbconvert_exporter": "python",
      "pygments_lexer": "ipython3",
      "version": "3.9.6"
    }
  },
  "nbformat": 4,
  "nbformat_minor": 0
}
