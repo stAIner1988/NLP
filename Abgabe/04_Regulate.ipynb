{
 "cells": [
  {
   "cell_type": "code",
   "execution_count": 3,
   "metadata": {},
   "outputs": [],
   "source": [
    "#%%capture\n",
    "\n",
    "#!pip install 'fhnw-nlp-utils>=0.8.0,<0.9.0'\n",
    "#!pip install transformers\n",
    "from fhnw.nlp.utils.processing import parallelize_dataframe\n",
    "from fhnw.nlp.utils.processing import is_iterable\n",
    "from fhnw.nlp.utils.storage import download\n",
    "from fhnw.nlp.utils.storage import save_dataframe\n",
    "from fhnw.nlp.utils.storage import load_dataframe\n",
    "import pandas as pd\n",
    "import numpy as np\n",
    "import re\n",
    "import tqdm\n",
    "from datetime import datetime\n",
    "#from transformers import AutoTokenizer, TFAutoModel\n",
    "import pandas as pd\n",
    "import numpy as np\n",
    "import seaborn as sns\n",
    "from sklearn.metrics import confusion_matrix, ConfusionMatrixDisplay\n",
    "from sklearn.metrics import multilabel_confusion_matrix\n",
    "import matplotlib.pyplot as plt\n",
    "import tensorflow as tf\n",
    "#from transformers import BertTokenizer, TFBertModel\n",
    "from sklearn import metrics\n",
    "from sklearn.model_selection import train_test_split\n",
    "from sklearn.preprocessing import LabelBinarizer\n",
    "import re\n",
    "from sklearn.ensemble import GradientBoostingClassifier\n",
    "from sklearn.model_selection import GridSearchCV\n",
    "from sklearn.ensemble import RandomForestClassifier\n",
    "from imblearn.over_sampling import SMOTE\n",
    "from sklearn.feature_extraction.text import TfidfVectorizer\n",
    "from sklearn.linear_model import SGDClassifier\n",
    "from sklearn.pipeline import Pipeline\n",
    "from fhnw.nlp.utils.preprocess import preprocess\n",
    "from sklearn.metrics import accuracy_score, f1_score, roc_auc_score ,precision_score, make_scorer, recall_score\n",
    "tqdm.tqdm.pandas()\n",
    "sns.set_style('whitegrid')\n",
    "\n",
    "pd.options.display.max_colwidth = 600\n",
    "pd.options.display.max_rows = 400\n"
   ]
  },
  {
   "cell_type": "markdown",
   "metadata": {},
   "source": [
    "Laden der Daten"
   ]
  },
  {
   "cell_type": "code",
   "execution_count": 4,
   "metadata": {},
   "outputs": [],
   "source": [
    "file = \"data/german_news_articles_original_train.parq\"\n",
    "download(\"https://drive.switch.ch/index.php/s/mRnuzx4BLpMLqyz/download\", file)\n",
    "data_train = load_dataframe(file)\n",
    "\n",
    "file = \"data/german_news_articles_original_test.parq\"\n",
    "download(\"https://drive.switch.ch/index.php/s/DKUnZraeGp3EIK3/download\", file)\n",
    "data_test = load_dataframe(file)\n",
    "\n",
    "\n",
    "data_train[\"split\"] = \"train\"\n",
    "data_test[\"split\"] = \"test\"\n",
    "data_all = pd.concat([data_train, data_test])\n",
    "data = data_train"
   ]
  },
  {
   "cell_type": "code",
   "execution_count": 5,
   "metadata": {},
   "outputs": [],
   "source": [
    "data_all = data_all.drop([\"text\"], axis=1, errors='ignore')"
   ]
  },
  {
   "cell_type": "code",
   "execution_count": 6,
   "metadata": {},
   "outputs": [],
   "source": [
    "from sklearn.preprocessing import LabelEncoder\n",
    "le = LabelEncoder()\n",
    "label_code = le.fit(data_train['label'].drop_duplicates())\n",
    "#y_train "
   ]
  },
  {
   "cell_type": "code",
   "execution_count": 7,
   "metadata": {},
   "outputs": [
    {
     "data": {
      "text/html": [
       "<div>\n",
       "<style scoped>\n",
       "    .dataframe tbody tr th:only-of-type {\n",
       "        vertical-align: middle;\n",
       "    }\n",
       "\n",
       "    .dataframe tbody tr th {\n",
       "        vertical-align: top;\n",
       "    }\n",
       "\n",
       "    .dataframe thead th {\n",
       "        text-align: right;\n",
       "    }\n",
       "</style>\n",
       "<table border=\"1\" class=\"dataframe\">\n",
       "  <thead>\n",
       "    <tr style=\"text-align: right;\">\n",
       "      <th></th>\n",
       "      <th>label</th>\n",
       "    </tr>\n",
       "  </thead>\n",
       "  <tbody>\n",
       "    <tr>\n",
       "      <th>0</th>\n",
       "      <td>Sport</td>\n",
       "    </tr>\n",
       "    <tr>\n",
       "      <th>1</th>\n",
       "      <td>Kultur</td>\n",
       "    </tr>\n",
       "    <tr>\n",
       "      <th>2</th>\n",
       "      <td>Web</td>\n",
       "    </tr>\n",
       "    <tr>\n",
       "      <th>3</th>\n",
       "      <td>Wirtschaft</td>\n",
       "    </tr>\n",
       "    <tr>\n",
       "      <th>4</th>\n",
       "      <td>Inland</td>\n",
       "    </tr>\n",
       "    <tr>\n",
       "      <th>5</th>\n",
       "      <td>Etat</td>\n",
       "    </tr>\n",
       "    <tr>\n",
       "      <th>6</th>\n",
       "      <td>International</td>\n",
       "    </tr>\n",
       "    <tr>\n",
       "      <th>7</th>\n",
       "      <td>Panorama</td>\n",
       "    </tr>\n",
       "    <tr>\n",
       "      <th>8</th>\n",
       "      <td>Wissenschaft</td>\n",
       "    </tr>\n",
       "  </tbody>\n",
       "</table>\n",
       "</div>"
      ],
      "text/plain": [
       "           label\n",
       "0          Sport\n",
       "1         Kultur\n",
       "2            Web\n",
       "3     Wirtschaft\n",
       "4         Inland\n",
       "5           Etat\n",
       "6  International\n",
       "7       Panorama\n",
       "8   Wissenschaft"
      ]
     },
     "execution_count": 7,
     "metadata": {},
     "output_type": "execute_result"
    }
   ],
   "source": [
    "label = pd.DataFrame(data_train['label'].drop_duplicates(inplace=False))\n",
    "label.reset_index(inplace = True, drop = True)\n",
    "label"
   ]
  },
  {
   "cell_type": "markdown",
   "metadata": {},
   "source": [
    "Vorbereiten der Daten und kurzer check der längen."
   ]
  },
  {
   "cell_type": "code",
   "execution_count": 8,
   "metadata": {},
   "outputs": [],
   "source": [
    "def clean_text(text, keep_punctuation=False):\n",
    "    \"\"\"Cleans text by removing html tags, non ascii chars, digits and optionally punctuation\"\"\"\n",
    "\n",
    "\n",
    "\n",
    "    # Compile RE pattern for HTTPS address, then Substitute it for blank\n",
    "    RE_HTTPS = re.compile(r\"https?://\\S+ \")\n",
    "    text = re.sub(RE_HTTPS, \"\", text)\n",
    "\n",
    "    # Subsitute twitter picutures for blank\n",
    "    text = re.sub(r'pic.twitter.com/[\\w]*',\"\", text)\n",
    "\n",
    "    # Subsitute multiple points space for 1 point\n",
    "    text = re.sub(r\"\\(?[.][.]+\\)?\", \".\", text)\n",
    "\n",
    "    # Compile RE pattern for HTML tags, then Substitute it for blank\n",
    "    RE_TAGS = re.compile(r\"<[^>]+>\")\n",
    "    text = re.sub(RE_TAGS, \" \", text)\n",
    "\n",
    "    # Compile RE patterns for general text, including punctuation rule\n",
    "    if keep_punctuation:\n",
    "        RE_ASCII = re.compile(r\"[^a-züöä,.!?]\", re.IGNORECASE)\n",
    "        RE_SINGLECHAR = re.compile(r\"\\b[a-züöä,.!?]\\b\", re.IGNORECASE)\n",
    "    else:\n",
    "        RE_ASCII = re.compile(r\"[^A-Za-zÀ-ž ]\", re.IGNORECASE)\n",
    "        RE_SINGLECHAR = re.compile(r\"\\b[A-Za-zÀ-ž]\\b\", re.IGNORECASE)\n",
    "\n",
    "    # keep only ASCII + European Chars and whitespace, no digits\n",
    "    text = re.sub(RE_ASCII, \" \", text)\n",
    "    # convert all whitespaces (tabs etc.) to single wspace\n",
    "    text = re.sub(RE_SINGLECHAR, \" \", text)\n",
    "\n",
    "    # Subsitute multiple blank space for 1 blank space\n",
    "    text = re.sub(r\"\\s+\", \" \", text)\n",
    "\n",
    "    # Subsitute double punctuation (left-over after previous subsitutions) for 1 point\n",
    "    text = re.sub(r\" [.,]+ [,.]+\", \".\", text)\n",
    "\n",
    "    return text"
   ]
  },
  {
   "cell_type": "code",
   "execution_count": 9,
   "metadata": {},
   "outputs": [
    {
     "name": "stdout",
     "output_type": "stream",
     "text": [
      "9245 1028 1028\n"
     ]
    }
   ],
   "source": [
    "X_train = data['text_original'] #.apply(clean_text, keep_punctuation = True) -> getestet, gibt schlechtere Resultate\n",
    "X_test = data_test['text_original'] #.apply(clean_text, keep_punctuation = True)-> getestet, gibt schlechtere Resultate\n",
    "y_train = label_code.transform(data['label'])\n",
    "y_true = label_code.transform(data_test['label'])\n",
    "print(len(y_train),len(y_true), len(X_test))\n"
   ]
  },
  {
   "cell_type": "markdown",
   "metadata": {},
   "source": [
    "# Tensorflow Regulate"
   ]
  },
  {
   "cell_type": "code",
   "execution_count": 10,
   "metadata": {},
   "outputs": [],
   "source": [
    "vocab_size = 10000\n",
    "BATCH_SIZE = 16\n",
    "EPOCHS = 8\n",
    "LEARNING_RATE = 1e-5\n",
    "NEURON = 2**5\n",
    "l2_reg = 1e-3\n",
    "DROP = .5\n"
   ]
  },
  {
   "cell_type": "code",
   "execution_count": 11,
   "metadata": {},
   "outputs": [
    {
     "data": {
      "text/plain": [
       "\"\\ntfidf_vectorizer = tf.keras.layers.TextVectorization(\\n    max_tokens=vocab_size,\\n    output_mode='tf-idf',\\n    ngrams=(2, 3)\\n)\\ntfidf_vectorizer.adapt(X_train.values)\\n# Define the neural network architecture\\nmodel = tf.keras.Sequential([\\n    tfidf_vectorizer,\\n    tf.keras.layers.Dense(32, activation='relu', input_shape=(vocab_size,)),  # Hidden layer with ReLU activation\\n    tf.keras.layers.Dense(9, activation='softmax')  # Output layer with softmax activation for multi-class classification\\n])\\n\\n# Compile the model\\nmodel.compile(loss='sparse_categorical_crossentropy', optimizer='adam', metrics=['accuracy'])\\nmodel.summary()\\n\""
      ]
     },
     "execution_count": 11,
     "metadata": {},
     "output_type": "execute_result"
    }
   ],
   "source": [
    "tf.keras.layers.TextVectorization(\n",
    "    max_tokens=None,\n",
    "    standardize='lower_and_strip_punctuation',\n",
    "    split='whitespace',\n",
    "    ngrams=None,\n",
    "    output_mode='int',\n",
    "    output_sequence_length=None,\n",
    "    pad_to_max_tokens=False,\n",
    "    vocabulary=None,\n",
    "    idf_weights=None,\n",
    "    sparse=False,\n",
    "    ragged=False,\n",
    "    encoding='utf-8',\n",
    ")\n",
    "\n",
    "count_vectorizer = tf.keras.layers.TextVectorization(\n",
    "    max_tokens=vocab_size,\n",
    "    output_mode='count'\n",
    ")\n",
    "\n",
    "count_vectorizer.adapt(X_train.values)\n",
    "\n",
    "\"\"\"\n",
    "tfidf_vectorizer = tf.keras.layers.TextVectorization(\n",
    "    max_tokens=vocab_size,\n",
    "    output_mode='tf-idf',\n",
    "    ngrams=(2, 3)\n",
    ")\n",
    "tfidf_vectorizer.adapt(X_train.values)\n",
    "# Define the neural network architecture\n",
    "model = tf.keras.Sequential([\n",
    "    tfidf_vectorizer,\n",
    "    tf.keras.layers.Dense(32, activation='relu', input_shape=(vocab_size,)),  # Hidden layer with ReLU activation\n",
    "    tf.keras.layers.Dense(9, activation='softmax')  # Output layer with softmax activation for multi-class classification\n",
    "])\n",
    "\n",
    "# Compile the model\n",
    "model.compile(loss='sparse_categorical_crossentropy', optimizer='adam', metrics=['accuracy'])\n",
    "model.summary()\n",
    "\"\"\""
   ]
  },
  {
   "cell_type": "code",
   "execution_count": 12,
   "metadata": {},
   "outputs": [],
   "source": [
    "train_dataset = (tf.data.Dataset.from_tensor_slices((X_train.values, y_train))\n",
    "                    .shuffle(buffer_size=len(X_train.values), reshuffle_each_iteration=True)\n",
    "                    .repeat(EPOCHS)\n",
    "                    .batch(BATCH_SIZE))\n",
    "test_dataset = (tf.data.Dataset.from_tensor_slices((X_test.values, y_true))\n",
    "                    .batch(BATCH_SIZE))"
   ]
  },
  {
   "cell_type": "code",
   "execution_count": 13,
   "metadata": {},
   "outputs": [],
   "source": [
    "label_binarizer = LabelBinarizer()\n",
    "label_binarizer.fit(data_all[\"label\"])\n",
    "y_true=label_binarizer.transform(data_test['label'])"
   ]
  },
  {
   "cell_type": "code",
   "execution_count": 14,
   "metadata": {},
   "outputs": [],
   "source": [
    "from tensorflow.keras import regularizers\n",
    "\n",
    "\n",
    "\n",
    "# Build the model\n",
    "def create_model(NEURON,DROP,l2_reg,vocab_size):\n",
    "    model = tf.keras.Sequential([\n",
    "        count_vectorizer,\n",
    "        tf.keras.layers.Dense(2*NEURON, activation='relu', input_shape=(vocab_size,), kernel_regularizer=regularizers.l2(l2_reg)),\n",
    "        tf.keras.layers.Dropout(DROP),  # Adding dropout for regularization\n",
    "        tf.keras.layers.Dense(NEURON, activation='relu', kernel_regularizer=regularizers.l2(l2_reg)),\n",
    "        tf.keras.layers.Dropout(DROP),\n",
    "        tf.keras.layers.Dense(NEURON, activation='relu', kernel_regularizer=regularizers.l2(l2_reg)),\n",
    "        tf.keras.layers.Dropout(DROP),\n",
    "        tf.keras.layers.Dense(NEURON//2, activation='relu', kernel_regularizer=regularizers.l2(l2_reg)),\n",
    "        tf.keras.layers.Dropout(DROP),\n",
    "        tf.keras.layers.Dense(9, activation='softmax')\n",
    "    ])\n",
    "\n",
    "    # Compile the model\n",
    "    model.compile(optimizer='adam', loss='sparse_categorical_crossentropy', metrics=['accuracy'])\n",
    "\n",
    "    # Compile the model\n",
    "    model.summary()\n",
    "    return model\n",
    "\n"
   ]
  },
  {
   "cell_type": "code",
   "execution_count": 15,
   "metadata": {},
   "outputs": [
    {
     "name": "stdout",
     "output_type": "stream",
     "text": [
      "Model: \"sequential\"\n",
      "_________________________________________________________________\n",
      " Layer (type)                Output Shape              Param #   \n",
      "=================================================================\n",
      " text_vectorization_1 (Text  (None, 10000)             0         \n",
      " Vectorization)                                                  \n",
      "                                                                 \n",
      " dense (Dense)               (None, 64)                640064    \n",
      "                                                                 \n",
      " dropout (Dropout)           (None, 64)                0         \n",
      "                                                                 \n",
      " dense_1 (Dense)             (None, 32)                2080      \n",
      "                                                                 \n",
      " dropout_1 (Dropout)         (None, 32)                0         \n",
      "                                                                 \n",
      " dense_2 (Dense)             (None, 32)                1056      \n",
      "                                                                 \n",
      " dropout_2 (Dropout)         (None, 32)                0         \n",
      "                                                                 \n",
      " dense_3 (Dense)             (None, 16)                528       \n",
      "                                                                 \n",
      " dropout_3 (Dropout)         (None, 16)                0         \n",
      "                                                                 \n",
      " dense_4 (Dense)             (None, 9)                 153       \n",
      "                                                                 \n",
      "=================================================================\n",
      "Total params: 643881 (2.46 MB)\n",
      "Trainable params: 643881 (2.46 MB)\n",
      "Non-trainable params: 0 (0.00 Byte)\n",
      "_________________________________________________________________\n"
     ]
    }
   ],
   "source": [
    "model = create_model(NEURON,DROP,l2_reg,vocab_size)\n"
   ]
  },
  {
   "cell_type": "code",
   "execution_count": 18,
   "metadata": {},
   "outputs": [
    {
     "name": "stdout",
     "output_type": "stream",
     "text": [
      "Epoch 1/12\n",
      "4623/4623 [==============================] - 50s 11ms/step - loss: 1.9170 - accuracy: 0.3270 - val_loss: 1.5461 - val_accuracy: 0.5000\n",
      "Epoch 2/12\n",
      "4623/4623 [==============================] - 63s 14ms/step - loss: 1.6617 - accuracy: 0.4294 - val_loss: 1.4917 - val_accuracy: 0.5224\n",
      "Epoch 3/12\n",
      "4623/4623 [==============================] - 60s 13ms/step - loss: 1.6375 - accuracy: 0.4377 - val_loss: 1.5637 - val_accuracy: 0.4844\n",
      "Epoch 4/12\n",
      "4623/4623 [==============================] - 70s 15ms/step - loss: 1.6305 - accuracy: 0.4400 - val_loss: 1.5397 - val_accuracy: 0.5117\n",
      "Epoch 5/12\n",
      "4623/4623 [==============================] - 66s 14ms/step - loss: 1.6311 - accuracy: 0.4421 - val_loss: 1.5577 - val_accuracy: 0.5088\n",
      "Epoch 6/12\n",
      "4623/4623 [==============================] - 59s 13ms/step - loss: 1.6307 - accuracy: 0.4414 - val_loss: 1.5698 - val_accuracy: 0.5088\n",
      "Epoch 7/12\n",
      "4623/4623 [==============================] - 57s 12ms/step - loss: 1.6234 - accuracy: 0.4449 - val_loss: 1.5763 - val_accuracy: 0.4883\n",
      "Epoch 8/12\n",
      "4623/4623 [==============================] - 56s 12ms/step - loss: 1.6316 - accuracy: 0.4436 - val_loss: 1.5838 - val_accuracy: 0.4942\n",
      "Epoch 9/12\n",
      "4623/4623 [==============================] - ETA: 0s - loss: 1.6388 - accuracy: 0.4428Restoring model weights from the end of the best epoch: 7.\n",
      "4623/4623 [==============================] - 56s 12ms/step - loss: 1.6388 - accuracy: 0.4428 - val_loss: 1.5706 - val_accuracy: 0.4903\n",
      "Epoch 9: early stopping\n"
     ]
    }
   ],
   "source": [
    "history = model.fit(\n",
    "    train_dataset,\n",
    "    steps_per_epoch=len(train_dataset),\n",
    "    epochs=int(1.5*EPOCHS),\n",
    "    validation_data=test_dataset,\n",
    "    validation_steps=len(test_dataset),\n",
    "    verbose=1,\n",
    "    callbacks=[\n",
    "        tf.keras.callbacks.EarlyStopping(monitor=\"accuracy\", verbose=1, patience=2, restore_best_weights=True)\n",
    "    ],\n",
    ")"
   ]
  },
  {
   "cell_type": "code",
   "execution_count": 19,
   "metadata": {},
   "outputs": [
    {
     "data": {
      "text/plain": [
       "<AxesSubplot: xlabel='epoch'>"
      ]
     },
     "execution_count": 19,
     "metadata": {},
     "output_type": "execute_result"
    },
    {
     "data": {
      "image/png": "[encoded data removed]",
      "text/plain": [
       "<Figure size 640x480 with 1 Axes>"
      ]
     },
     "metadata": {},
     "output_type": "display_data"
    }
   ],
   "source": [
    "history_df = pd.DataFrame({'epoch': history.epoch, **history.history}).set_index('epoch')\n",
    "history_df.plot()"
   ]
  },
  {
   "cell_type": "code",
   "execution_count": null,
   "metadata": {},
   "outputs": [
    {
     "name": "stdout",
     "output_type": "stream",
     "text": [
      "33/33 [==============================] - 1s 10ms/step\n",
      "Accuracy: 0.48249027237354086\n",
      "F1-Score: 0.41475819598988584\n",
      "Recall: 0.37446264275910607\n",
      "Precision: 0.46762209904063506\n"
     ]
    },
    {
     "name": "stderr",
     "output_type": "stream",
     "text": [
      "c:\\Users\\reto.steiner\\.pyenv\\pyenv-win\\versions\\3.9.6\\lib\\site-packages\\sklearn\\metrics\\_classification.py:1344: UndefinedMetricWarning: Precision is ill-defined and being set to 0.0 in labels with no predicted samples. Use `zero_division` parameter to control this behavior.\n",
      "  _warn_prf(average, modifier, msg_start, len(result))\n"
     ]
    }
   ],
   "source": [
    "result = model.predict(X_test.values)\n",
    "result = result > .5\n",
    "y_pred = result.astype(int)\n",
    "acc = accuracy_score(y_true, y_pred)\n",
    "f1 = f1_score(y_true, y_pred,average='macro')\n",
    "#roc_auc = roc_auc_score(y_true, y_pred, average='ovs')\n",
    "prec = precision_score(y_true, y_pred,average='macro')\n",
    "rec = recall_score(y_true, y_pred,average='macro')\n",
    "print('Accuracy:', acc)\n",
    "print('F1-Score:', f1)\n",
    "#print('ROC-AUC:', roc_auc)\n",
    "print('Recall:', rec)\n",
    "print('Precision:', prec)"
   ]
  },
  {
   "cell_type": "markdown",
   "metadata": {},
   "source": [
    "# Fazit\n",
    "Regularisierung zu stark. Tune das Modell mit Gridsearch im nächsten Notebook. Rechenaufwand wird gross."
   ]
  }
 ],
 "metadata": {
  "kernelspec": {
   "display_name": ".venv",
   "language": "python",
   "name": "python3"
  },
  "language_info": {
   "codemirror_mode": {
    "name": "ipython",
    "version": 3
   },
   "file_extension": ".py",
   "mimetype": "text/x-python",
   "name": "python",
   "nbconvert_exporter": "python",
   "pygments_lexer": "ipython3",
   "version": "3.9.6"
  }
 },
 "nbformat": 4,
 "nbformat_minor": 2
}
